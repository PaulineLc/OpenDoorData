{
 "cells": [
  {
   "cell_type": "code",
   "execution_count": 1,
   "metadata": {
    "collapsed": true
   },
   "outputs": [],
   "source": [
    "import pandas as pd"
   ]
  },
  {
   "cell_type": "markdown",
   "metadata": {},
   "source": [
    "Read files"
   ]
  },
  {
   "cell_type": "code",
   "execution_count": 36,
   "metadata": {
    "collapsed": false
   },
   "outputs": [
    {
     "name": "stdout",
     "output_type": "stream",
     "text": [
      "Data analytics notebook.ipynb\r\n"
     ]
    }
   ],
   "source": [
    "%ls"
   ]
  },
  {
   "cell_type": "code",
   "execution_count": 37,
   "metadata": {
    "collapsed": false
   },
   "outputs": [
    {
     "data": {
      "text/html": [
       "<div>\n",
       "<table border=\"1\" class=\"dataframe\">\n",
       "  <thead>\n",
       "    <tr style=\"text-align: right;\">\n",
       "      <th></th>\n",
       "      <th>room</th>\n",
       "      <th>event_time</th>\n",
       "      <th>detec1</th>\n",
       "      <th>detec2</th>\n",
       "    </tr>\n",
       "  </thead>\n",
       "  <tbody>\n",
       "    <tr>\n",
       "      <th>0</th>\n",
       "      <td>Belfield &gt; Computer Science &gt; B-002</td>\n",
       "      <td>Mon Nov 02 20:32:06 GMT+00:00 2015</td>\n",
       "      <td>0</td>\n",
       "      <td>0</td>\n",
       "    </tr>\n",
       "    <tr>\n",
       "      <th>1</th>\n",
       "      <td>Belfield &gt; Computer Science &gt; B-002</td>\n",
       "      <td>Mon Nov 02 20:37:10 GMT+00:00 2015</td>\n",
       "      <td>0</td>\n",
       "      <td>0</td>\n",
       "    </tr>\n",
       "    <tr>\n",
       "      <th>2</th>\n",
       "      <td>Belfield &gt; Computer Science &gt; B-002</td>\n",
       "      <td>Mon Nov 02 20:42:12 GMT+00:00 2015</td>\n",
       "      <td>0</td>\n",
       "      <td>0</td>\n",
       "    </tr>\n",
       "    <tr>\n",
       "      <th>3</th>\n",
       "      <td>Belfield &gt; Computer Science &gt; B-002</td>\n",
       "      <td>Mon Nov 02 20:47:14 GMT+00:00 2015</td>\n",
       "      <td>0</td>\n",
       "      <td>0</td>\n",
       "    </tr>\n",
       "    <tr>\n",
       "      <th>4</th>\n",
       "      <td>Belfield &gt; Computer Science &gt; B-002</td>\n",
       "      <td>Mon Nov 02 20:52:11 GMT+00:00 2015</td>\n",
       "      <td>0</td>\n",
       "      <td>0</td>\n",
       "    </tr>\n",
       "  </tbody>\n",
       "</table>\n",
       "</div>"
      ],
      "text/plain": [
       "                                  room                          event_time  \\\n",
       "0  Belfield > Computer Science > B-002  Mon Nov 02 20:32:06 GMT+00:00 2015   \n",
       "1  Belfield > Computer Science > B-002  Mon Nov 02 20:37:10 GMT+00:00 2015   \n",
       "2  Belfield > Computer Science > B-002  Mon Nov 02 20:42:12 GMT+00:00 2015   \n",
       "3  Belfield > Computer Science > B-002  Mon Nov 02 20:47:14 GMT+00:00 2015   \n",
       "4  Belfield > Computer Science > B-002  Mon Nov 02 20:52:11 GMT+00:00 2015   \n",
       "\n",
       "   detec1  detec2  \n",
       "0       0       0  \n",
       "1       0       0  \n",
       "2       0       0  \n",
       "3       0       0  \n",
       "4       0       0  "
      ]
     },
     "execution_count": 37,
     "metadata": {},
     "output_type": "execute_result"
    }
   ],
   "source": [
    "wifi_log_data = pd.read_csv(\"../cleaned_data/full.csv\", names=[\"room\", \"event_time\", \"detec1\", \"detec2\"])\n",
    "wifi_log_data.head()"
   ]
  },
  {
   "cell_type": "code",
   "execution_count": 38,
   "metadata": {
    "collapsed": false
   },
   "outputs": [
    {
     "data": {
      "text/html": [
       "<div>\n",
       "<table border=\"1\" class=\"dataframe\">\n",
       "  <thead>\n",
       "    <tr style=\"text-align: right;\">\n",
       "      <th></th>\n",
       "      <th>room</th>\n",
       "      <th>event_time</th>\n",
       "      <th>detec1</th>\n",
       "      <th>detec2</th>\n",
       "    </tr>\n",
       "  </thead>\n",
       "  <tbody>\n",
       "    <tr>\n",
       "      <th>12412</th>\n",
       "      <td>Belfield &gt; Computer Science &gt; B-004</td>\n",
       "      <td>Tue Nov 17 11:01:59 GMT+00:00 2015</td>\n",
       "      <td>18</td>\n",
       "      <td>18</td>\n",
       "    </tr>\n",
       "    <tr>\n",
       "      <th>12413</th>\n",
       "      <td>Belfield &gt; Computer Science &gt; B-004</td>\n",
       "      <td>Tue Nov 17 11:06:37 GMT+00:00 2015</td>\n",
       "      <td>32</td>\n",
       "      <td>32</td>\n",
       "    </tr>\n",
       "    <tr>\n",
       "      <th>12414</th>\n",
       "      <td>Belfield &gt; Computer Science &gt; B-004</td>\n",
       "      <td>Tue Nov 17 11:13:19 GMT+00:00 2015</td>\n",
       "      <td>39</td>\n",
       "      <td>39</td>\n",
       "    </tr>\n",
       "    <tr>\n",
       "      <th>12415</th>\n",
       "      <td>Belfield &gt; Computer Science &gt; B-004</td>\n",
       "      <td>Tue Nov 17 11:21:11 GMT+00:00 2015</td>\n",
       "      <td>42</td>\n",
       "      <td>42</td>\n",
       "    </tr>\n",
       "    <tr>\n",
       "      <th>12416</th>\n",
       "      <td>Belfield &gt; Computer Science &gt; B-004</td>\n",
       "      <td>Tue Nov 17 11:26:07 GMT+00:00 2015</td>\n",
       "      <td>46</td>\n",
       "      <td>46</td>\n",
       "    </tr>\n",
       "  </tbody>\n",
       "</table>\n",
       "</div>"
      ],
      "text/plain": [
       "                                      room  \\\n",
       "12412  Belfield > Computer Science > B-004   \n",
       "12413  Belfield > Computer Science > B-004   \n",
       "12414  Belfield > Computer Science > B-004   \n",
       "12415  Belfield > Computer Science > B-004   \n",
       "12416  Belfield > Computer Science > B-004   \n",
       "\n",
       "                               event_time  detec1  detec2  \n",
       "12412  Tue Nov 17 11:01:59 GMT+00:00 2015      18      18  \n",
       "12413  Tue Nov 17 11:06:37 GMT+00:00 2015      32      32  \n",
       "12414  Tue Nov 17 11:13:19 GMT+00:00 2015      39      39  \n",
       "12415  Tue Nov 17 11:21:11 GMT+00:00 2015      42      42  \n",
       "12416  Tue Nov 17 11:26:07 GMT+00:00 2015      46      46  "
      ]
     },
     "execution_count": 38,
     "metadata": {},
     "output_type": "execute_result"
    }
   ],
   "source": [
    "wifi_log_data.tail()"
   ]
  },
  {
   "cell_type": "code",
   "execution_count": 40,
   "metadata": {
    "collapsed": false
   },
   "outputs": [],
   "source": [
    "for i in range(wifi_log_data.shape[0]):\n",
    "    x = wifi_log_data[\"event_time\"][i]\n",
    "    y = parse(x)\n",
    "    epoch = int(time.mktime(y.timetuple()))\n",
    "    wifi_log_data.set_value(i,\"event_time\",epoch)"
   ]
  },
  {
   "cell_type": "code",
   "execution_count": 41,
   "metadata": {
    "collapsed": false
   },
   "outputs": [
    {
     "data": {
      "text/html": [
       "<div>\n",
       "<table border=\"1\" class=\"dataframe\">\n",
       "  <thead>\n",
       "    <tr style=\"text-align: right;\">\n",
       "      <th></th>\n",
       "      <th>room</th>\n",
       "      <th>event_time</th>\n",
       "      <th>detec1</th>\n",
       "      <th>detec2</th>\n",
       "    </tr>\n",
       "  </thead>\n",
       "  <tbody>\n",
       "    <tr>\n",
       "      <th>0</th>\n",
       "      <td>Belfield &gt; Computer Science &gt; B-002</td>\n",
       "      <td>1446496326</td>\n",
       "      <td>0</td>\n",
       "      <td>0</td>\n",
       "    </tr>\n",
       "    <tr>\n",
       "      <th>1</th>\n",
       "      <td>Belfield &gt; Computer Science &gt; B-002</td>\n",
       "      <td>1446496630</td>\n",
       "      <td>0</td>\n",
       "      <td>0</td>\n",
       "    </tr>\n",
       "    <tr>\n",
       "      <th>2</th>\n",
       "      <td>Belfield &gt; Computer Science &gt; B-002</td>\n",
       "      <td>1446496932</td>\n",
       "      <td>0</td>\n",
       "      <td>0</td>\n",
       "    </tr>\n",
       "    <tr>\n",
       "      <th>3</th>\n",
       "      <td>Belfield &gt; Computer Science &gt; B-002</td>\n",
       "      <td>1446497234</td>\n",
       "      <td>0</td>\n",
       "      <td>0</td>\n",
       "    </tr>\n",
       "    <tr>\n",
       "      <th>4</th>\n",
       "      <td>Belfield &gt; Computer Science &gt; B-002</td>\n",
       "      <td>1446497531</td>\n",
       "      <td>0</td>\n",
       "      <td>0</td>\n",
       "    </tr>\n",
       "  </tbody>\n",
       "</table>\n",
       "</div>"
      ],
      "text/plain": [
       "                                  room  event_time  detec1  detec2\n",
       "0  Belfield > Computer Science > B-002  1446496326       0       0\n",
       "1  Belfield > Computer Science > B-002  1446496630       0       0\n",
       "2  Belfield > Computer Science > B-002  1446496932       0       0\n",
       "3  Belfield > Computer Science > B-002  1446497234       0       0\n",
       "4  Belfield > Computer Science > B-002  1446497531       0       0"
      ]
     },
     "execution_count": 41,
     "metadata": {},
     "output_type": "execute_result"
    }
   ],
   "source": [
    "wifi_log_data.head()"
   ]
  },
  {
   "cell_type": "code",
   "execution_count": 42,
   "metadata": {
    "collapsed": false
   },
   "outputs": [],
   "source": [
    "for i in range(wifi_log_data.shape[0]):\n",
    "    wifi_log_data.set_value(i, \"room\", wifi_log_data[\"room\"][i][-1:])"
   ]
  },
  {
   "cell_type": "code",
   "execution_count": 43,
   "metadata": {
    "collapsed": false
   },
   "outputs": [
    {
     "data": {
      "text/html": [
       "<div>\n",
       "<table border=\"1\" class=\"dataframe\">\n",
       "  <thead>\n",
       "    <tr style=\"text-align: right;\">\n",
       "      <th></th>\n",
       "      <th>room</th>\n",
       "      <th>event_time</th>\n",
       "      <th>detec1</th>\n",
       "      <th>detec2</th>\n",
       "    </tr>\n",
       "  </thead>\n",
       "  <tbody>\n",
       "    <tr>\n",
       "      <th>0</th>\n",
       "      <td>2</td>\n",
       "      <td>1446496326</td>\n",
       "      <td>0</td>\n",
       "      <td>0</td>\n",
       "    </tr>\n",
       "    <tr>\n",
       "      <th>1</th>\n",
       "      <td>2</td>\n",
       "      <td>1446496630</td>\n",
       "      <td>0</td>\n",
       "      <td>0</td>\n",
       "    </tr>\n",
       "    <tr>\n",
       "      <th>2</th>\n",
       "      <td>2</td>\n",
       "      <td>1446496932</td>\n",
       "      <td>0</td>\n",
       "      <td>0</td>\n",
       "    </tr>\n",
       "    <tr>\n",
       "      <th>3</th>\n",
       "      <td>2</td>\n",
       "      <td>1446497234</td>\n",
       "      <td>0</td>\n",
       "      <td>0</td>\n",
       "    </tr>\n",
       "    <tr>\n",
       "      <th>4</th>\n",
       "      <td>2</td>\n",
       "      <td>1446497531</td>\n",
       "      <td>0</td>\n",
       "      <td>0</td>\n",
       "    </tr>\n",
       "  </tbody>\n",
       "</table>\n",
       "</div>"
      ],
      "text/plain": [
       "  room  event_time  detec1  detec2\n",
       "0    2  1446496326       0       0\n",
       "1    2  1446496630       0       0\n",
       "2    2  1446496932       0       0\n",
       "3    2  1446497234       0       0\n",
       "4    2  1446497531       0       0"
      ]
     },
     "execution_count": 43,
     "metadata": {},
     "output_type": "execute_result"
    }
   ],
   "source": [
    "wifi_log_data.head()"
   ]
  },
  {
   "cell_type": "code",
   "execution_count": 44,
   "metadata": {
    "collapsed": false
   },
   "outputs": [
    {
     "data": {
      "text/html": [
       "<div>\n",
       "<table border=\"1\" class=\"dataframe\">\n",
       "  <thead>\n",
       "    <tr style=\"text-align: right;\">\n",
       "      <th></th>\n",
       "      <th>room</th>\n",
       "      <th>event_time</th>\n",
       "      <th>detec1</th>\n",
       "      <th>detec2</th>\n",
       "    </tr>\n",
       "  </thead>\n",
       "  <tbody>\n",
       "    <tr>\n",
       "      <th>12412</th>\n",
       "      <td>4</td>\n",
       "      <td>1447758119</td>\n",
       "      <td>18</td>\n",
       "      <td>18</td>\n",
       "    </tr>\n",
       "    <tr>\n",
       "      <th>12413</th>\n",
       "      <td>4</td>\n",
       "      <td>1447758397</td>\n",
       "      <td>32</td>\n",
       "      <td>32</td>\n",
       "    </tr>\n",
       "    <tr>\n",
       "      <th>12414</th>\n",
       "      <td>4</td>\n",
       "      <td>1447758799</td>\n",
       "      <td>39</td>\n",
       "      <td>39</td>\n",
       "    </tr>\n",
       "    <tr>\n",
       "      <th>12415</th>\n",
       "      <td>4</td>\n",
       "      <td>1447759271</td>\n",
       "      <td>42</td>\n",
       "      <td>42</td>\n",
       "    </tr>\n",
       "    <tr>\n",
       "      <th>12416</th>\n",
       "      <td>4</td>\n",
       "      <td>1447759567</td>\n",
       "      <td>46</td>\n",
       "      <td>46</td>\n",
       "    </tr>\n",
       "  </tbody>\n",
       "</table>\n",
       "</div>"
      ],
      "text/plain": [
       "      room  event_time  detec1  detec2\n",
       "12412    4  1447758119      18      18\n",
       "12413    4  1447758397      32      32\n",
       "12414    4  1447758799      39      39\n",
       "12415    4  1447759271      42      42\n",
       "12416    4  1447759567      46      46"
      ]
     },
     "execution_count": 44,
     "metadata": {},
     "output_type": "execute_result"
    }
   ],
   "source": [
    "wifi_log_data.tail()"
   ]
  },
  {
   "cell_type": "code",
   "execution_count": 45,
   "metadata": {
    "collapsed": true
   },
   "outputs": [],
   "source": [
    "wifi_log_data[\"building\"] = \"school of computer science\""
   ]
  },
  {
   "cell_type": "code",
   "execution_count": 46,
   "metadata": {
    "collapsed": false
   },
   "outputs": [
    {
     "data": {
      "text/html": [
       "<div>\n",
       "<table border=\"1\" class=\"dataframe\">\n",
       "  <thead>\n",
       "    <tr style=\"text-align: right;\">\n",
       "      <th></th>\n",
       "      <th>room</th>\n",
       "      <th>event_time</th>\n",
       "      <th>detec1</th>\n",
       "      <th>detec2</th>\n",
       "      <th>building</th>\n",
       "    </tr>\n",
       "  </thead>\n",
       "  <tbody>\n",
       "    <tr>\n",
       "      <th>0</th>\n",
       "      <td>2</td>\n",
       "      <td>1446496326</td>\n",
       "      <td>0</td>\n",
       "      <td>0</td>\n",
       "      <td>school of computer science</td>\n",
       "    </tr>\n",
       "    <tr>\n",
       "      <th>1</th>\n",
       "      <td>2</td>\n",
       "      <td>1446496630</td>\n",
       "      <td>0</td>\n",
       "      <td>0</td>\n",
       "      <td>school of computer science</td>\n",
       "    </tr>\n",
       "    <tr>\n",
       "      <th>2</th>\n",
       "      <td>2</td>\n",
       "      <td>1446496932</td>\n",
       "      <td>0</td>\n",
       "      <td>0</td>\n",
       "      <td>school of computer science</td>\n",
       "    </tr>\n",
       "    <tr>\n",
       "      <th>3</th>\n",
       "      <td>2</td>\n",
       "      <td>1446497234</td>\n",
       "      <td>0</td>\n",
       "      <td>0</td>\n",
       "      <td>school of computer science</td>\n",
       "    </tr>\n",
       "    <tr>\n",
       "      <th>4</th>\n",
       "      <td>2</td>\n",
       "      <td>1446497531</td>\n",
       "      <td>0</td>\n",
       "      <td>0</td>\n",
       "      <td>school of computer science</td>\n",
       "    </tr>\n",
       "  </tbody>\n",
       "</table>\n",
       "</div>"
      ],
      "text/plain": [
       "  room  event_time  detec1  detec2                    building\n",
       "0    2  1446496326       0       0  school of computer science\n",
       "1    2  1446496630       0       0  school of computer science\n",
       "2    2  1446496932       0       0  school of computer science\n",
       "3    2  1446497234       0       0  school of computer science\n",
       "4    2  1446497531       0       0  school of computer science"
      ]
     },
     "execution_count": 46,
     "metadata": {},
     "output_type": "execute_result"
    }
   ],
   "source": [
    "wifi_log_data.head()"
   ]
  },
  {
   "cell_type": "code",
   "execution_count": null,
   "metadata": {
    "collapsed": true
   },
   "outputs": [],
   "source": []
  }
 ],
 "metadata": {
  "kernelspec": {
   "display_name": "Python 3",
   "language": "python",
   "name": "python3"
  },
  "language_info": {
   "codemirror_mode": {
    "name": "ipython",
    "version": 3
   },
   "file_extension": ".py",
   "mimetype": "text/x-python",
   "name": "python",
   "nbconvert_exporter": "python",
   "pygments_lexer": "ipython3",
   "version": "3.5.1+"
  }
 },
 "nbformat": 4,
 "nbformat_minor": 0
}
