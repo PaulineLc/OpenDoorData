{
 "cells": [
  {
   "cell_type": "code",
   "execution_count": 207,
   "metadata": {
    "collapsed": true
   },
   "outputs": [],
   "source": [
    "import pandas as pd"
   ]
  },
  {
   "cell_type": "markdown",
   "metadata": {},
   "source": [
    "# Clean data"
   ]
  },
  {
   "cell_type": "markdown",
   "metadata": {},
   "source": [
    "### Read files"
   ]
  },
  {
   "cell_type": "code",
   "execution_count": 208,
   "metadata": {
    "collapsed": false
   },
   "outputs": [
    {
     "name": "stdout",
     "output_type": "stream",
     "text": [
      "Data analytics notebook.ipynb\r\n"
     ]
    }
   ],
   "source": [
    "%ls"
   ]
  },
  {
   "cell_type": "code",
   "execution_count": 209,
   "metadata": {
    "collapsed": false
   },
   "outputs": [
    {
     "data": {
      "text/html": [
       "<div>\n",
       "<table border=\"1\" class=\"dataframe\">\n",
       "  <thead>\n",
       "    <tr style=\"text-align: right;\">\n",
       "      <th></th>\n",
       "      <th>room</th>\n",
       "      <th>event_time</th>\n",
       "      <th>detec1</th>\n",
       "      <th>detec2</th>\n",
       "    </tr>\n",
       "  </thead>\n",
       "  <tbody>\n",
       "    <tr>\n",
       "      <th>0</th>\n",
       "      <td>Belfield &gt; Computer Science &gt; B-002</td>\n",
       "      <td>Mon Nov 02 20:32:06 GMT+00:00 2015</td>\n",
       "      <td>0</td>\n",
       "      <td>0</td>\n",
       "    </tr>\n",
       "    <tr>\n",
       "      <th>1</th>\n",
       "      <td>Belfield &gt; Computer Science &gt; B-002</td>\n",
       "      <td>Mon Nov 02 20:37:10 GMT+00:00 2015</td>\n",
       "      <td>0</td>\n",
       "      <td>0</td>\n",
       "    </tr>\n",
       "    <tr>\n",
       "      <th>2</th>\n",
       "      <td>Belfield &gt; Computer Science &gt; B-002</td>\n",
       "      <td>Mon Nov 02 20:42:12 GMT+00:00 2015</td>\n",
       "      <td>0</td>\n",
       "      <td>0</td>\n",
       "    </tr>\n",
       "    <tr>\n",
       "      <th>3</th>\n",
       "      <td>Belfield &gt; Computer Science &gt; B-002</td>\n",
       "      <td>Mon Nov 02 20:47:14 GMT+00:00 2015</td>\n",
       "      <td>0</td>\n",
       "      <td>0</td>\n",
       "    </tr>\n",
       "    <tr>\n",
       "      <th>4</th>\n",
       "      <td>Belfield &gt; Computer Science &gt; B-002</td>\n",
       "      <td>Mon Nov 02 20:52:11 GMT+00:00 2015</td>\n",
       "      <td>0</td>\n",
       "      <td>0</td>\n",
       "    </tr>\n",
       "  </tbody>\n",
       "</table>\n",
       "</div>"
      ],
      "text/plain": [
       "                                  room                          event_time  \\\n",
       "0  Belfield > Computer Science > B-002  Mon Nov 02 20:32:06 GMT+00:00 2015   \n",
       "1  Belfield > Computer Science > B-002  Mon Nov 02 20:37:10 GMT+00:00 2015   \n",
       "2  Belfield > Computer Science > B-002  Mon Nov 02 20:42:12 GMT+00:00 2015   \n",
       "3  Belfield > Computer Science > B-002  Mon Nov 02 20:47:14 GMT+00:00 2015   \n",
       "4  Belfield > Computer Science > B-002  Mon Nov 02 20:52:11 GMT+00:00 2015   \n",
       "\n",
       "   detec1  detec2  \n",
       "0       0       0  \n",
       "1       0       0  \n",
       "2       0       0  \n",
       "3       0       0  \n",
       "4       0       0  "
      ]
     },
     "execution_count": 209,
     "metadata": {},
     "output_type": "execute_result"
    }
   ],
   "source": [
    "wifi_log_data = pd.read_csv(\"../cleaned_data/full.csv\", names=[\"room\", \"event_time\", \"detec1\", \"detec2\"])\n",
    "wifi_log_data.head()"
   ]
  },
  {
   "cell_type": "code",
   "execution_count": 210,
   "metadata": {
    "collapsed": false
   },
   "outputs": [
    {
     "data": {
      "text/html": [
       "<div>\n",
       "<table border=\"1\" class=\"dataframe\">\n",
       "  <thead>\n",
       "    <tr style=\"text-align: right;\">\n",
       "      <th></th>\n",
       "      <th>room</th>\n",
       "      <th>event_time</th>\n",
       "      <th>detec1</th>\n",
       "      <th>detec2</th>\n",
       "    </tr>\n",
       "  </thead>\n",
       "  <tbody>\n",
       "    <tr>\n",
       "      <th>12412</th>\n",
       "      <td>Belfield &gt; Computer Science &gt; B-004</td>\n",
       "      <td>Tue Nov 17 11:01:59 GMT+00:00 2015</td>\n",
       "      <td>18</td>\n",
       "      <td>18</td>\n",
       "    </tr>\n",
       "    <tr>\n",
       "      <th>12413</th>\n",
       "      <td>Belfield &gt; Computer Science &gt; B-004</td>\n",
       "      <td>Tue Nov 17 11:06:37 GMT+00:00 2015</td>\n",
       "      <td>32</td>\n",
       "      <td>32</td>\n",
       "    </tr>\n",
       "    <tr>\n",
       "      <th>12414</th>\n",
       "      <td>Belfield &gt; Computer Science &gt; B-004</td>\n",
       "      <td>Tue Nov 17 11:13:19 GMT+00:00 2015</td>\n",
       "      <td>39</td>\n",
       "      <td>39</td>\n",
       "    </tr>\n",
       "    <tr>\n",
       "      <th>12415</th>\n",
       "      <td>Belfield &gt; Computer Science &gt; B-004</td>\n",
       "      <td>Tue Nov 17 11:21:11 GMT+00:00 2015</td>\n",
       "      <td>42</td>\n",
       "      <td>42</td>\n",
       "    </tr>\n",
       "    <tr>\n",
       "      <th>12416</th>\n",
       "      <td>Belfield &gt; Computer Science &gt; B-004</td>\n",
       "      <td>Tue Nov 17 11:26:07 GMT+00:00 2015</td>\n",
       "      <td>46</td>\n",
       "      <td>46</td>\n",
       "    </tr>\n",
       "  </tbody>\n",
       "</table>\n",
       "</div>"
      ],
      "text/plain": [
       "                                      room  \\\n",
       "12412  Belfield > Computer Science > B-004   \n",
       "12413  Belfield > Computer Science > B-004   \n",
       "12414  Belfield > Computer Science > B-004   \n",
       "12415  Belfield > Computer Science > B-004   \n",
       "12416  Belfield > Computer Science > B-004   \n",
       "\n",
       "                               event_time  detec1  detec2  \n",
       "12412  Tue Nov 17 11:01:59 GMT+00:00 2015      18      18  \n",
       "12413  Tue Nov 17 11:06:37 GMT+00:00 2015      32      32  \n",
       "12414  Tue Nov 17 11:13:19 GMT+00:00 2015      39      39  \n",
       "12415  Tue Nov 17 11:21:11 GMT+00:00 2015      42      42  \n",
       "12416  Tue Nov 17 11:26:07 GMT+00:00 2015      46      46  "
      ]
     },
     "execution_count": 210,
     "metadata": {},
     "output_type": "execute_result"
    }
   ],
   "source": [
    "wifi_log_data.tail()"
   ]
  },
  {
   "cell_type": "markdown",
   "metadata": {},
   "source": [
    "### Transform timestamps"
   ]
  },
  {
   "cell_type": "code",
   "execution_count": 211,
   "metadata": {
    "collapsed": false
   },
   "outputs": [],
   "source": [
    "import time\n",
    "from dateutil.parser import parse\n",
    "\n",
    "for i in range(wifi_log_data.shape[0]):\n",
    "    x = wifi_log_data[\"event_time\"][i]\n",
    "    y = parse(x)\n",
    "    epoch = int(time.mktime(y.timetuple()))\n",
    "    wifi_log_data.set_value(i,\"event_time\",epoch)"
   ]
  },
  {
   "cell_type": "code",
   "execution_count": 212,
   "metadata": {
    "collapsed": false
   },
   "outputs": [
    {
     "data": {
      "text/html": [
       "<div>\n",
       "<table border=\"1\" class=\"dataframe\">\n",
       "  <thead>\n",
       "    <tr style=\"text-align: right;\">\n",
       "      <th></th>\n",
       "      <th>room</th>\n",
       "      <th>event_time</th>\n",
       "      <th>detec1</th>\n",
       "      <th>detec2</th>\n",
       "    </tr>\n",
       "  </thead>\n",
       "  <tbody>\n",
       "    <tr>\n",
       "      <th>0</th>\n",
       "      <td>Belfield &gt; Computer Science &gt; B-002</td>\n",
       "      <td>1446496326</td>\n",
       "      <td>0</td>\n",
       "      <td>0</td>\n",
       "    </tr>\n",
       "    <tr>\n",
       "      <th>1</th>\n",
       "      <td>Belfield &gt; Computer Science &gt; B-002</td>\n",
       "      <td>1446496630</td>\n",
       "      <td>0</td>\n",
       "      <td>0</td>\n",
       "    </tr>\n",
       "    <tr>\n",
       "      <th>2</th>\n",
       "      <td>Belfield &gt; Computer Science &gt; B-002</td>\n",
       "      <td>1446496932</td>\n",
       "      <td>0</td>\n",
       "      <td>0</td>\n",
       "    </tr>\n",
       "    <tr>\n",
       "      <th>3</th>\n",
       "      <td>Belfield &gt; Computer Science &gt; B-002</td>\n",
       "      <td>1446497234</td>\n",
       "      <td>0</td>\n",
       "      <td>0</td>\n",
       "    </tr>\n",
       "    <tr>\n",
       "      <th>4</th>\n",
       "      <td>Belfield &gt; Computer Science &gt; B-002</td>\n",
       "      <td>1446497531</td>\n",
       "      <td>0</td>\n",
       "      <td>0</td>\n",
       "    </tr>\n",
       "  </tbody>\n",
       "</table>\n",
       "</div>"
      ],
      "text/plain": [
       "                                  room  event_time  detec1  detec2\n",
       "0  Belfield > Computer Science > B-002  1446496326       0       0\n",
       "1  Belfield > Computer Science > B-002  1446496630       0       0\n",
       "2  Belfield > Computer Science > B-002  1446496932       0       0\n",
       "3  Belfield > Computer Science > B-002  1446497234       0       0\n",
       "4  Belfield > Computer Science > B-002  1446497531       0       0"
      ]
     },
     "execution_count": 212,
     "metadata": {},
     "output_type": "execute_result"
    }
   ],
   "source": [
    "wifi_log_data.head()"
   ]
  },
  {
   "cell_type": "markdown",
   "metadata": {},
   "source": [
    "### Extract room data"
   ]
  },
  {
   "cell_type": "code",
   "execution_count": 238,
   "metadata": {
    "collapsed": false
   },
   "outputs": [
    {
     "ename": "TypeError",
     "evalue": "cannot insert DatetimeIndex with incompatible label",
     "output_type": "error",
     "traceback": [
      "\u001b[1;31m---------------------------------------------------------------------------\u001b[0m",
      "\u001b[1;31mKeyError\u001b[0m                                  Traceback (most recent call last)",
      "\u001b[1;32m/home/pauline/summerProjectEnv/local/lib/python3.5/site-packages/pandas/core/frame.py\u001b[0m in \u001b[0;36mset_value\u001b[1;34m(self, index, col, value, takeable)\u001b[0m\n\u001b[0;32m   1863\u001b[0m             \u001b[0mengine\u001b[0m \u001b[1;33m=\u001b[0m \u001b[0mself\u001b[0m\u001b[1;33m.\u001b[0m\u001b[0mindex\u001b[0m\u001b[1;33m.\u001b[0m\u001b[0m_engine\u001b[0m\u001b[1;33m\u001b[0m\u001b[0m\n\u001b[1;32m-> 1864\u001b[1;33m             \u001b[0mengine\u001b[0m\u001b[1;33m.\u001b[0m\u001b[0mset_value\u001b[0m\u001b[1;33m(\u001b[0m\u001b[0mseries\u001b[0m\u001b[1;33m.\u001b[0m\u001b[0m_values\u001b[0m\u001b[1;33m,\u001b[0m \u001b[0mindex\u001b[0m\u001b[1;33m,\u001b[0m \u001b[0mvalue\u001b[0m\u001b[1;33m)\u001b[0m\u001b[1;33m\u001b[0m\u001b[0m\n\u001b[0m\u001b[0;32m   1865\u001b[0m             \u001b[1;32mreturn\u001b[0m \u001b[0mself\u001b[0m\u001b[1;33m\u001b[0m\u001b[0m\n",
      "\u001b[1;32mpandas/index.pyx\u001b[0m in \u001b[0;36mpandas.index.IndexEngine.set_value (pandas/index.c:3600)\u001b[1;34m()\u001b[0m\n",
      "\u001b[1;32mpandas/index.pyx\u001b[0m in \u001b[0;36mpandas.index.IndexEngine.set_value (pandas/index.c:3426)\u001b[1;34m()\u001b[0m\n",
      "\u001b[1;32mpandas/index.pyx\u001b[0m in \u001b[0;36mpandas.index.DatetimeEngine.get_loc (pandas/index.c:10774)\u001b[1;34m()\u001b[0m\n",
      "\u001b[1;32mpandas/index.pyx\u001b[0m in \u001b[0;36mpandas.index.IndexEngine._get_loc_duplicates (pandas/index.c:4385)\u001b[1;34m()\u001b[0m\n",
      "\u001b[1;32mpandas/index.pyx\u001b[0m in \u001b[0;36mpandas.index.Int64Engine._maybe_get_bool_indexer (pandas/index.c:8079)\u001b[1;34m()\u001b[0m\n",
      "\u001b[1;31mKeyError\u001b[0m: 0",
      "\nDuring handling of the above exception, another exception occurred:\n",
      "\u001b[1;31mAttributeError\u001b[0m                            Traceback (most recent call last)",
      "\u001b[1;32m/home/pauline/summerProjectEnv/local/lib/python3.5/site-packages/pandas/tseries/index.py\u001b[0m in \u001b[0;36minsert\u001b[1;34m(self, loc, item)\u001b[0m\n\u001b[0;32m   1735\u001b[0m         \u001b[1;32mtry\u001b[0m\u001b[1;33m:\u001b[0m\u001b[1;33m\u001b[0m\u001b[0m\n\u001b[1;32m-> 1736\u001b[1;33m             new_dates = np.concatenate((self[:loc].asi8, [item.view(np.int64)],\n\u001b[0m\u001b[0;32m   1737\u001b[0m                                         self[loc:].asi8))\n",
      "\u001b[1;31mAttributeError\u001b[0m: 'int' object has no attribute 'view'",
      "\nDuring handling of the above exception, another exception occurred:\n",
      "\u001b[1;31mTypeError\u001b[0m                                 Traceback (most recent call last)",
      "\u001b[1;32m<ipython-input-238-6c7cd6314001>\u001b[0m in \u001b[0;36m<module>\u001b[1;34m()\u001b[0m\n\u001b[0;32m      1\u001b[0m \u001b[1;32mfor\u001b[0m \u001b[0mi\u001b[0m \u001b[1;32min\u001b[0m \u001b[0mrange\u001b[0m\u001b[1;33m(\u001b[0m\u001b[0mwifi_log_data\u001b[0m\u001b[1;33m.\u001b[0m\u001b[0mshape\u001b[0m\u001b[1;33m[\u001b[0m\u001b[1;36m0\u001b[0m\u001b[1;33m]\u001b[0m\u001b[1;33m)\u001b[0m\u001b[1;33m:\u001b[0m\u001b[1;33m\u001b[0m\u001b[0m\n\u001b[0;32m      2\u001b[0m     \u001b[1;31m#the following line selects the last character of the string, which is the room ID\u001b[0m\u001b[1;33m\u001b[0m\u001b[1;33m\u001b[0m\u001b[0m\n\u001b[1;32m----> 3\u001b[1;33m     \u001b[0mwifi_log_data\u001b[0m\u001b[1;33m.\u001b[0m\u001b[0mset_value\u001b[0m\u001b[1;33m(\u001b[0m\u001b[0mi\u001b[0m\u001b[1;33m,\u001b[0m \u001b[1;34m\"room\"\u001b[0m\u001b[1;33m,\u001b[0m \u001b[0mwifi_log_data\u001b[0m\u001b[1;33m[\u001b[0m\u001b[1;34m\"room\"\u001b[0m\u001b[1;33m]\u001b[0m\u001b[1;33m[\u001b[0m\u001b[0mi\u001b[0m\u001b[1;33m]\u001b[0m\u001b[1;33m[\u001b[0m\u001b[1;33m-\u001b[0m\u001b[1;36m1\u001b[0m\u001b[1;33m:\u001b[0m\u001b[1;33m]\u001b[0m\u001b[1;33m)\u001b[0m\u001b[1;33m\u001b[0m\u001b[0m\n\u001b[0m",
      "\u001b[1;32m/home/pauline/summerProjectEnv/local/lib/python3.5/site-packages/pandas/core/frame.py\u001b[0m in \u001b[0;36mset_value\u001b[1;34m(self, index, col, value, takeable)\u001b[0m\n\u001b[0;32m   1867\u001b[0m \u001b[1;33m\u001b[0m\u001b[0m\n\u001b[0;32m   1868\u001b[0m             \u001b[1;31m# set using a non-recursive method & reset the cache\u001b[0m\u001b[1;33m\u001b[0m\u001b[1;33m\u001b[0m\u001b[0m\n\u001b[1;32m-> 1869\u001b[1;33m             \u001b[0mself\u001b[0m\u001b[1;33m.\u001b[0m\u001b[0mloc\u001b[0m\u001b[1;33m[\u001b[0m\u001b[0mindex\u001b[0m\u001b[1;33m,\u001b[0m \u001b[0mcol\u001b[0m\u001b[1;33m]\u001b[0m \u001b[1;33m=\u001b[0m \u001b[0mvalue\u001b[0m\u001b[1;33m\u001b[0m\u001b[0m\n\u001b[0m\u001b[0;32m   1870\u001b[0m             \u001b[0mself\u001b[0m\u001b[1;33m.\u001b[0m\u001b[0m_item_cache\u001b[0m\u001b[1;33m.\u001b[0m\u001b[0mpop\u001b[0m\u001b[1;33m(\u001b[0m\u001b[0mcol\u001b[0m\u001b[1;33m,\u001b[0m \u001b[1;32mNone\u001b[0m\u001b[1;33m)\u001b[0m\u001b[1;33m\u001b[0m\u001b[0m\n\u001b[0;32m   1871\u001b[0m \u001b[1;33m\u001b[0m\u001b[0m\n",
      "\u001b[1;32m/home/pauline/summerProjectEnv/local/lib/python3.5/site-packages/pandas/core/indexing.py\u001b[0m in \u001b[0;36m__setitem__\u001b[1;34m(self, key, value)\u001b[0m\n\u001b[0;32m    130\u001b[0m             \u001b[0mkey\u001b[0m \u001b[1;33m=\u001b[0m \u001b[0mcom\u001b[0m\u001b[1;33m.\u001b[0m\u001b[0m_apply_if_callable\u001b[0m\u001b[1;33m(\u001b[0m\u001b[0mkey\u001b[0m\u001b[1;33m,\u001b[0m \u001b[0mself\u001b[0m\u001b[1;33m.\u001b[0m\u001b[0mobj\u001b[0m\u001b[1;33m)\u001b[0m\u001b[1;33m\u001b[0m\u001b[0m\n\u001b[0;32m    131\u001b[0m         \u001b[0mindexer\u001b[0m \u001b[1;33m=\u001b[0m \u001b[0mself\u001b[0m\u001b[1;33m.\u001b[0m\u001b[0m_get_setitem_indexer\u001b[0m\u001b[1;33m(\u001b[0m\u001b[0mkey\u001b[0m\u001b[1;33m)\u001b[0m\u001b[1;33m\u001b[0m\u001b[0m\n\u001b[1;32m--> 132\u001b[1;33m         \u001b[0mself\u001b[0m\u001b[1;33m.\u001b[0m\u001b[0m_setitem_with_indexer\u001b[0m\u001b[1;33m(\u001b[0m\u001b[0mindexer\u001b[0m\u001b[1;33m,\u001b[0m \u001b[0mvalue\u001b[0m\u001b[1;33m)\u001b[0m\u001b[1;33m\u001b[0m\u001b[0m\n\u001b[0m\u001b[0;32m    133\u001b[0m \u001b[1;33m\u001b[0m\u001b[0m\n\u001b[0;32m    134\u001b[0m     \u001b[1;32mdef\u001b[0m \u001b[0m_has_valid_type\u001b[0m\u001b[1;33m(\u001b[0m\u001b[0mself\u001b[0m\u001b[1;33m,\u001b[0m \u001b[0mk\u001b[0m\u001b[1;33m,\u001b[0m \u001b[0maxis\u001b[0m\u001b[1;33m)\u001b[0m\u001b[1;33m:\u001b[0m\u001b[1;33m\u001b[0m\u001b[0m\n",
      "\u001b[1;32m/home/pauline/summerProjectEnv/local/lib/python3.5/site-packages/pandas/core/indexing.py\u001b[0m in \u001b[0;36m_setitem_with_indexer\u001b[1;34m(self, indexer, value)\u001b[0m\n\u001b[0;32m    299\u001b[0m                     \u001b[1;31m# so the object is the same\u001b[0m\u001b[1;33m\u001b[0m\u001b[1;33m\u001b[0m\u001b[0m\n\u001b[0;32m    300\u001b[0m                     \u001b[0mindex\u001b[0m \u001b[1;33m=\u001b[0m \u001b[0mself\u001b[0m\u001b[1;33m.\u001b[0m\u001b[0mobj\u001b[0m\u001b[1;33m.\u001b[0m\u001b[0m_get_axis\u001b[0m\u001b[1;33m(\u001b[0m\u001b[0mi\u001b[0m\u001b[1;33m)\u001b[0m\u001b[1;33m\u001b[0m\u001b[0m\n\u001b[1;32m--> 301\u001b[1;33m                     \u001b[0mlabels\u001b[0m \u001b[1;33m=\u001b[0m \u001b[0mindex\u001b[0m\u001b[1;33m.\u001b[0m\u001b[0minsert\u001b[0m\u001b[1;33m(\u001b[0m\u001b[0mlen\u001b[0m\u001b[1;33m(\u001b[0m\u001b[0mindex\u001b[0m\u001b[1;33m)\u001b[0m\u001b[1;33m,\u001b[0m \u001b[0mkey\u001b[0m\u001b[1;33m)\u001b[0m\u001b[1;33m\u001b[0m\u001b[0m\n\u001b[0m\u001b[0;32m    302\u001b[0m                     \u001b[0mself\u001b[0m\u001b[1;33m.\u001b[0m\u001b[0mobj\u001b[0m\u001b[1;33m.\u001b[0m\u001b[0m_data\u001b[0m \u001b[1;33m=\u001b[0m \u001b[0mself\u001b[0m\u001b[1;33m.\u001b[0m\u001b[0mobj\u001b[0m\u001b[1;33m.\u001b[0m\u001b[0mreindex_axis\u001b[0m\u001b[1;33m(\u001b[0m\u001b[0mlabels\u001b[0m\u001b[1;33m,\u001b[0m \u001b[0mi\u001b[0m\u001b[1;33m)\u001b[0m\u001b[1;33m.\u001b[0m\u001b[0m_data\u001b[0m\u001b[1;33m\u001b[0m\u001b[0m\n\u001b[0;32m    303\u001b[0m                     \u001b[0mself\u001b[0m\u001b[1;33m.\u001b[0m\u001b[0mobj\u001b[0m\u001b[1;33m.\u001b[0m\u001b[0m_maybe_update_cacher\u001b[0m\u001b[1;33m(\u001b[0m\u001b[0mclear\u001b[0m\u001b[1;33m=\u001b[0m\u001b[1;32mTrue\u001b[0m\u001b[1;33m)\u001b[0m\u001b[1;33m\u001b[0m\u001b[0m\n",
      "\u001b[1;32m/home/pauline/summerProjectEnv/local/lib/python3.5/site-packages/pandas/tseries/index.py\u001b[0m in \u001b[0;36minsert\u001b[1;34m(self, loc, item)\u001b[0m\n\u001b[0;32m   1747\u001b[0m                 \u001b[1;32mreturn\u001b[0m \u001b[0mself\u001b[0m\u001b[1;33m.\u001b[0m\u001b[0masobject\u001b[0m\u001b[1;33m.\u001b[0m\u001b[0minsert\u001b[0m\u001b[1;33m(\u001b[0m\u001b[0mloc\u001b[0m\u001b[1;33m,\u001b[0m \u001b[0mitem\u001b[0m\u001b[1;33m)\u001b[0m\u001b[1;33m\u001b[0m\u001b[0m\n\u001b[0;32m   1748\u001b[0m             raise TypeError(\n\u001b[1;32m-> 1749\u001b[1;33m                 \"cannot insert DatetimeIndex with incompatible label\")\n\u001b[0m\u001b[0;32m   1750\u001b[0m \u001b[1;33m\u001b[0m\u001b[0m\n\u001b[0;32m   1751\u001b[0m     \u001b[1;32mdef\u001b[0m \u001b[0mdelete\u001b[0m\u001b[1;33m(\u001b[0m\u001b[0mself\u001b[0m\u001b[1;33m,\u001b[0m \u001b[0mloc\u001b[0m\u001b[1;33m)\u001b[0m\u001b[1;33m:\u001b[0m\u001b[1;33m\u001b[0m\u001b[0m\n",
      "\u001b[1;31mTypeError\u001b[0m: cannot insert DatetimeIndex with incompatible label"
     ]
    }
   ],
   "source": [
    "for i in range(wifi_log_data.shape[0]):\n",
    "    #the following line selects the last character of the string, which is the room ID\n",
    "    wifi_log_data.set_value(i, \"room\", wifi_log_data[\"room\"][i][-1:])"
   ]
  },
  {
   "cell_type": "code",
   "execution_count": 214,
   "metadata": {
    "collapsed": false
   },
   "outputs": [
    {
     "data": {
      "text/html": [
       "<div>\n",
       "<table border=\"1\" class=\"dataframe\">\n",
       "  <thead>\n",
       "    <tr style=\"text-align: right;\">\n",
       "      <th></th>\n",
       "      <th>room</th>\n",
       "      <th>event_time</th>\n",
       "      <th>detec1</th>\n",
       "      <th>detec2</th>\n",
       "    </tr>\n",
       "  </thead>\n",
       "  <tbody>\n",
       "    <tr>\n",
       "      <th>0</th>\n",
       "      <td>2</td>\n",
       "      <td>1446496326</td>\n",
       "      <td>0</td>\n",
       "      <td>0</td>\n",
       "    </tr>\n",
       "    <tr>\n",
       "      <th>1</th>\n",
       "      <td>2</td>\n",
       "      <td>1446496630</td>\n",
       "      <td>0</td>\n",
       "      <td>0</td>\n",
       "    </tr>\n",
       "    <tr>\n",
       "      <th>2</th>\n",
       "      <td>2</td>\n",
       "      <td>1446496932</td>\n",
       "      <td>0</td>\n",
       "      <td>0</td>\n",
       "    </tr>\n",
       "    <tr>\n",
       "      <th>3</th>\n",
       "      <td>2</td>\n",
       "      <td>1446497234</td>\n",
       "      <td>0</td>\n",
       "      <td>0</td>\n",
       "    </tr>\n",
       "    <tr>\n",
       "      <th>4</th>\n",
       "      <td>2</td>\n",
       "      <td>1446497531</td>\n",
       "      <td>0</td>\n",
       "      <td>0</td>\n",
       "    </tr>\n",
       "  </tbody>\n",
       "</table>\n",
       "</div>"
      ],
      "text/plain": [
       "  room  event_time  detec1  detec2\n",
       "0    2  1446496326       0       0\n",
       "1    2  1446496630       0       0\n",
       "2    2  1446496932       0       0\n",
       "3    2  1446497234       0       0\n",
       "4    2  1446497531       0       0"
      ]
     },
     "execution_count": 214,
     "metadata": {},
     "output_type": "execute_result"
    }
   ],
   "source": [
    "wifi_log_data.head()"
   ]
  },
  {
   "cell_type": "code",
   "execution_count": 215,
   "metadata": {
    "collapsed": false
   },
   "outputs": [
    {
     "data": {
      "text/html": [
       "<div>\n",
       "<table border=\"1\" class=\"dataframe\">\n",
       "  <thead>\n",
       "    <tr style=\"text-align: right;\">\n",
       "      <th></th>\n",
       "      <th>room</th>\n",
       "      <th>event_time</th>\n",
       "      <th>detec1</th>\n",
       "      <th>detec2</th>\n",
       "    </tr>\n",
       "  </thead>\n",
       "  <tbody>\n",
       "    <tr>\n",
       "      <th>12412</th>\n",
       "      <td>4</td>\n",
       "      <td>1447758119</td>\n",
       "      <td>18</td>\n",
       "      <td>18</td>\n",
       "    </tr>\n",
       "    <tr>\n",
       "      <th>12413</th>\n",
       "      <td>4</td>\n",
       "      <td>1447758397</td>\n",
       "      <td>32</td>\n",
       "      <td>32</td>\n",
       "    </tr>\n",
       "    <tr>\n",
       "      <th>12414</th>\n",
       "      <td>4</td>\n",
       "      <td>1447758799</td>\n",
       "      <td>39</td>\n",
       "      <td>39</td>\n",
       "    </tr>\n",
       "    <tr>\n",
       "      <th>12415</th>\n",
       "      <td>4</td>\n",
       "      <td>1447759271</td>\n",
       "      <td>42</td>\n",
       "      <td>42</td>\n",
       "    </tr>\n",
       "    <tr>\n",
       "      <th>12416</th>\n",
       "      <td>4</td>\n",
       "      <td>1447759567</td>\n",
       "      <td>46</td>\n",
       "      <td>46</td>\n",
       "    </tr>\n",
       "  </tbody>\n",
       "</table>\n",
       "</div>"
      ],
      "text/plain": [
       "      room  event_time  detec1  detec2\n",
       "12412    4  1447758119      18      18\n",
       "12413    4  1447758397      32      32\n",
       "12414    4  1447758799      39      39\n",
       "12415    4  1447759271      42      42\n",
       "12416    4  1447759567      46      46"
      ]
     },
     "execution_count": 215,
     "metadata": {},
     "output_type": "execute_result"
    }
   ],
   "source": [
    "wifi_log_data.tail()"
   ]
  },
  {
   "cell_type": "markdown",
   "metadata": {},
   "source": [
    "### Add building"
   ]
  },
  {
   "cell_type": "code",
   "execution_count": 216,
   "metadata": {
    "collapsed": true
   },
   "outputs": [],
   "source": [
    "wifi_log_data[\"building\"] = \"school of computer science\""
   ]
  },
  {
   "cell_type": "code",
   "execution_count": 217,
   "metadata": {
    "collapsed": false
   },
   "outputs": [
    {
     "data": {
      "text/html": [
       "<div>\n",
       "<table border=\"1\" class=\"dataframe\">\n",
       "  <thead>\n",
       "    <tr style=\"text-align: right;\">\n",
       "      <th></th>\n",
       "      <th>room</th>\n",
       "      <th>event_time</th>\n",
       "      <th>detec1</th>\n",
       "      <th>detec2</th>\n",
       "      <th>building</th>\n",
       "    </tr>\n",
       "  </thead>\n",
       "  <tbody>\n",
       "    <tr>\n",
       "      <th>0</th>\n",
       "      <td>2</td>\n",
       "      <td>1446496326</td>\n",
       "      <td>0</td>\n",
       "      <td>0</td>\n",
       "      <td>school of computer science</td>\n",
       "    </tr>\n",
       "    <tr>\n",
       "      <th>1</th>\n",
       "      <td>2</td>\n",
       "      <td>1446496630</td>\n",
       "      <td>0</td>\n",
       "      <td>0</td>\n",
       "      <td>school of computer science</td>\n",
       "    </tr>\n",
       "    <tr>\n",
       "      <th>2</th>\n",
       "      <td>2</td>\n",
       "      <td>1446496932</td>\n",
       "      <td>0</td>\n",
       "      <td>0</td>\n",
       "      <td>school of computer science</td>\n",
       "    </tr>\n",
       "    <tr>\n",
       "      <th>3</th>\n",
       "      <td>2</td>\n",
       "      <td>1446497234</td>\n",
       "      <td>0</td>\n",
       "      <td>0</td>\n",
       "      <td>school of computer science</td>\n",
       "    </tr>\n",
       "    <tr>\n",
       "      <th>4</th>\n",
       "      <td>2</td>\n",
       "      <td>1446497531</td>\n",
       "      <td>0</td>\n",
       "      <td>0</td>\n",
       "      <td>school of computer science</td>\n",
       "    </tr>\n",
       "  </tbody>\n",
       "</table>\n",
       "</div>"
      ],
      "text/plain": [
       "  room  event_time  detec1  detec2                    building\n",
       "0    2  1446496326       0       0  school of computer science\n",
       "1    2  1446496630       0       0  school of computer science\n",
       "2    2  1446496932       0       0  school of computer science\n",
       "3    2  1446497234       0       0  school of computer science\n",
       "4    2  1446497531       0       0  school of computer science"
      ]
     },
     "execution_count": 217,
     "metadata": {},
     "output_type": "execute_result"
    }
   ],
   "source": [
    "wifi_log_data.head()"
   ]
  },
  {
   "cell_type": "code",
   "execution_count": 218,
   "metadata": {
    "collapsed": true
   },
   "outputs": [],
   "source": [
    "occupancy_data = pd.read_csv(\"../cleaned_data/survey_data.csv\")"
   ]
  },
  {
   "cell_type": "code",
   "execution_count": 219,
   "metadata": {
    "collapsed": false
   },
   "outputs": [
    {
     "data": {
      "text/html": [
       "<div>\n",
       "<table border=\"1\" class=\"dataframe\">\n",
       "  <thead>\n",
       "    <tr style=\"text-align: right;\">\n",
       "      <th></th>\n",
       "      <th>Unnamed: 0</th>\n",
       "      <th>room</th>\n",
       "      <th>event_time</th>\n",
       "      <th>occupancy</th>\n",
       "      <th>building</th>\n",
       "    </tr>\n",
       "  </thead>\n",
       "  <tbody>\n",
       "    <tr>\n",
       "      <th>0</th>\n",
       "      <td>0</td>\n",
       "      <td>4</td>\n",
       "      <td>1446454800</td>\n",
       "      <td>0.25</td>\n",
       "      <td>school of computer science</td>\n",
       "    </tr>\n",
       "    <tr>\n",
       "      <th>1</th>\n",
       "      <td>1</td>\n",
       "      <td>2</td>\n",
       "      <td>1446454800</td>\n",
       "      <td>0.25</td>\n",
       "      <td>school of computer science</td>\n",
       "    </tr>\n",
       "    <tr>\n",
       "      <th>2</th>\n",
       "      <td>2</td>\n",
       "      <td>3</td>\n",
       "      <td>1446454800</td>\n",
       "      <td>0.25</td>\n",
       "      <td>school of computer science</td>\n",
       "    </tr>\n",
       "    <tr>\n",
       "      <th>3</th>\n",
       "      <td>3</td>\n",
       "      <td>4</td>\n",
       "      <td>1446458400</td>\n",
       "      <td>0.50</td>\n",
       "      <td>school of computer science</td>\n",
       "    </tr>\n",
       "    <tr>\n",
       "      <th>4</th>\n",
       "      <td>4</td>\n",
       "      <td>2</td>\n",
       "      <td>1446458400</td>\n",
       "      <td>0.50</td>\n",
       "      <td>school of computer science</td>\n",
       "    </tr>\n",
       "  </tbody>\n",
       "</table>\n",
       "</div>"
      ],
      "text/plain": [
       "   Unnamed: 0  room  event_time  occupancy                    building\n",
       "0           0     4  1446454800       0.25  school of computer science\n",
       "1           1     2  1446454800       0.25  school of computer science\n",
       "2           2     3  1446454800       0.25  school of computer science\n",
       "3           3     4  1446458400       0.50  school of computer science\n",
       "4           4     2  1446458400       0.50  school of computer science"
      ]
     },
     "execution_count": 219,
     "metadata": {},
     "output_type": "execute_result"
    }
   ],
   "source": [
    "occupancy_data.head()"
   ]
  },
  {
   "cell_type": "code",
   "execution_count": 220,
   "metadata": {
    "collapsed": false
   },
   "outputs": [
    {
     "data": {
      "text/html": [
       "<div>\n",
       "<table border=\"1\" class=\"dataframe\">\n",
       "  <thead>\n",
       "    <tr style=\"text-align: right;\">\n",
       "      <th></th>\n",
       "      <th>Unnamed: 0</th>\n",
       "      <th>room</th>\n",
       "      <th>event_time</th>\n",
       "      <th>occupancy</th>\n",
       "      <th>building</th>\n",
       "    </tr>\n",
       "  </thead>\n",
       "  <tbody>\n",
       "    <tr>\n",
       "      <th>235</th>\n",
       "      <td>235</td>\n",
       "      <td>2</td>\n",
       "      <td>1447426800</td>\n",
       "      <td>0.25</td>\n",
       "      <td>school of computer science</td>\n",
       "    </tr>\n",
       "    <tr>\n",
       "      <th>236</th>\n",
       "      <td>236</td>\n",
       "      <td>3</td>\n",
       "      <td>1447426800</td>\n",
       "      <td>0.25</td>\n",
       "      <td>school of computer science</td>\n",
       "    </tr>\n",
       "    <tr>\n",
       "      <th>237</th>\n",
       "      <td>237</td>\n",
       "      <td>4</td>\n",
       "      <td>1447430400</td>\n",
       "      <td>0.00</td>\n",
       "      <td>school of computer science</td>\n",
       "    </tr>\n",
       "    <tr>\n",
       "      <th>238</th>\n",
       "      <td>238</td>\n",
       "      <td>2</td>\n",
       "      <td>1447430400</td>\n",
       "      <td>0.25</td>\n",
       "      <td>school of computer science</td>\n",
       "    </tr>\n",
       "    <tr>\n",
       "      <th>239</th>\n",
       "      <td>239</td>\n",
       "      <td>3</td>\n",
       "      <td>1447430400</td>\n",
       "      <td>0.25</td>\n",
       "      <td>school of computer science</td>\n",
       "    </tr>\n",
       "  </tbody>\n",
       "</table>\n",
       "</div>"
      ],
      "text/plain": [
       "     Unnamed: 0  room  event_time  occupancy                    building\n",
       "235         235     2  1447426800       0.25  school of computer science\n",
       "236         236     3  1447426800       0.25  school of computer science\n",
       "237         237     4  1447430400       0.00  school of computer science\n",
       "238         238     2  1447430400       0.25  school of computer science\n",
       "239         239     3  1447430400       0.25  school of computer science"
      ]
     },
     "execution_count": 220,
     "metadata": {},
     "output_type": "execute_result"
    }
   ],
   "source": [
    "occupancy_data.tail()"
   ]
  },
  {
   "cell_type": "markdown",
   "metadata": {},
   "source": [
    "### Deleted unwated column"
   ]
  },
  {
   "cell_type": "code",
   "execution_count": 221,
   "metadata": {
    "collapsed": false
   },
   "outputs": [],
   "source": [
    "del occupancy_data[\"Unnamed: 0\"]"
   ]
  },
  {
   "cell_type": "code",
   "execution_count": 222,
   "metadata": {
    "collapsed": false
   },
   "outputs": [
    {
     "data": {
      "text/html": [
       "<div>\n",
       "<table border=\"1\" class=\"dataframe\">\n",
       "  <thead>\n",
       "    <tr style=\"text-align: right;\">\n",
       "      <th></th>\n",
       "      <th>room</th>\n",
       "      <th>event_time</th>\n",
       "      <th>occupancy</th>\n",
       "      <th>building</th>\n",
       "    </tr>\n",
       "  </thead>\n",
       "  <tbody>\n",
       "    <tr>\n",
       "      <th>0</th>\n",
       "      <td>4</td>\n",
       "      <td>1446454800</td>\n",
       "      <td>0.25</td>\n",
       "      <td>school of computer science</td>\n",
       "    </tr>\n",
       "    <tr>\n",
       "      <th>1</th>\n",
       "      <td>2</td>\n",
       "      <td>1446454800</td>\n",
       "      <td>0.25</td>\n",
       "      <td>school of computer science</td>\n",
       "    </tr>\n",
       "    <tr>\n",
       "      <th>2</th>\n",
       "      <td>3</td>\n",
       "      <td>1446454800</td>\n",
       "      <td>0.25</td>\n",
       "      <td>school of computer science</td>\n",
       "    </tr>\n",
       "    <tr>\n",
       "      <th>3</th>\n",
       "      <td>4</td>\n",
       "      <td>1446458400</td>\n",
       "      <td>0.50</td>\n",
       "      <td>school of computer science</td>\n",
       "    </tr>\n",
       "    <tr>\n",
       "      <th>4</th>\n",
       "      <td>2</td>\n",
       "      <td>1446458400</td>\n",
       "      <td>0.50</td>\n",
       "      <td>school of computer science</td>\n",
       "    </tr>\n",
       "  </tbody>\n",
       "</table>\n",
       "</div>"
      ],
      "text/plain": [
       "   room  event_time  occupancy                    building\n",
       "0     4  1446454800       0.25  school of computer science\n",
       "1     2  1446454800       0.25  school of computer science\n",
       "2     3  1446454800       0.25  school of computer science\n",
       "3     4  1446458400       0.50  school of computer science\n",
       "4     2  1446458400       0.50  school of computer science"
      ]
     },
     "execution_count": 222,
     "metadata": {},
     "output_type": "execute_result"
    }
   ],
   "source": [
    "occupancy_data.head()"
   ]
  },
  {
   "cell_type": "markdown",
   "metadata": {},
   "source": [
    "# Prepare data for analysis"
   ]
  },
  {
   "cell_type": "markdown",
   "metadata": {},
   "source": [
    "### Transform EPOCH time into human-friendly time"
   ]
  },
  {
   "cell_type": "code",
   "execution_count": 223,
   "metadata": {
    "collapsed": false
   },
   "outputs": [
    {
     "data": {
      "text/html": [
       "<div>\n",
       "<table border=\"1\" class=\"dataframe\">\n",
       "  <thead>\n",
       "    <tr style=\"text-align: right;\">\n",
       "      <th></th>\n",
       "      <th>room</th>\n",
       "      <th>event_time</th>\n",
       "      <th>occupancy</th>\n",
       "      <th>building</th>\n",
       "    </tr>\n",
       "  </thead>\n",
       "  <tbody>\n",
       "    <tr>\n",
       "      <th>0</th>\n",
       "      <td>4</td>\n",
       "      <td>2015-11-02 09:00:00</td>\n",
       "      <td>0.25</td>\n",
       "      <td>school of computer science</td>\n",
       "    </tr>\n",
       "    <tr>\n",
       "      <th>1</th>\n",
       "      <td>2</td>\n",
       "      <td>2015-11-02 09:00:00</td>\n",
       "      <td>0.25</td>\n",
       "      <td>school of computer science</td>\n",
       "    </tr>\n",
       "    <tr>\n",
       "      <th>2</th>\n",
       "      <td>3</td>\n",
       "      <td>2015-11-02 09:00:00</td>\n",
       "      <td>0.25</td>\n",
       "      <td>school of computer science</td>\n",
       "    </tr>\n",
       "    <tr>\n",
       "      <th>3</th>\n",
       "      <td>4</td>\n",
       "      <td>2015-11-02 10:00:00</td>\n",
       "      <td>0.50</td>\n",
       "      <td>school of computer science</td>\n",
       "    </tr>\n",
       "    <tr>\n",
       "      <th>4</th>\n",
       "      <td>2</td>\n",
       "      <td>2015-11-02 10:00:00</td>\n",
       "      <td>0.50</td>\n",
       "      <td>school of computer science</td>\n",
       "    </tr>\n",
       "  </tbody>\n",
       "</table>\n",
       "</div>"
      ],
      "text/plain": [
       "   room          event_time  occupancy                    building\n",
       "0     4 2015-11-02 09:00:00       0.25  school of computer science\n",
       "1     2 2015-11-02 09:00:00       0.25  school of computer science\n",
       "2     3 2015-11-02 09:00:00       0.25  school of computer science\n",
       "3     4 2015-11-02 10:00:00       0.50  school of computer science\n",
       "4     2 2015-11-02 10:00:00       0.50  school of computer science"
      ]
     },
     "execution_count": 223,
     "metadata": {},
     "output_type": "execute_result"
    }
   ],
   "source": [
    "occupancy_data['event_time'] = pd.to_datetime(occupancy_data.event_time, unit='s')\n",
    "occupancy_data.head()"
   ]
  },
  {
   "cell_type": "code",
   "execution_count": 224,
   "metadata": {
    "collapsed": false
   },
   "outputs": [
    {
     "data": {
      "text/html": [
       "<div>\n",
       "<table border=\"1\" class=\"dataframe\">\n",
       "  <thead>\n",
       "    <tr style=\"text-align: right;\">\n",
       "      <th></th>\n",
       "      <th>room</th>\n",
       "      <th>detec1</th>\n",
       "      <th>detec2</th>\n",
       "      <th>building</th>\n",
       "    </tr>\n",
       "    <tr>\n",
       "      <th>event_time</th>\n",
       "      <th></th>\n",
       "      <th></th>\n",
       "      <th></th>\n",
       "      <th></th>\n",
       "    </tr>\n",
       "  </thead>\n",
       "  <tbody>\n",
       "    <tr>\n",
       "      <th>2015-11-02 20:32:06</th>\n",
       "      <td>2</td>\n",
       "      <td>0</td>\n",
       "      <td>0</td>\n",
       "      <td>school of computer science</td>\n",
       "    </tr>\n",
       "    <tr>\n",
       "      <th>2015-11-02 20:37:10</th>\n",
       "      <td>2</td>\n",
       "      <td>0</td>\n",
       "      <td>0</td>\n",
       "      <td>school of computer science</td>\n",
       "    </tr>\n",
       "    <tr>\n",
       "      <th>2015-11-02 20:42:12</th>\n",
       "      <td>2</td>\n",
       "      <td>0</td>\n",
       "      <td>0</td>\n",
       "      <td>school of computer science</td>\n",
       "    </tr>\n",
       "    <tr>\n",
       "      <th>2015-11-02 20:47:14</th>\n",
       "      <td>2</td>\n",
       "      <td>0</td>\n",
       "      <td>0</td>\n",
       "      <td>school of computer science</td>\n",
       "    </tr>\n",
       "    <tr>\n",
       "      <th>2015-11-02 20:52:11</th>\n",
       "      <td>2</td>\n",
       "      <td>0</td>\n",
       "      <td>0</td>\n",
       "      <td>school of computer science</td>\n",
       "    </tr>\n",
       "  </tbody>\n",
       "</table>\n",
       "</div>"
      ],
      "text/plain": [
       "                    room  detec1  detec2                    building\n",
       "event_time                                                          \n",
       "2015-11-02 20:32:06    2       0       0  school of computer science\n",
       "2015-11-02 20:37:10    2       0       0  school of computer science\n",
       "2015-11-02 20:42:12    2       0       0  school of computer science\n",
       "2015-11-02 20:47:14    2       0       0  school of computer science\n",
       "2015-11-02 20:52:11    2       0       0  school of computer science"
      ]
     },
     "execution_count": 224,
     "metadata": {},
     "output_type": "execute_result"
    }
   ],
   "source": [
    "wifi_log_data['event_time'] = pd.to_datetime(wifi_log_data.event_time, unit='s')\n",
    "wifi_log_data.set_index('event_time', inplace=True)\n",
    "wifi_log_data.head()"
   ]
  },
  {
   "cell_type": "code",
   "execution_count": 225,
   "metadata": {
    "collapsed": false
   },
   "outputs": [
    {
     "data": {
      "text/html": [
       "<div>\n",
       "<table border=\"1\" class=\"dataframe\">\n",
       "  <thead>\n",
       "    <tr style=\"text-align: right;\">\n",
       "      <th></th>\n",
       "      <th>room</th>\n",
       "      <th>detec1</th>\n",
       "      <th>detec2</th>\n",
       "      <th>building</th>\n",
       "      <th>event_hour</th>\n",
       "      <th>event_day</th>\n",
       "    </tr>\n",
       "  </thead>\n",
       "  <tbody>\n",
       "    <tr>\n",
       "      <th>2015-11-02 20:32:06</th>\n",
       "      <td>2</td>\n",
       "      <td>0</td>\n",
       "      <td>0</td>\n",
       "      <td>school of computer science</td>\n",
       "      <td>20</td>\n",
       "      <td>2</td>\n",
       "    </tr>\n",
       "    <tr>\n",
       "      <th>2015-11-02 20:37:10</th>\n",
       "      <td>2</td>\n",
       "      <td>0</td>\n",
       "      <td>0</td>\n",
       "      <td>school of computer science</td>\n",
       "      <td>20</td>\n",
       "      <td>2</td>\n",
       "    </tr>\n",
       "    <tr>\n",
       "      <th>2015-11-02 20:42:12</th>\n",
       "      <td>2</td>\n",
       "      <td>0</td>\n",
       "      <td>0</td>\n",
       "      <td>school of computer science</td>\n",
       "      <td>20</td>\n",
       "      <td>2</td>\n",
       "    </tr>\n",
       "    <tr>\n",
       "      <th>2015-11-02 20:47:14</th>\n",
       "      <td>2</td>\n",
       "      <td>0</td>\n",
       "      <td>0</td>\n",
       "      <td>school of computer science</td>\n",
       "      <td>20</td>\n",
       "      <td>2</td>\n",
       "    </tr>\n",
       "    <tr>\n",
       "      <th>2015-11-02 20:52:11</th>\n",
       "      <td>2</td>\n",
       "      <td>0</td>\n",
       "      <td>0</td>\n",
       "      <td>school of computer science</td>\n",
       "      <td>20</td>\n",
       "      <td>2</td>\n",
       "    </tr>\n",
       "  </tbody>\n",
       "</table>\n",
       "</div>"
      ],
      "text/plain": [
       "                    room  detec1  detec2                    building  \\\n",
       "2015-11-02 20:32:06    2       0       0  school of computer science   \n",
       "2015-11-02 20:37:10    2       0       0  school of computer science   \n",
       "2015-11-02 20:42:12    2       0       0  school of computer science   \n",
       "2015-11-02 20:47:14    2       0       0  school of computer science   \n",
       "2015-11-02 20:52:11    2       0       0  school of computer science   \n",
       "\n",
       "                     event_hour  event_day  \n",
       "2015-11-02 20:32:06          20          2  \n",
       "2015-11-02 20:37:10          20          2  \n",
       "2015-11-02 20:42:12          20          2  \n",
       "2015-11-02 20:47:14          20          2  \n",
       "2015-11-02 20:52:11          20          2  "
      ]
     },
     "execution_count": 225,
     "metadata": {},
     "output_type": "execute_result"
    }
   ],
   "source": [
    "wifi_log_data['event_hour'] = wifi_log_data.index.hour\n",
    "wifi_log_data['event_day'] = wifi_log_data.index.day\n",
    "\n",
    "wifi_log_data.index.name = None\n",
    "\n",
    "wifi_log_data.head()"
   ]
  },
  {
   "cell_type": "code",
   "execution_count": 226,
   "metadata": {
    "collapsed": false
   },
   "outputs": [
    {
     "data": {
      "text/html": [
       "<div>\n",
       "<table border=\"1\" class=\"dataframe\">\n",
       "  <thead>\n",
       "    <tr style=\"text-align: right;\">\n",
       "      <th></th>\n",
       "      <th>room</th>\n",
       "      <th>occupancy</th>\n",
       "      <th>building</th>\n",
       "    </tr>\n",
       "    <tr>\n",
       "      <th>event_time</th>\n",
       "      <th></th>\n",
       "      <th></th>\n",
       "      <th></th>\n",
       "    </tr>\n",
       "  </thead>\n",
       "  <tbody>\n",
       "    <tr>\n",
       "      <th>2015-11-02 09:00:00</th>\n",
       "      <td>4</td>\n",
       "      <td>0.25</td>\n",
       "      <td>school of computer science</td>\n",
       "    </tr>\n",
       "    <tr>\n",
       "      <th>2015-11-02 09:00:00</th>\n",
       "      <td>2</td>\n",
       "      <td>0.25</td>\n",
       "      <td>school of computer science</td>\n",
       "    </tr>\n",
       "    <tr>\n",
       "      <th>2015-11-02 09:00:00</th>\n",
       "      <td>3</td>\n",
       "      <td>0.25</td>\n",
       "      <td>school of computer science</td>\n",
       "    </tr>\n",
       "    <tr>\n",
       "      <th>2015-11-02 10:00:00</th>\n",
       "      <td>4</td>\n",
       "      <td>0.50</td>\n",
       "      <td>school of computer science</td>\n",
       "    </tr>\n",
       "    <tr>\n",
       "      <th>2015-11-02 10:00:00</th>\n",
       "      <td>2</td>\n",
       "      <td>0.50</td>\n",
       "      <td>school of computer science</td>\n",
       "    </tr>\n",
       "  </tbody>\n",
       "</table>\n",
       "</div>"
      ],
      "text/plain": [
       "                     room  occupancy                    building\n",
       "event_time                                                      \n",
       "2015-11-02 09:00:00     4       0.25  school of computer science\n",
       "2015-11-02 09:00:00     2       0.25  school of computer science\n",
       "2015-11-02 09:00:00     3       0.25  school of computer science\n",
       "2015-11-02 10:00:00     4       0.50  school of computer science\n",
       "2015-11-02 10:00:00     2       0.50  school of computer science"
      ]
     },
     "execution_count": 226,
     "metadata": {},
     "output_type": "execute_result"
    }
   ],
   "source": [
    "occupancy_data['event_time'] = pd.to_datetime(occupancy_data.event_time, unit='s')\n",
    "occupancy_data.set_index('event_time', inplace=True)\n",
    "occupancy_data.head()"
   ]
  },
  {
   "cell_type": "code",
   "execution_count": 227,
   "metadata": {
    "collapsed": false
   },
   "outputs": [
    {
     "data": {
      "text/html": [
       "<div>\n",
       "<table border=\"1\" class=\"dataframe\">\n",
       "  <thead>\n",
       "    <tr style=\"text-align: right;\">\n",
       "      <th></th>\n",
       "      <th>room</th>\n",
       "      <th>occupancy</th>\n",
       "      <th>building</th>\n",
       "      <th>event_hour</th>\n",
       "      <th>event_day</th>\n",
       "    </tr>\n",
       "  </thead>\n",
       "  <tbody>\n",
       "    <tr>\n",
       "      <th>2015-11-02 09:00:00</th>\n",
       "      <td>4</td>\n",
       "      <td>0.25</td>\n",
       "      <td>school of computer science</td>\n",
       "      <td>9</td>\n",
       "      <td>2</td>\n",
       "    </tr>\n",
       "    <tr>\n",
       "      <th>2015-11-02 09:00:00</th>\n",
       "      <td>2</td>\n",
       "      <td>0.25</td>\n",
       "      <td>school of computer science</td>\n",
       "      <td>9</td>\n",
       "      <td>2</td>\n",
       "    </tr>\n",
       "    <tr>\n",
       "      <th>2015-11-02 09:00:00</th>\n",
       "      <td>3</td>\n",
       "      <td>0.25</td>\n",
       "      <td>school of computer science</td>\n",
       "      <td>9</td>\n",
       "      <td>2</td>\n",
       "    </tr>\n",
       "    <tr>\n",
       "      <th>2015-11-02 10:00:00</th>\n",
       "      <td>4</td>\n",
       "      <td>0.50</td>\n",
       "      <td>school of computer science</td>\n",
       "      <td>10</td>\n",
       "      <td>2</td>\n",
       "    </tr>\n",
       "    <tr>\n",
       "      <th>2015-11-02 10:00:00</th>\n",
       "      <td>2</td>\n",
       "      <td>0.50</td>\n",
       "      <td>school of computer science</td>\n",
       "      <td>10</td>\n",
       "      <td>2</td>\n",
       "    </tr>\n",
       "  </tbody>\n",
       "</table>\n",
       "</div>"
      ],
      "text/plain": [
       "                     room  occupancy                    building  event_hour  \\\n",
       "2015-11-02 09:00:00     4       0.25  school of computer science           9   \n",
       "2015-11-02 09:00:00     2       0.25  school of computer science           9   \n",
       "2015-11-02 09:00:00     3       0.25  school of computer science           9   \n",
       "2015-11-02 10:00:00     4       0.50  school of computer science          10   \n",
       "2015-11-02 10:00:00     2       0.50  school of computer science          10   \n",
       "\n",
       "                     event_day  \n",
       "2015-11-02 09:00:00          2  \n",
       "2015-11-02 09:00:00          2  \n",
       "2015-11-02 09:00:00          2  \n",
       "2015-11-02 10:00:00          2  \n",
       "2015-11-02 10:00:00          2  "
      ]
     },
     "execution_count": 227,
     "metadata": {},
     "output_type": "execute_result"
    }
   ],
   "source": [
    "occupancy_data['event_hour'] = occupancy_data.index.hour\n",
    "occupancy_data['event_day'] = occupancy_data.index.day\n",
    "\n",
    "occupancy_data.index.name = None\n",
    "\n",
    "occupancy_data.head()"
   ]
  },
  {
   "cell_type": "markdown",
   "metadata": {},
   "source": [
    "### Compute average number of wifi connections per room, day and hour\n",
    "\n",
    "##### This is to make it easy to compare it with the survey data where we only have 1 recorded value per room, day and hour"
   ]
  },
  {
   "cell_type": "code",
   "execution_count": 228,
   "metadata": {
    "collapsed": true
   },
   "outputs": [],
   "source": [
    "df_mean_conn = wifi_log_data.groupby(['room', 'event_day', 'event_hour'], as_index=False).mean()"
   ]
  },
  {
   "cell_type": "code",
   "execution_count": 229,
   "metadata": {
    "collapsed": false
   },
   "outputs": [
    {
     "data": {
      "text/html": [
       "<div>\n",
       "<table border=\"1\" class=\"dataframe\">\n",
       "  <thead>\n",
       "    <tr style=\"text-align: right;\">\n",
       "      <th></th>\n",
       "      <th>room</th>\n",
       "      <th>event_day</th>\n",
       "      <th>event_hour</th>\n",
       "      <th>detec1</th>\n",
       "      <th>detec2</th>\n",
       "    </tr>\n",
       "  </thead>\n",
       "  <tbody>\n",
       "    <tr>\n",
       "      <th>0</th>\n",
       "      <td>2</td>\n",
       "      <td>2</td>\n",
       "      <td>20</td>\n",
       "      <td>0.0</td>\n",
       "      <td>0.0</td>\n",
       "    </tr>\n",
       "    <tr>\n",
       "      <th>1</th>\n",
       "      <td>2</td>\n",
       "      <td>2</td>\n",
       "      <td>21</td>\n",
       "      <td>0.0</td>\n",
       "      <td>0.0</td>\n",
       "    </tr>\n",
       "    <tr>\n",
       "      <th>2</th>\n",
       "      <td>2</td>\n",
       "      <td>2</td>\n",
       "      <td>22</td>\n",
       "      <td>0.0</td>\n",
       "      <td>0.0</td>\n",
       "    </tr>\n",
       "    <tr>\n",
       "      <th>3</th>\n",
       "      <td>2</td>\n",
       "      <td>2</td>\n",
       "      <td>23</td>\n",
       "      <td>0.0</td>\n",
       "      <td>0.0</td>\n",
       "    </tr>\n",
       "    <tr>\n",
       "      <th>4</th>\n",
       "      <td>2</td>\n",
       "      <td>3</td>\n",
       "      <td>0</td>\n",
       "      <td>0.0</td>\n",
       "      <td>0.0</td>\n",
       "    </tr>\n",
       "  </tbody>\n",
       "</table>\n",
       "</div>"
      ],
      "text/plain": [
       "  room  event_day  event_hour  detec1  detec2\n",
       "0    2          2          20     0.0     0.0\n",
       "1    2          2          21     0.0     0.0\n",
       "2    2          2          22     0.0     0.0\n",
       "3    2          2          23     0.0     0.0\n",
       "4    2          3           0     0.0     0.0"
      ]
     },
     "execution_count": 229,
     "metadata": {},
     "output_type": "execute_result"
    }
   ],
   "source": [
    "df_mean_conn.head()"
   ]
  },
  {
   "cell_type": "markdown",
   "metadata": {},
   "source": [
    "### Merge the data into a single data frame"
   ]
  },
  {
   "cell_type": "code",
   "execution_count": 233,
   "metadata": {
    "collapsed": false
   },
   "outputs": [
    {
     "name": "stdout",
     "output_type": "stream",
     "text": [
      "room            int64\n",
      "event_day       int64\n",
      "event_hour      int64\n",
      "detec1        float64\n",
      "detec2        float64\n",
      "dtype: object\n"
     ]
    }
   ],
   "source": [
    "df_mean_conn['room'] = df_mean_conn['room'].astype(int)\n",
    "\n",
    "print(df_mean_conn.dtypes)"
   ]
  },
  {
   "cell_type": "code",
   "execution_count": 234,
   "metadata": {
    "collapsed": false
   },
   "outputs": [
    {
     "data": {
      "text/plain": [
       "room            int64\n",
       "occupancy     float64\n",
       "building       object\n",
       "event_hour      int32\n",
       "event_day       int32\n",
       "dtype: object"
      ]
     },
     "execution_count": 234,
     "metadata": {},
     "output_type": "execute_result"
    }
   ],
   "source": [
    "occupancy_data.dtypes"
   ]
  },
  {
   "cell_type": "code",
   "execution_count": 236,
   "metadata": {
    "collapsed": false
   },
   "outputs": [
    {
     "data": {
      "text/html": [
       "<div>\n",
       "<table border=\"1\" class=\"dataframe\">\n",
       "  <thead>\n",
       "    <tr style=\"text-align: right;\">\n",
       "      <th></th>\n",
       "      <th>room</th>\n",
       "      <th>event_day</th>\n",
       "      <th>event_hour</th>\n",
       "      <th>detec1</th>\n",
       "      <th>detec2</th>\n",
       "      <th>occupancy</th>\n",
       "      <th>building</th>\n",
       "    </tr>\n",
       "  </thead>\n",
       "  <tbody>\n",
       "    <tr>\n",
       "      <th>0</th>\n",
       "      <td>2</td>\n",
       "      <td>3</td>\n",
       "      <td>9</td>\n",
       "      <td>4.750000</td>\n",
       "      <td>4.666667</td>\n",
       "      <td>0.00</td>\n",
       "      <td>school of computer science</td>\n",
       "    </tr>\n",
       "    <tr>\n",
       "      <th>1</th>\n",
       "      <td>2</td>\n",
       "      <td>3</td>\n",
       "      <td>10</td>\n",
       "      <td>29.272727</td>\n",
       "      <td>29.181818</td>\n",
       "      <td>0.50</td>\n",
       "      <td>school of computer science</td>\n",
       "    </tr>\n",
       "    <tr>\n",
       "      <th>2</th>\n",
       "      <td>2</td>\n",
       "      <td>3</td>\n",
       "      <td>11</td>\n",
       "      <td>28.727273</td>\n",
       "      <td>28.636364</td>\n",
       "      <td>0.50</td>\n",
       "      <td>school of computer science</td>\n",
       "    </tr>\n",
       "    <tr>\n",
       "      <th>3</th>\n",
       "      <td>2</td>\n",
       "      <td>3</td>\n",
       "      <td>12</td>\n",
       "      <td>14.166667</td>\n",
       "      <td>14.166667</td>\n",
       "      <td>0.50</td>\n",
       "      <td>school of computer science</td>\n",
       "    </tr>\n",
       "    <tr>\n",
       "      <th>4</th>\n",
       "      <td>2</td>\n",
       "      <td>3</td>\n",
       "      <td>13</td>\n",
       "      <td>14.250000</td>\n",
       "      <td>14.166667</td>\n",
       "      <td>0.00</td>\n",
       "      <td>school of computer science</td>\n",
       "    </tr>\n",
       "    <tr>\n",
       "      <th>5</th>\n",
       "      <td>2</td>\n",
       "      <td>3</td>\n",
       "      <td>14</td>\n",
       "      <td>46.363636</td>\n",
       "      <td>46.181818</td>\n",
       "      <td>0.75</td>\n",
       "      <td>school of computer science</td>\n",
       "    </tr>\n",
       "    <tr>\n",
       "      <th>6</th>\n",
       "      <td>2</td>\n",
       "      <td>3</td>\n",
       "      <td>15</td>\n",
       "      <td>40.272727</td>\n",
       "      <td>39.727273</td>\n",
       "      <td>0.25</td>\n",
       "      <td>school of computer science</td>\n",
       "    </tr>\n",
       "    <tr>\n",
       "      <th>7</th>\n",
       "      <td>2</td>\n",
       "      <td>3</td>\n",
       "      <td>16</td>\n",
       "      <td>36.416667</td>\n",
       "      <td>35.916667</td>\n",
       "      <td>0.25</td>\n",
       "      <td>school of computer science</td>\n",
       "    </tr>\n",
       "    <tr>\n",
       "      <th>8</th>\n",
       "      <td>2</td>\n",
       "      <td>4</td>\n",
       "      <td>9</td>\n",
       "      <td>13.454545</td>\n",
       "      <td>13.363636</td>\n",
       "      <td>0.25</td>\n",
       "      <td>school of computer science</td>\n",
       "    </tr>\n",
       "    <tr>\n",
       "      <th>9</th>\n",
       "      <td>2</td>\n",
       "      <td>4</td>\n",
       "      <td>10</td>\n",
       "      <td>14.416667</td>\n",
       "      <td>14.333333</td>\n",
       "      <td>0.25</td>\n",
       "      <td>school of computer science</td>\n",
       "    </tr>\n",
       "    <tr>\n",
       "      <th>10</th>\n",
       "      <td>2</td>\n",
       "      <td>4</td>\n",
       "      <td>11</td>\n",
       "      <td>8.363636</td>\n",
       "      <td>8.272727</td>\n",
       "      <td>0.25</td>\n",
       "      <td>school of computer science</td>\n",
       "    </tr>\n",
       "    <tr>\n",
       "      <th>11</th>\n",
       "      <td>2</td>\n",
       "      <td>4</td>\n",
       "      <td>12</td>\n",
       "      <td>33.181818</td>\n",
       "      <td>33.000000</td>\n",
       "      <td>0.50</td>\n",
       "      <td>school of computer science</td>\n",
       "    </tr>\n",
       "    <tr>\n",
       "      <th>12</th>\n",
       "      <td>2</td>\n",
       "      <td>4</td>\n",
       "      <td>13</td>\n",
       "      <td>25.083333</td>\n",
       "      <td>25.083333</td>\n",
       "      <td>0.00</td>\n",
       "      <td>school of computer science</td>\n",
       "    </tr>\n",
       "    <tr>\n",
       "      <th>13</th>\n",
       "      <td>2</td>\n",
       "      <td>4</td>\n",
       "      <td>14</td>\n",
       "      <td>23.000000</td>\n",
       "      <td>23.000000</td>\n",
       "      <td>0.25</td>\n",
       "      <td>school of computer science</td>\n",
       "    </tr>\n",
       "    <tr>\n",
       "      <th>14</th>\n",
       "      <td>2</td>\n",
       "      <td>4</td>\n",
       "      <td>15</td>\n",
       "      <td>5.545455</td>\n",
       "      <td>5.545455</td>\n",
       "      <td>0.00</td>\n",
       "      <td>school of computer science</td>\n",
       "    </tr>\n",
       "  </tbody>\n",
       "</table>\n",
       "</div>"
      ],
      "text/plain": [
       "    room  event_day  event_hour     detec1     detec2  occupancy  \\\n",
       "0      2          3           9   4.750000   4.666667       0.00   \n",
       "1      2          3          10  29.272727  29.181818       0.50   \n",
       "2      2          3          11  28.727273  28.636364       0.50   \n",
       "3      2          3          12  14.166667  14.166667       0.50   \n",
       "4      2          3          13  14.250000  14.166667       0.00   \n",
       "5      2          3          14  46.363636  46.181818       0.75   \n",
       "6      2          3          15  40.272727  39.727273       0.25   \n",
       "7      2          3          16  36.416667  35.916667       0.25   \n",
       "8      2          4           9  13.454545  13.363636       0.25   \n",
       "9      2          4          10  14.416667  14.333333       0.25   \n",
       "10     2          4          11   8.363636   8.272727       0.25   \n",
       "11     2          4          12  33.181818  33.000000       0.50   \n",
       "12     2          4          13  25.083333  25.083333       0.00   \n",
       "13     2          4          14  23.000000  23.000000       0.25   \n",
       "14     2          4          15   5.545455   5.545455       0.00   \n",
       "\n",
       "                      building  \n",
       "0   school of computer science  \n",
       "1   school of computer science  \n",
       "2   school of computer science  \n",
       "3   school of computer science  \n",
       "4   school of computer science  \n",
       "5   school of computer science  \n",
       "6   school of computer science  \n",
       "7   school of computer science  \n",
       "8   school of computer science  \n",
       "9   school of computer science  \n",
       "10  school of computer science  \n",
       "11  school of computer science  \n",
       "12  school of computer science  \n",
       "13  school of computer science  \n",
       "14  school of computer science  "
      ]
     },
     "execution_count": 236,
     "metadata": {},
     "output_type": "execute_result"
    }
   ],
   "source": [
    "df = pd.merge(df_mean_conn, occupancy_data, on=['room', 'event_day', 'event_hour'], how='inner')\n",
    "\n",
    "df.head(15)"
   ]
  },
  {
   "cell_type": "code",
   "execution_count": 237,
   "metadata": {
    "collapsed": true
   },
   "outputs": [],
   "source": [
    "df.to_csv('wifi_logs_occupancy_survey_merged_df.csv')"
   ]
  },
  {
   "cell_type": "markdown",
   "metadata": {},
   "source": [
    "# Data analytics"
   ]
  },
  {
   "cell_type": "code",
   "execution_count": null,
   "metadata": {
    "collapsed": true
   },
   "outputs": [],
   "source": []
  }
 ],
 "metadata": {
  "kernelspec": {
   "display_name": "Python 3",
   "language": "python",
   "name": "python3"
  },
  "language_info": {
   "codemirror_mode": {
    "name": "ipython",
    "version": 3
   },
   "file_extension": ".py",
   "mimetype": "text/x-python",
   "name": "python",
   "nbconvert_exporter": "python",
   "pygments_lexer": "ipython3",
   "version": "3.5.1+"
  }
 },
 "nbformat": 4,
 "nbformat_minor": 0
}
