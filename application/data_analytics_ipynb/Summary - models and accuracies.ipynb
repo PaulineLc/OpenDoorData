{
 "cells": [
  {
   "cell_type": "markdown",
   "metadata": {},
   "source": [
    "| Model                 |   accuracy | \n",
    "|-------------------------|---|\n",
    "| linreg - mean|57.870|\n",
    "| linreg - mean - no intercept|60.648|\n",
    "| linreg - median|60.185|\n",
    "| linreg - median - no intercept |64.351|\n",
    "| linreg - max|58.333|\n",
    "| linreg - max - no intercept|58.796|\n",
    "| linreg - min|45.370|\n",
    "| linreg - min - no intercept|48.611|"
   ]
  },
  {
   "cell_type": "code",
   "execution_count": null,
   "metadata": {
    "collapsed": true
   },
   "outputs": [],
   "source": []
  }
 ],
 "metadata": {
  "kernelspec": {
   "display_name": "Python 3",
   "language": "python",
   "name": "python3"
  },
  "language_info": {
   "codemirror_mode": {
    "name": "ipython",
    "version": 3
   },
   "file_extension": ".py",
   "mimetype": "text/x-python",
   "name": "python",
   "nbconvert_exporter": "python",
   "pygments_lexer": "ipython3",
   "version": "3.5.1+"
  }
 },
 "nbformat": 4,
 "nbformat_minor": 0
}
