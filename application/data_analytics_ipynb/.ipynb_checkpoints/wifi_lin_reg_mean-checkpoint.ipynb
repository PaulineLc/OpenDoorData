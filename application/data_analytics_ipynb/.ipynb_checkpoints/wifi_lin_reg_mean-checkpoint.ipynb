{
 "cells": [
  {
   "cell_type": "code",
   "execution_count": 1,
   "metadata": {
    "collapsed": true
   },
   "outputs": [],
   "source": [
    "import pandas as pd"
   ]
  },
  {
   "cell_type": "markdown",
   "metadata": {},
   "source": [
    "# Clean data"
   ]
  },
  {
   "cell_type": "markdown",
   "metadata": {},
   "source": [
    "### Read files"
   ]
  },
  {
   "cell_type": "code",
   "execution_count": 2,
   "metadata": {
    "collapsed": false
   },
   "outputs": [
    {
     "name": "stdout",
     "output_type": "stream",
     "text": [
      "Data analytics notebook - first linear regression.ipynb\r\n",
      "Data analytics notebook - logistic regression.ipynb\r\n",
      "wifi_log_model_max.ipynb\r\n",
      "wifi_log_model_median.ipynb\r\n",
      "wifi_log_model_min.ipynb\r\n",
      "wifi_logs_occupancy_survey_merged_df.csv\r\n"
     ]
    }
   ],
   "source": [
    "%ls"
   ]
  },
  {
   "cell_type": "code",
   "execution_count": 3,
   "metadata": {
    "collapsed": false
   },
   "outputs": [
    {
     "data": {
      "text/html": [
       "<div>\n",
       "<table border=\"1\" class=\"dataframe\">\n",
       "  <thead>\n",
       "    <tr style=\"text-align: right;\">\n",
       "      <th></th>\n",
       "      <th>room</th>\n",
       "      <th>event_time</th>\n",
       "      <th>detec1</th>\n",
       "      <th>detec2</th>\n",
       "    </tr>\n",
       "  </thead>\n",
       "  <tbody>\n",
       "    <tr>\n",
       "      <th>0</th>\n",
       "      <td>Belfield &gt; Computer Science &gt; B-002</td>\n",
       "      <td>Mon Nov 02 20:32:06 GMT+00:00 2015</td>\n",
       "      <td>0</td>\n",
       "      <td>0</td>\n",
       "    </tr>\n",
       "    <tr>\n",
       "      <th>1</th>\n",
       "      <td>Belfield &gt; Computer Science &gt; B-002</td>\n",
       "      <td>Mon Nov 02 20:37:10 GMT+00:00 2015</td>\n",
       "      <td>0</td>\n",
       "      <td>0</td>\n",
       "    </tr>\n",
       "    <tr>\n",
       "      <th>2</th>\n",
       "      <td>Belfield &gt; Computer Science &gt; B-002</td>\n",
       "      <td>Mon Nov 02 20:42:12 GMT+00:00 2015</td>\n",
       "      <td>0</td>\n",
       "      <td>0</td>\n",
       "    </tr>\n",
       "    <tr>\n",
       "      <th>3</th>\n",
       "      <td>Belfield &gt; Computer Science &gt; B-002</td>\n",
       "      <td>Mon Nov 02 20:47:14 GMT+00:00 2015</td>\n",
       "      <td>0</td>\n",
       "      <td>0</td>\n",
       "    </tr>\n",
       "    <tr>\n",
       "      <th>4</th>\n",
       "      <td>Belfield &gt; Computer Science &gt; B-002</td>\n",
       "      <td>Mon Nov 02 20:52:11 GMT+00:00 2015</td>\n",
       "      <td>0</td>\n",
       "      <td>0</td>\n",
       "    </tr>\n",
       "  </tbody>\n",
       "</table>\n",
       "</div>"
      ],
      "text/plain": [
       "                                  room                          event_time  \\\n",
       "0  Belfield > Computer Science > B-002  Mon Nov 02 20:32:06 GMT+00:00 2015   \n",
       "1  Belfield > Computer Science > B-002  Mon Nov 02 20:37:10 GMT+00:00 2015   \n",
       "2  Belfield > Computer Science > B-002  Mon Nov 02 20:42:12 GMT+00:00 2015   \n",
       "3  Belfield > Computer Science > B-002  Mon Nov 02 20:47:14 GMT+00:00 2015   \n",
       "4  Belfield > Computer Science > B-002  Mon Nov 02 20:52:11 GMT+00:00 2015   \n",
       "\n",
       "   detec1  detec2  \n",
       "0       0       0  \n",
       "1       0       0  \n",
       "2       0       0  \n",
       "3       0       0  \n",
       "4       0       0  "
      ]
     },
     "execution_count": 3,
     "metadata": {},
     "output_type": "execute_result"
    }
   ],
   "source": [
    "wifi_log_data = pd.read_csv(\"../cleaned_data/full.csv\", names=[\"room\", \"event_time\", \"detec1\", \"detec2\"])\n",
    "wifi_log_data.head()"
   ]
  },
  {
   "cell_type": "code",
   "execution_count": 4,
   "metadata": {
    "collapsed": false
   },
   "outputs": [
    {
     "data": {
      "text/html": [
       "<div>\n",
       "<table border=\"1\" class=\"dataframe\">\n",
       "  <thead>\n",
       "    <tr style=\"text-align: right;\">\n",
       "      <th></th>\n",
       "      <th>room</th>\n",
       "      <th>event_time</th>\n",
       "      <th>detec1</th>\n",
       "      <th>detec2</th>\n",
       "    </tr>\n",
       "  </thead>\n",
       "  <tbody>\n",
       "    <tr>\n",
       "      <th>12412</th>\n",
       "      <td>Belfield &gt; Computer Science &gt; B-004</td>\n",
       "      <td>Tue Nov 17 11:01:59 GMT+00:00 2015</td>\n",
       "      <td>18</td>\n",
       "      <td>18</td>\n",
       "    </tr>\n",
       "    <tr>\n",
       "      <th>12413</th>\n",
       "      <td>Belfield &gt; Computer Science &gt; B-004</td>\n",
       "      <td>Tue Nov 17 11:06:37 GMT+00:00 2015</td>\n",
       "      <td>32</td>\n",
       "      <td>32</td>\n",
       "    </tr>\n",
       "    <tr>\n",
       "      <th>12414</th>\n",
       "      <td>Belfield &gt; Computer Science &gt; B-004</td>\n",
       "      <td>Tue Nov 17 11:13:19 GMT+00:00 2015</td>\n",
       "      <td>39</td>\n",
       "      <td>39</td>\n",
       "    </tr>\n",
       "    <tr>\n",
       "      <th>12415</th>\n",
       "      <td>Belfield &gt; Computer Science &gt; B-004</td>\n",
       "      <td>Tue Nov 17 11:21:11 GMT+00:00 2015</td>\n",
       "      <td>42</td>\n",
       "      <td>42</td>\n",
       "    </tr>\n",
       "    <tr>\n",
       "      <th>12416</th>\n",
       "      <td>Belfield &gt; Computer Science &gt; B-004</td>\n",
       "      <td>Tue Nov 17 11:26:07 GMT+00:00 2015</td>\n",
       "      <td>46</td>\n",
       "      <td>46</td>\n",
       "    </tr>\n",
       "  </tbody>\n",
       "</table>\n",
       "</div>"
      ],
      "text/plain": [
       "                                      room  \\\n",
       "12412  Belfield > Computer Science > B-004   \n",
       "12413  Belfield > Computer Science > B-004   \n",
       "12414  Belfield > Computer Science > B-004   \n",
       "12415  Belfield > Computer Science > B-004   \n",
       "12416  Belfield > Computer Science > B-004   \n",
       "\n",
       "                               event_time  detec1  detec2  \n",
       "12412  Tue Nov 17 11:01:59 GMT+00:00 2015      18      18  \n",
       "12413  Tue Nov 17 11:06:37 GMT+00:00 2015      32      32  \n",
       "12414  Tue Nov 17 11:13:19 GMT+00:00 2015      39      39  \n",
       "12415  Tue Nov 17 11:21:11 GMT+00:00 2015      42      42  \n",
       "12416  Tue Nov 17 11:26:07 GMT+00:00 2015      46      46  "
      ]
     },
     "execution_count": 4,
     "metadata": {},
     "output_type": "execute_result"
    }
   ],
   "source": [
    "wifi_log_data.tail()"
   ]
  },
  {
   "cell_type": "markdown",
   "metadata": {},
   "source": [
    "### Transform timestamps"
   ]
  },
  {
   "cell_type": "code",
   "execution_count": 5,
   "metadata": {
    "collapsed": false
   },
   "outputs": [],
   "source": [
    "import time\n",
    "from dateutil.parser import parse\n",
    "\n",
    "for i in range(wifi_log_data.shape[0]):\n",
    "    x = wifi_log_data[\"event_time\"][i]\n",
    "    y = parse(x)\n",
    "    epoch = int(time.mktime(y.timetuple()))\n",
    "    wifi_log_data.set_value(i,\"event_time\",epoch)"
   ]
  },
  {
   "cell_type": "code",
   "execution_count": 6,
   "metadata": {
    "collapsed": false
   },
   "outputs": [
    {
     "data": {
      "text/html": [
       "<div>\n",
       "<table border=\"1\" class=\"dataframe\">\n",
       "  <thead>\n",
       "    <tr style=\"text-align: right;\">\n",
       "      <th></th>\n",
       "      <th>room</th>\n",
       "      <th>event_time</th>\n",
       "      <th>detec1</th>\n",
       "      <th>detec2</th>\n",
       "    </tr>\n",
       "  </thead>\n",
       "  <tbody>\n",
       "    <tr>\n",
       "      <th>0</th>\n",
       "      <td>Belfield &gt; Computer Science &gt; B-002</td>\n",
       "      <td>1446496326</td>\n",
       "      <td>0</td>\n",
       "      <td>0</td>\n",
       "    </tr>\n",
       "    <tr>\n",
       "      <th>1</th>\n",
       "      <td>Belfield &gt; Computer Science &gt; B-002</td>\n",
       "      <td>1446496630</td>\n",
       "      <td>0</td>\n",
       "      <td>0</td>\n",
       "    </tr>\n",
       "    <tr>\n",
       "      <th>2</th>\n",
       "      <td>Belfield &gt; Computer Science &gt; B-002</td>\n",
       "      <td>1446496932</td>\n",
       "      <td>0</td>\n",
       "      <td>0</td>\n",
       "    </tr>\n",
       "    <tr>\n",
       "      <th>3</th>\n",
       "      <td>Belfield &gt; Computer Science &gt; B-002</td>\n",
       "      <td>1446497234</td>\n",
       "      <td>0</td>\n",
       "      <td>0</td>\n",
       "    </tr>\n",
       "    <tr>\n",
       "      <th>4</th>\n",
       "      <td>Belfield &gt; Computer Science &gt; B-002</td>\n",
       "      <td>1446497531</td>\n",
       "      <td>0</td>\n",
       "      <td>0</td>\n",
       "    </tr>\n",
       "  </tbody>\n",
       "</table>\n",
       "</div>"
      ],
      "text/plain": [
       "                                  room  event_time  detec1  detec2\n",
       "0  Belfield > Computer Science > B-002  1446496326       0       0\n",
       "1  Belfield > Computer Science > B-002  1446496630       0       0\n",
       "2  Belfield > Computer Science > B-002  1446496932       0       0\n",
       "3  Belfield > Computer Science > B-002  1446497234       0       0\n",
       "4  Belfield > Computer Science > B-002  1446497531       0       0"
      ]
     },
     "execution_count": 6,
     "metadata": {},
     "output_type": "execute_result"
    }
   ],
   "source": [
    "wifi_log_data.head()"
   ]
  },
  {
   "cell_type": "markdown",
   "metadata": {},
   "source": [
    "### Extract room data"
   ]
  },
  {
   "cell_type": "code",
   "execution_count": 7,
   "metadata": {
    "collapsed": false
   },
   "outputs": [],
   "source": [
    "for i in range(wifi_log_data.shape[0]):\n",
    "    #the following line selects the last character of the string, which is the room ID\n",
    "    wifi_log_data.set_value(i, \"room\", wifi_log_data[\"room\"][i][-1:])"
   ]
  },
  {
   "cell_type": "code",
   "execution_count": 8,
   "metadata": {
    "collapsed": false
   },
   "outputs": [
    {
     "data": {
      "text/html": [
       "<div>\n",
       "<table border=\"1\" class=\"dataframe\">\n",
       "  <thead>\n",
       "    <tr style=\"text-align: right;\">\n",
       "      <th></th>\n",
       "      <th>room</th>\n",
       "      <th>event_time</th>\n",
       "      <th>detec1</th>\n",
       "      <th>detec2</th>\n",
       "    </tr>\n",
       "  </thead>\n",
       "  <tbody>\n",
       "    <tr>\n",
       "      <th>0</th>\n",
       "      <td>2</td>\n",
       "      <td>1446496326</td>\n",
       "      <td>0</td>\n",
       "      <td>0</td>\n",
       "    </tr>\n",
       "    <tr>\n",
       "      <th>1</th>\n",
       "      <td>2</td>\n",
       "      <td>1446496630</td>\n",
       "      <td>0</td>\n",
       "      <td>0</td>\n",
       "    </tr>\n",
       "    <tr>\n",
       "      <th>2</th>\n",
       "      <td>2</td>\n",
       "      <td>1446496932</td>\n",
       "      <td>0</td>\n",
       "      <td>0</td>\n",
       "    </tr>\n",
       "    <tr>\n",
       "      <th>3</th>\n",
       "      <td>2</td>\n",
       "      <td>1446497234</td>\n",
       "      <td>0</td>\n",
       "      <td>0</td>\n",
       "    </tr>\n",
       "    <tr>\n",
       "      <th>4</th>\n",
       "      <td>2</td>\n",
       "      <td>1446497531</td>\n",
       "      <td>0</td>\n",
       "      <td>0</td>\n",
       "    </tr>\n",
       "  </tbody>\n",
       "</table>\n",
       "</div>"
      ],
      "text/plain": [
       "  room  event_time  detec1  detec2\n",
       "0    2  1446496326       0       0\n",
       "1    2  1446496630       0       0\n",
       "2    2  1446496932       0       0\n",
       "3    2  1446497234       0       0\n",
       "4    2  1446497531       0       0"
      ]
     },
     "execution_count": 8,
     "metadata": {},
     "output_type": "execute_result"
    }
   ],
   "source": [
    "wifi_log_data.head()"
   ]
  },
  {
   "cell_type": "code",
   "execution_count": 9,
   "metadata": {
    "collapsed": false
   },
   "outputs": [
    {
     "data": {
      "text/html": [
       "<div>\n",
       "<table border=\"1\" class=\"dataframe\">\n",
       "  <thead>\n",
       "    <tr style=\"text-align: right;\">\n",
       "      <th></th>\n",
       "      <th>room</th>\n",
       "      <th>event_time</th>\n",
       "      <th>detec1</th>\n",
       "      <th>detec2</th>\n",
       "    </tr>\n",
       "  </thead>\n",
       "  <tbody>\n",
       "    <tr>\n",
       "      <th>12412</th>\n",
       "      <td>4</td>\n",
       "      <td>1447758119</td>\n",
       "      <td>18</td>\n",
       "      <td>18</td>\n",
       "    </tr>\n",
       "    <tr>\n",
       "      <th>12413</th>\n",
       "      <td>4</td>\n",
       "      <td>1447758397</td>\n",
       "      <td>32</td>\n",
       "      <td>32</td>\n",
       "    </tr>\n",
       "    <tr>\n",
       "      <th>12414</th>\n",
       "      <td>4</td>\n",
       "      <td>1447758799</td>\n",
       "      <td>39</td>\n",
       "      <td>39</td>\n",
       "    </tr>\n",
       "    <tr>\n",
       "      <th>12415</th>\n",
       "      <td>4</td>\n",
       "      <td>1447759271</td>\n",
       "      <td>42</td>\n",
       "      <td>42</td>\n",
       "    </tr>\n",
       "    <tr>\n",
       "      <th>12416</th>\n",
       "      <td>4</td>\n",
       "      <td>1447759567</td>\n",
       "      <td>46</td>\n",
       "      <td>46</td>\n",
       "    </tr>\n",
       "  </tbody>\n",
       "</table>\n",
       "</div>"
      ],
      "text/plain": [
       "      room  event_time  detec1  detec2\n",
       "12412    4  1447758119      18      18\n",
       "12413    4  1447758397      32      32\n",
       "12414    4  1447758799      39      39\n",
       "12415    4  1447759271      42      42\n",
       "12416    4  1447759567      46      46"
      ]
     },
     "execution_count": 9,
     "metadata": {},
     "output_type": "execute_result"
    }
   ],
   "source": [
    "wifi_log_data.tail()"
   ]
  },
  {
   "cell_type": "markdown",
   "metadata": {},
   "source": [
    "### Add building"
   ]
  },
  {
   "cell_type": "code",
   "execution_count": 10,
   "metadata": {
    "collapsed": true
   },
   "outputs": [],
   "source": [
    "wifi_log_data[\"building\"] = \"school of computer science\""
   ]
  },
  {
   "cell_type": "code",
   "execution_count": 11,
   "metadata": {
    "collapsed": false
   },
   "outputs": [
    {
     "data": {
      "text/html": [
       "<div>\n",
       "<table border=\"1\" class=\"dataframe\">\n",
       "  <thead>\n",
       "    <tr style=\"text-align: right;\">\n",
       "      <th></th>\n",
       "      <th>room</th>\n",
       "      <th>event_time</th>\n",
       "      <th>detec1</th>\n",
       "      <th>detec2</th>\n",
       "      <th>building</th>\n",
       "    </tr>\n",
       "  </thead>\n",
       "  <tbody>\n",
       "    <tr>\n",
       "      <th>0</th>\n",
       "      <td>2</td>\n",
       "      <td>1446496326</td>\n",
       "      <td>0</td>\n",
       "      <td>0</td>\n",
       "      <td>school of computer science</td>\n",
       "    </tr>\n",
       "    <tr>\n",
       "      <th>1</th>\n",
       "      <td>2</td>\n",
       "      <td>1446496630</td>\n",
       "      <td>0</td>\n",
       "      <td>0</td>\n",
       "      <td>school of computer science</td>\n",
       "    </tr>\n",
       "    <tr>\n",
       "      <th>2</th>\n",
       "      <td>2</td>\n",
       "      <td>1446496932</td>\n",
       "      <td>0</td>\n",
       "      <td>0</td>\n",
       "      <td>school of computer science</td>\n",
       "    </tr>\n",
       "    <tr>\n",
       "      <th>3</th>\n",
       "      <td>2</td>\n",
       "      <td>1446497234</td>\n",
       "      <td>0</td>\n",
       "      <td>0</td>\n",
       "      <td>school of computer science</td>\n",
       "    </tr>\n",
       "    <tr>\n",
       "      <th>4</th>\n",
       "      <td>2</td>\n",
       "      <td>1446497531</td>\n",
       "      <td>0</td>\n",
       "      <td>0</td>\n",
       "      <td>school of computer science</td>\n",
       "    </tr>\n",
       "  </tbody>\n",
       "</table>\n",
       "</div>"
      ],
      "text/plain": [
       "  room  event_time  detec1  detec2                    building\n",
       "0    2  1446496326       0       0  school of computer science\n",
       "1    2  1446496630       0       0  school of computer science\n",
       "2    2  1446496932       0       0  school of computer science\n",
       "3    2  1446497234       0       0  school of computer science\n",
       "4    2  1446497531       0       0  school of computer science"
      ]
     },
     "execution_count": 11,
     "metadata": {},
     "output_type": "execute_result"
    }
   ],
   "source": [
    "wifi_log_data.head()"
   ]
  },
  {
   "cell_type": "code",
   "execution_count": 12,
   "metadata": {
    "collapsed": true
   },
   "outputs": [],
   "source": [
    "occupancy_data = pd.read_csv(\"../cleaned_data/survey_data.csv\")"
   ]
  },
  {
   "cell_type": "code",
   "execution_count": 13,
   "metadata": {
    "collapsed": false
   },
   "outputs": [
    {
     "data": {
      "text/html": [
       "<div>\n",
       "<table border=\"1\" class=\"dataframe\">\n",
       "  <thead>\n",
       "    <tr style=\"text-align: right;\">\n",
       "      <th></th>\n",
       "      <th>Unnamed: 0</th>\n",
       "      <th>room</th>\n",
       "      <th>event_time</th>\n",
       "      <th>occupancy</th>\n",
       "      <th>building</th>\n",
       "    </tr>\n",
       "  </thead>\n",
       "  <tbody>\n",
       "    <tr>\n",
       "      <th>0</th>\n",
       "      <td>0</td>\n",
       "      <td>4</td>\n",
       "      <td>1446454800</td>\n",
       "      <td>0.25</td>\n",
       "      <td>school of computer science</td>\n",
       "    </tr>\n",
       "    <tr>\n",
       "      <th>1</th>\n",
       "      <td>1</td>\n",
       "      <td>2</td>\n",
       "      <td>1446454800</td>\n",
       "      <td>0.25</td>\n",
       "      <td>school of computer science</td>\n",
       "    </tr>\n",
       "    <tr>\n",
       "      <th>2</th>\n",
       "      <td>2</td>\n",
       "      <td>3</td>\n",
       "      <td>1446454800</td>\n",
       "      <td>0.25</td>\n",
       "      <td>school of computer science</td>\n",
       "    </tr>\n",
       "    <tr>\n",
       "      <th>3</th>\n",
       "      <td>3</td>\n",
       "      <td>4</td>\n",
       "      <td>1446458400</td>\n",
       "      <td>0.50</td>\n",
       "      <td>school of computer science</td>\n",
       "    </tr>\n",
       "    <tr>\n",
       "      <th>4</th>\n",
       "      <td>4</td>\n",
       "      <td>2</td>\n",
       "      <td>1446458400</td>\n",
       "      <td>0.50</td>\n",
       "      <td>school of computer science</td>\n",
       "    </tr>\n",
       "  </tbody>\n",
       "</table>\n",
       "</div>"
      ],
      "text/plain": [
       "   Unnamed: 0  room  event_time  occupancy                    building\n",
       "0           0     4  1446454800       0.25  school of computer science\n",
       "1           1     2  1446454800       0.25  school of computer science\n",
       "2           2     3  1446454800       0.25  school of computer science\n",
       "3           3     4  1446458400       0.50  school of computer science\n",
       "4           4     2  1446458400       0.50  school of computer science"
      ]
     },
     "execution_count": 13,
     "metadata": {},
     "output_type": "execute_result"
    }
   ],
   "source": [
    "occupancy_data.head()"
   ]
  },
  {
   "cell_type": "code",
   "execution_count": 14,
   "metadata": {
    "collapsed": false
   },
   "outputs": [
    {
     "data": {
      "text/html": [
       "<div>\n",
       "<table border=\"1\" class=\"dataframe\">\n",
       "  <thead>\n",
       "    <tr style=\"text-align: right;\">\n",
       "      <th></th>\n",
       "      <th>Unnamed: 0</th>\n",
       "      <th>room</th>\n",
       "      <th>event_time</th>\n",
       "      <th>occupancy</th>\n",
       "      <th>building</th>\n",
       "    </tr>\n",
       "  </thead>\n",
       "  <tbody>\n",
       "    <tr>\n",
       "      <th>235</th>\n",
       "      <td>235</td>\n",
       "      <td>2</td>\n",
       "      <td>1447426800</td>\n",
       "      <td>0.25</td>\n",
       "      <td>school of computer science</td>\n",
       "    </tr>\n",
       "    <tr>\n",
       "      <th>236</th>\n",
       "      <td>236</td>\n",
       "      <td>3</td>\n",
       "      <td>1447426800</td>\n",
       "      <td>0.25</td>\n",
       "      <td>school of computer science</td>\n",
       "    </tr>\n",
       "    <tr>\n",
       "      <th>237</th>\n",
       "      <td>237</td>\n",
       "      <td>4</td>\n",
       "      <td>1447430400</td>\n",
       "      <td>0.00</td>\n",
       "      <td>school of computer science</td>\n",
       "    </tr>\n",
       "    <tr>\n",
       "      <th>238</th>\n",
       "      <td>238</td>\n",
       "      <td>2</td>\n",
       "      <td>1447430400</td>\n",
       "      <td>0.25</td>\n",
       "      <td>school of computer science</td>\n",
       "    </tr>\n",
       "    <tr>\n",
       "      <th>239</th>\n",
       "      <td>239</td>\n",
       "      <td>3</td>\n",
       "      <td>1447430400</td>\n",
       "      <td>0.25</td>\n",
       "      <td>school of computer science</td>\n",
       "    </tr>\n",
       "  </tbody>\n",
       "</table>\n",
       "</div>"
      ],
      "text/plain": [
       "     Unnamed: 0  room  event_time  occupancy                    building\n",
       "235         235     2  1447426800       0.25  school of computer science\n",
       "236         236     3  1447426800       0.25  school of computer science\n",
       "237         237     4  1447430400       0.00  school of computer science\n",
       "238         238     2  1447430400       0.25  school of computer science\n",
       "239         239     3  1447430400       0.25  school of computer science"
      ]
     },
     "execution_count": 14,
     "metadata": {},
     "output_type": "execute_result"
    }
   ],
   "source": [
    "occupancy_data.tail()"
   ]
  },
  {
   "cell_type": "markdown",
   "metadata": {},
   "source": [
    "### Deleted unwated column"
   ]
  },
  {
   "cell_type": "code",
   "execution_count": 15,
   "metadata": {
    "collapsed": false
   },
   "outputs": [],
   "source": [
    "del occupancy_data[\"Unnamed: 0\"]"
   ]
  },
  {
   "cell_type": "code",
   "execution_count": 16,
   "metadata": {
    "collapsed": false
   },
   "outputs": [
    {
     "data": {
      "text/html": [
       "<div>\n",
       "<table border=\"1\" class=\"dataframe\">\n",
       "  <thead>\n",
       "    <tr style=\"text-align: right;\">\n",
       "      <th></th>\n",
       "      <th>room</th>\n",
       "      <th>event_time</th>\n",
       "      <th>occupancy</th>\n",
       "      <th>building</th>\n",
       "    </tr>\n",
       "  </thead>\n",
       "  <tbody>\n",
       "    <tr>\n",
       "      <th>0</th>\n",
       "      <td>4</td>\n",
       "      <td>1446454800</td>\n",
       "      <td>0.25</td>\n",
       "      <td>school of computer science</td>\n",
       "    </tr>\n",
       "    <tr>\n",
       "      <th>1</th>\n",
       "      <td>2</td>\n",
       "      <td>1446454800</td>\n",
       "      <td>0.25</td>\n",
       "      <td>school of computer science</td>\n",
       "    </tr>\n",
       "    <tr>\n",
       "      <th>2</th>\n",
       "      <td>3</td>\n",
       "      <td>1446454800</td>\n",
       "      <td>0.25</td>\n",
       "      <td>school of computer science</td>\n",
       "    </tr>\n",
       "    <tr>\n",
       "      <th>3</th>\n",
       "      <td>4</td>\n",
       "      <td>1446458400</td>\n",
       "      <td>0.50</td>\n",
       "      <td>school of computer science</td>\n",
       "    </tr>\n",
       "    <tr>\n",
       "      <th>4</th>\n",
       "      <td>2</td>\n",
       "      <td>1446458400</td>\n",
       "      <td>0.50</td>\n",
       "      <td>school of computer science</td>\n",
       "    </tr>\n",
       "  </tbody>\n",
       "</table>\n",
       "</div>"
      ],
      "text/plain": [
       "   room  event_time  occupancy                    building\n",
       "0     4  1446454800       0.25  school of computer science\n",
       "1     2  1446454800       0.25  school of computer science\n",
       "2     3  1446454800       0.25  school of computer science\n",
       "3     4  1446458400       0.50  school of computer science\n",
       "4     2  1446458400       0.50  school of computer science"
      ]
     },
     "execution_count": 16,
     "metadata": {},
     "output_type": "execute_result"
    }
   ],
   "source": [
    "occupancy_data.head()"
   ]
  },
  {
   "cell_type": "markdown",
   "metadata": {},
   "source": [
    "# Prepare data for analysis"
   ]
  },
  {
   "cell_type": "markdown",
   "metadata": {},
   "source": [
    "### Transform EPOCH time into human-friendly time"
   ]
  },
  {
   "cell_type": "code",
   "execution_count": 17,
   "metadata": {
    "collapsed": false
   },
   "outputs": [
    {
     "data": {
      "text/html": [
       "<div>\n",
       "<table border=\"1\" class=\"dataframe\">\n",
       "  <thead>\n",
       "    <tr style=\"text-align: right;\">\n",
       "      <th></th>\n",
       "      <th>room</th>\n",
       "      <th>event_time</th>\n",
       "      <th>occupancy</th>\n",
       "      <th>building</th>\n",
       "    </tr>\n",
       "  </thead>\n",
       "  <tbody>\n",
       "    <tr>\n",
       "      <th>0</th>\n",
       "      <td>4</td>\n",
       "      <td>2015-11-02 09:00:00</td>\n",
       "      <td>0.25</td>\n",
       "      <td>school of computer science</td>\n",
       "    </tr>\n",
       "    <tr>\n",
       "      <th>1</th>\n",
       "      <td>2</td>\n",
       "      <td>2015-11-02 09:00:00</td>\n",
       "      <td>0.25</td>\n",
       "      <td>school of computer science</td>\n",
       "    </tr>\n",
       "    <tr>\n",
       "      <th>2</th>\n",
       "      <td>3</td>\n",
       "      <td>2015-11-02 09:00:00</td>\n",
       "      <td>0.25</td>\n",
       "      <td>school of computer science</td>\n",
       "    </tr>\n",
       "    <tr>\n",
       "      <th>3</th>\n",
       "      <td>4</td>\n",
       "      <td>2015-11-02 10:00:00</td>\n",
       "      <td>0.50</td>\n",
       "      <td>school of computer science</td>\n",
       "    </tr>\n",
       "    <tr>\n",
       "      <th>4</th>\n",
       "      <td>2</td>\n",
       "      <td>2015-11-02 10:00:00</td>\n",
       "      <td>0.50</td>\n",
       "      <td>school of computer science</td>\n",
       "    </tr>\n",
       "  </tbody>\n",
       "</table>\n",
       "</div>"
      ],
      "text/plain": [
       "   room          event_time  occupancy                    building\n",
       "0     4 2015-11-02 09:00:00       0.25  school of computer science\n",
       "1     2 2015-11-02 09:00:00       0.25  school of computer science\n",
       "2     3 2015-11-02 09:00:00       0.25  school of computer science\n",
       "3     4 2015-11-02 10:00:00       0.50  school of computer science\n",
       "4     2 2015-11-02 10:00:00       0.50  school of computer science"
      ]
     },
     "execution_count": 17,
     "metadata": {},
     "output_type": "execute_result"
    }
   ],
   "source": [
    "occupancy_data['event_time'] = pd.to_datetime(occupancy_data.event_time, unit='s')\n",
    "occupancy_data.head()"
   ]
  },
  {
   "cell_type": "code",
   "execution_count": 18,
   "metadata": {
    "collapsed": false
   },
   "outputs": [
    {
     "data": {
      "text/html": [
       "<div>\n",
       "<table border=\"1\" class=\"dataframe\">\n",
       "  <thead>\n",
       "    <tr style=\"text-align: right;\">\n",
       "      <th></th>\n",
       "      <th>room</th>\n",
       "      <th>detec1</th>\n",
       "      <th>detec2</th>\n",
       "      <th>building</th>\n",
       "    </tr>\n",
       "    <tr>\n",
       "      <th>event_time</th>\n",
       "      <th></th>\n",
       "      <th></th>\n",
       "      <th></th>\n",
       "      <th></th>\n",
       "    </tr>\n",
       "  </thead>\n",
       "  <tbody>\n",
       "    <tr>\n",
       "      <th>2015-11-02 20:32:06</th>\n",
       "      <td>2</td>\n",
       "      <td>0</td>\n",
       "      <td>0</td>\n",
       "      <td>school of computer science</td>\n",
       "    </tr>\n",
       "    <tr>\n",
       "      <th>2015-11-02 20:37:10</th>\n",
       "      <td>2</td>\n",
       "      <td>0</td>\n",
       "      <td>0</td>\n",
       "      <td>school of computer science</td>\n",
       "    </tr>\n",
       "    <tr>\n",
       "      <th>2015-11-02 20:42:12</th>\n",
       "      <td>2</td>\n",
       "      <td>0</td>\n",
       "      <td>0</td>\n",
       "      <td>school of computer science</td>\n",
       "    </tr>\n",
       "    <tr>\n",
       "      <th>2015-11-02 20:47:14</th>\n",
       "      <td>2</td>\n",
       "      <td>0</td>\n",
       "      <td>0</td>\n",
       "      <td>school of computer science</td>\n",
       "    </tr>\n",
       "    <tr>\n",
       "      <th>2015-11-02 20:52:11</th>\n",
       "      <td>2</td>\n",
       "      <td>0</td>\n",
       "      <td>0</td>\n",
       "      <td>school of computer science</td>\n",
       "    </tr>\n",
       "  </tbody>\n",
       "</table>\n",
       "</div>"
      ],
      "text/plain": [
       "                    room  detec1  detec2                    building\n",
       "event_time                                                          \n",
       "2015-11-02 20:32:06    2       0       0  school of computer science\n",
       "2015-11-02 20:37:10    2       0       0  school of computer science\n",
       "2015-11-02 20:42:12    2       0       0  school of computer science\n",
       "2015-11-02 20:47:14    2       0       0  school of computer science\n",
       "2015-11-02 20:52:11    2       0       0  school of computer science"
      ]
     },
     "execution_count": 18,
     "metadata": {},
     "output_type": "execute_result"
    }
   ],
   "source": [
    "wifi_log_data['event_time'] = pd.to_datetime(wifi_log_data.event_time, unit='s')\n",
    "wifi_log_data.set_index('event_time', inplace=True)\n",
    "wifi_log_data.head()"
   ]
  },
  {
   "cell_type": "code",
   "execution_count": 19,
   "metadata": {
    "collapsed": false
   },
   "outputs": [
    {
     "data": {
      "text/html": [
       "<div>\n",
       "<table border=\"1\" class=\"dataframe\">\n",
       "  <thead>\n",
       "    <tr style=\"text-align: right;\">\n",
       "      <th></th>\n",
       "      <th>room</th>\n",
       "      <th>detec1</th>\n",
       "      <th>detec2</th>\n",
       "      <th>building</th>\n",
       "      <th>event_hour</th>\n",
       "      <th>event_day</th>\n",
       "    </tr>\n",
       "  </thead>\n",
       "  <tbody>\n",
       "    <tr>\n",
       "      <th>2015-11-02 20:32:06</th>\n",
       "      <td>2</td>\n",
       "      <td>0</td>\n",
       "      <td>0</td>\n",
       "      <td>school of computer science</td>\n",
       "      <td>20</td>\n",
       "      <td>2</td>\n",
       "    </tr>\n",
       "    <tr>\n",
       "      <th>2015-11-02 20:37:10</th>\n",
       "      <td>2</td>\n",
       "      <td>0</td>\n",
       "      <td>0</td>\n",
       "      <td>school of computer science</td>\n",
       "      <td>20</td>\n",
       "      <td>2</td>\n",
       "    </tr>\n",
       "    <tr>\n",
       "      <th>2015-11-02 20:42:12</th>\n",
       "      <td>2</td>\n",
       "      <td>0</td>\n",
       "      <td>0</td>\n",
       "      <td>school of computer science</td>\n",
       "      <td>20</td>\n",
       "      <td>2</td>\n",
       "    </tr>\n",
       "    <tr>\n",
       "      <th>2015-11-02 20:47:14</th>\n",
       "      <td>2</td>\n",
       "      <td>0</td>\n",
       "      <td>0</td>\n",
       "      <td>school of computer science</td>\n",
       "      <td>20</td>\n",
       "      <td>2</td>\n",
       "    </tr>\n",
       "    <tr>\n",
       "      <th>2015-11-02 20:52:11</th>\n",
       "      <td>2</td>\n",
       "      <td>0</td>\n",
       "      <td>0</td>\n",
       "      <td>school of computer science</td>\n",
       "      <td>20</td>\n",
       "      <td>2</td>\n",
       "    </tr>\n",
       "  </tbody>\n",
       "</table>\n",
       "</div>"
      ],
      "text/plain": [
       "                    room  detec1  detec2                    building  \\\n",
       "2015-11-02 20:32:06    2       0       0  school of computer science   \n",
       "2015-11-02 20:37:10    2       0       0  school of computer science   \n",
       "2015-11-02 20:42:12    2       0       0  school of computer science   \n",
       "2015-11-02 20:47:14    2       0       0  school of computer science   \n",
       "2015-11-02 20:52:11    2       0       0  school of computer science   \n",
       "\n",
       "                     event_hour  event_day  \n",
       "2015-11-02 20:32:06          20          2  \n",
       "2015-11-02 20:37:10          20          2  \n",
       "2015-11-02 20:42:12          20          2  \n",
       "2015-11-02 20:47:14          20          2  \n",
       "2015-11-02 20:52:11          20          2  "
      ]
     },
     "execution_count": 19,
     "metadata": {},
     "output_type": "execute_result"
    }
   ],
   "source": [
    "wifi_log_data['event_hour'] = wifi_log_data.index.hour\n",
    "wifi_log_data['event_day'] = wifi_log_data.index.day\n",
    "\n",
    "wifi_log_data.index.name = None\n",
    "\n",
    "wifi_log_data.head()"
   ]
  },
  {
   "cell_type": "code",
   "execution_count": 20,
   "metadata": {
    "collapsed": false
   },
   "outputs": [
    {
     "data": {
      "text/html": [
       "<div>\n",
       "<table border=\"1\" class=\"dataframe\">\n",
       "  <thead>\n",
       "    <tr style=\"text-align: right;\">\n",
       "      <th></th>\n",
       "      <th>room</th>\n",
       "      <th>occupancy</th>\n",
       "      <th>building</th>\n",
       "    </tr>\n",
       "    <tr>\n",
       "      <th>event_time</th>\n",
       "      <th></th>\n",
       "      <th></th>\n",
       "      <th></th>\n",
       "    </tr>\n",
       "  </thead>\n",
       "  <tbody>\n",
       "    <tr>\n",
       "      <th>2015-11-02 09:00:00</th>\n",
       "      <td>4</td>\n",
       "      <td>0.25</td>\n",
       "      <td>school of computer science</td>\n",
       "    </tr>\n",
       "    <tr>\n",
       "      <th>2015-11-02 09:00:00</th>\n",
       "      <td>2</td>\n",
       "      <td>0.25</td>\n",
       "      <td>school of computer science</td>\n",
       "    </tr>\n",
       "    <tr>\n",
       "      <th>2015-11-02 09:00:00</th>\n",
       "      <td>3</td>\n",
       "      <td>0.25</td>\n",
       "      <td>school of computer science</td>\n",
       "    </tr>\n",
       "    <tr>\n",
       "      <th>2015-11-02 10:00:00</th>\n",
       "      <td>4</td>\n",
       "      <td>0.50</td>\n",
       "      <td>school of computer science</td>\n",
       "    </tr>\n",
       "    <tr>\n",
       "      <th>2015-11-02 10:00:00</th>\n",
       "      <td>2</td>\n",
       "      <td>0.50</td>\n",
       "      <td>school of computer science</td>\n",
       "    </tr>\n",
       "  </tbody>\n",
       "</table>\n",
       "</div>"
      ],
      "text/plain": [
       "                     room  occupancy                    building\n",
       "event_time                                                      \n",
       "2015-11-02 09:00:00     4       0.25  school of computer science\n",
       "2015-11-02 09:00:00     2       0.25  school of computer science\n",
       "2015-11-02 09:00:00     3       0.25  school of computer science\n",
       "2015-11-02 10:00:00     4       0.50  school of computer science\n",
       "2015-11-02 10:00:00     2       0.50  school of computer science"
      ]
     },
     "execution_count": 20,
     "metadata": {},
     "output_type": "execute_result"
    }
   ],
   "source": [
    "occupancy_data['event_time'] = pd.to_datetime(occupancy_data.event_time, unit='s')\n",
    "occupancy_data.set_index('event_time', inplace=True)\n",
    "occupancy_data.head()"
   ]
  },
  {
   "cell_type": "code",
   "execution_count": 21,
   "metadata": {
    "collapsed": false
   },
   "outputs": [
    {
     "data": {
      "text/html": [
       "<div>\n",
       "<table border=\"1\" class=\"dataframe\">\n",
       "  <thead>\n",
       "    <tr style=\"text-align: right;\">\n",
       "      <th></th>\n",
       "      <th>room</th>\n",
       "      <th>occupancy</th>\n",
       "      <th>building</th>\n",
       "      <th>event_hour</th>\n",
       "      <th>event_day</th>\n",
       "    </tr>\n",
       "  </thead>\n",
       "  <tbody>\n",
       "    <tr>\n",
       "      <th>2015-11-02 09:00:00</th>\n",
       "      <td>4</td>\n",
       "      <td>0.25</td>\n",
       "      <td>school of computer science</td>\n",
       "      <td>9</td>\n",
       "      <td>2</td>\n",
       "    </tr>\n",
       "    <tr>\n",
       "      <th>2015-11-02 09:00:00</th>\n",
       "      <td>2</td>\n",
       "      <td>0.25</td>\n",
       "      <td>school of computer science</td>\n",
       "      <td>9</td>\n",
       "      <td>2</td>\n",
       "    </tr>\n",
       "    <tr>\n",
       "      <th>2015-11-02 09:00:00</th>\n",
       "      <td>3</td>\n",
       "      <td>0.25</td>\n",
       "      <td>school of computer science</td>\n",
       "      <td>9</td>\n",
       "      <td>2</td>\n",
       "    </tr>\n",
       "    <tr>\n",
       "      <th>2015-11-02 10:00:00</th>\n",
       "      <td>4</td>\n",
       "      <td>0.50</td>\n",
       "      <td>school of computer science</td>\n",
       "      <td>10</td>\n",
       "      <td>2</td>\n",
       "    </tr>\n",
       "    <tr>\n",
       "      <th>2015-11-02 10:00:00</th>\n",
       "      <td>2</td>\n",
       "      <td>0.50</td>\n",
       "      <td>school of computer science</td>\n",
       "      <td>10</td>\n",
       "      <td>2</td>\n",
       "    </tr>\n",
       "  </tbody>\n",
       "</table>\n",
       "</div>"
      ],
      "text/plain": [
       "                     room  occupancy                    building  event_hour  \\\n",
       "2015-11-02 09:00:00     4       0.25  school of computer science           9   \n",
       "2015-11-02 09:00:00     2       0.25  school of computer science           9   \n",
       "2015-11-02 09:00:00     3       0.25  school of computer science           9   \n",
       "2015-11-02 10:00:00     4       0.50  school of computer science          10   \n",
       "2015-11-02 10:00:00     2       0.50  school of computer science          10   \n",
       "\n",
       "                     event_day  \n",
       "2015-11-02 09:00:00          2  \n",
       "2015-11-02 09:00:00          2  \n",
       "2015-11-02 09:00:00          2  \n",
       "2015-11-02 10:00:00          2  \n",
       "2015-11-02 10:00:00          2  "
      ]
     },
     "execution_count": 21,
     "metadata": {},
     "output_type": "execute_result"
    }
   ],
   "source": [
    "occupancy_data['event_hour'] = occupancy_data.index.hour\n",
    "occupancy_data['event_day'] = occupancy_data.index.day\n",
    "\n",
    "occupancy_data.index.name = None\n",
    "\n",
    "occupancy_data.head()"
   ]
  },
  {
   "cell_type": "markdown",
   "metadata": {},
   "source": [
    "### Compute average number of wifi connections per room, day and hour\n",
    "\n",
    "##### This is to make it easy to compare it with the survey data where we only have 1 recorded value per room, day and hour"
   ]
  },
  {
   "cell_type": "code",
   "execution_count": 22,
   "metadata": {
    "collapsed": true
   },
   "outputs": [],
   "source": [
    "df_mean_conn = wifi_log_data.groupby(['room', 'event_day', 'event_hour'], as_index=False).mean()"
   ]
  },
  {
   "cell_type": "code",
   "execution_count": 23,
   "metadata": {
    "collapsed": false
   },
   "outputs": [
    {
     "data": {
      "text/html": [
       "<div>\n",
       "<table border=\"1\" class=\"dataframe\">\n",
       "  <thead>\n",
       "    <tr style=\"text-align: right;\">\n",
       "      <th></th>\n",
       "      <th>room</th>\n",
       "      <th>event_day</th>\n",
       "      <th>event_hour</th>\n",
       "      <th>detec1</th>\n",
       "      <th>detec2</th>\n",
       "    </tr>\n",
       "  </thead>\n",
       "  <tbody>\n",
       "    <tr>\n",
       "      <th>0</th>\n",
       "      <td>2</td>\n",
       "      <td>2</td>\n",
       "      <td>20</td>\n",
       "      <td>0.0</td>\n",
       "      <td>0.0</td>\n",
       "    </tr>\n",
       "    <tr>\n",
       "      <th>1</th>\n",
       "      <td>2</td>\n",
       "      <td>2</td>\n",
       "      <td>21</td>\n",
       "      <td>0.0</td>\n",
       "      <td>0.0</td>\n",
       "    </tr>\n",
       "    <tr>\n",
       "      <th>2</th>\n",
       "      <td>2</td>\n",
       "      <td>2</td>\n",
       "      <td>22</td>\n",
       "      <td>0.0</td>\n",
       "      <td>0.0</td>\n",
       "    </tr>\n",
       "    <tr>\n",
       "      <th>3</th>\n",
       "      <td>2</td>\n",
       "      <td>2</td>\n",
       "      <td>23</td>\n",
       "      <td>0.0</td>\n",
       "      <td>0.0</td>\n",
       "    </tr>\n",
       "    <tr>\n",
       "      <th>4</th>\n",
       "      <td>2</td>\n",
       "      <td>3</td>\n",
       "      <td>0</td>\n",
       "      <td>0.0</td>\n",
       "      <td>0.0</td>\n",
       "    </tr>\n",
       "  </tbody>\n",
       "</table>\n",
       "</div>"
      ],
      "text/plain": [
       "  room  event_day  event_hour  detec1  detec2\n",
       "0    2          2          20     0.0     0.0\n",
       "1    2          2          21     0.0     0.0\n",
       "2    2          2          22     0.0     0.0\n",
       "3    2          2          23     0.0     0.0\n",
       "4    2          3           0     0.0     0.0"
      ]
     },
     "execution_count": 23,
     "metadata": {},
     "output_type": "execute_result"
    }
   ],
   "source": [
    "df_mean_conn.head()"
   ]
  },
  {
   "cell_type": "markdown",
   "metadata": {},
   "source": [
    "### Merge the data into a single data frame"
   ]
  },
  {
   "cell_type": "code",
   "execution_count": 24,
   "metadata": {
    "collapsed": false
   },
   "outputs": [
    {
     "name": "stdout",
     "output_type": "stream",
     "text": [
      "room            int64\n",
      "event_day       int64\n",
      "event_hour      int64\n",
      "detec1        float64\n",
      "detec2        float64\n",
      "dtype: object\n"
     ]
    }
   ],
   "source": [
    "df_mean_conn['room'] = df_mean_conn['room'].astype(int)\n",
    "\n",
    "print(df_mean_conn.dtypes)"
   ]
  },
  {
   "cell_type": "code",
   "execution_count": 25,
   "metadata": {
    "collapsed": false
   },
   "outputs": [
    {
     "data": {
      "text/plain": [
       "room            int64\n",
       "occupancy     float64\n",
       "building       object\n",
       "event_hour      int32\n",
       "event_day       int32\n",
       "dtype: object"
      ]
     },
     "execution_count": 25,
     "metadata": {},
     "output_type": "execute_result"
    }
   ],
   "source": [
    "occupancy_data.dtypes"
   ]
  },
  {
   "cell_type": "code",
   "execution_count": 26,
   "metadata": {
    "collapsed": false
   },
   "outputs": [
    {
     "data": {
      "text/html": [
       "<div>\n",
       "<table border=\"1\" class=\"dataframe\">\n",
       "  <thead>\n",
       "    <tr style=\"text-align: right;\">\n",
       "      <th></th>\n",
       "      <th>room</th>\n",
       "      <th>event_day</th>\n",
       "      <th>event_hour</th>\n",
       "      <th>detec1</th>\n",
       "      <th>detec2</th>\n",
       "      <th>occupancy</th>\n",
       "      <th>building</th>\n",
       "    </tr>\n",
       "  </thead>\n",
       "  <tbody>\n",
       "    <tr>\n",
       "      <th>0</th>\n",
       "      <td>2</td>\n",
       "      <td>3</td>\n",
       "      <td>9</td>\n",
       "      <td>4.750000</td>\n",
       "      <td>4.666667</td>\n",
       "      <td>0.00</td>\n",
       "      <td>school of computer science</td>\n",
       "    </tr>\n",
       "    <tr>\n",
       "      <th>1</th>\n",
       "      <td>2</td>\n",
       "      <td>3</td>\n",
       "      <td>10</td>\n",
       "      <td>29.272727</td>\n",
       "      <td>29.181818</td>\n",
       "      <td>0.50</td>\n",
       "      <td>school of computer science</td>\n",
       "    </tr>\n",
       "    <tr>\n",
       "      <th>2</th>\n",
       "      <td>2</td>\n",
       "      <td>3</td>\n",
       "      <td>11</td>\n",
       "      <td>28.727273</td>\n",
       "      <td>28.636364</td>\n",
       "      <td>0.50</td>\n",
       "      <td>school of computer science</td>\n",
       "    </tr>\n",
       "    <tr>\n",
       "      <th>3</th>\n",
       "      <td>2</td>\n",
       "      <td>3</td>\n",
       "      <td>12</td>\n",
       "      <td>14.166667</td>\n",
       "      <td>14.166667</td>\n",
       "      <td>0.50</td>\n",
       "      <td>school of computer science</td>\n",
       "    </tr>\n",
       "    <tr>\n",
       "      <th>4</th>\n",
       "      <td>2</td>\n",
       "      <td>3</td>\n",
       "      <td>13</td>\n",
       "      <td>14.250000</td>\n",
       "      <td>14.166667</td>\n",
       "      <td>0.00</td>\n",
       "      <td>school of computer science</td>\n",
       "    </tr>\n",
       "    <tr>\n",
       "      <th>5</th>\n",
       "      <td>2</td>\n",
       "      <td>3</td>\n",
       "      <td>14</td>\n",
       "      <td>46.363636</td>\n",
       "      <td>46.181818</td>\n",
       "      <td>0.75</td>\n",
       "      <td>school of computer science</td>\n",
       "    </tr>\n",
       "    <tr>\n",
       "      <th>6</th>\n",
       "      <td>2</td>\n",
       "      <td>3</td>\n",
       "      <td>15</td>\n",
       "      <td>40.272727</td>\n",
       "      <td>39.727273</td>\n",
       "      <td>0.25</td>\n",
       "      <td>school of computer science</td>\n",
       "    </tr>\n",
       "    <tr>\n",
       "      <th>7</th>\n",
       "      <td>2</td>\n",
       "      <td>3</td>\n",
       "      <td>16</td>\n",
       "      <td>36.416667</td>\n",
       "      <td>35.916667</td>\n",
       "      <td>0.25</td>\n",
       "      <td>school of computer science</td>\n",
       "    </tr>\n",
       "    <tr>\n",
       "      <th>8</th>\n",
       "      <td>2</td>\n",
       "      <td>4</td>\n",
       "      <td>9</td>\n",
       "      <td>13.454545</td>\n",
       "      <td>13.363636</td>\n",
       "      <td>0.25</td>\n",
       "      <td>school of computer science</td>\n",
       "    </tr>\n",
       "    <tr>\n",
       "      <th>9</th>\n",
       "      <td>2</td>\n",
       "      <td>4</td>\n",
       "      <td>10</td>\n",
       "      <td>14.416667</td>\n",
       "      <td>14.333333</td>\n",
       "      <td>0.25</td>\n",
       "      <td>school of computer science</td>\n",
       "    </tr>\n",
       "    <tr>\n",
       "      <th>10</th>\n",
       "      <td>2</td>\n",
       "      <td>4</td>\n",
       "      <td>11</td>\n",
       "      <td>8.363636</td>\n",
       "      <td>8.272727</td>\n",
       "      <td>0.25</td>\n",
       "      <td>school of computer science</td>\n",
       "    </tr>\n",
       "    <tr>\n",
       "      <th>11</th>\n",
       "      <td>2</td>\n",
       "      <td>4</td>\n",
       "      <td>12</td>\n",
       "      <td>33.181818</td>\n",
       "      <td>33.000000</td>\n",
       "      <td>0.50</td>\n",
       "      <td>school of computer science</td>\n",
       "    </tr>\n",
       "    <tr>\n",
       "      <th>12</th>\n",
       "      <td>2</td>\n",
       "      <td>4</td>\n",
       "      <td>13</td>\n",
       "      <td>25.083333</td>\n",
       "      <td>25.083333</td>\n",
       "      <td>0.00</td>\n",
       "      <td>school of computer science</td>\n",
       "    </tr>\n",
       "    <tr>\n",
       "      <th>13</th>\n",
       "      <td>2</td>\n",
       "      <td>4</td>\n",
       "      <td>14</td>\n",
       "      <td>23.000000</td>\n",
       "      <td>23.000000</td>\n",
       "      <td>0.25</td>\n",
       "      <td>school of computer science</td>\n",
       "    </tr>\n",
       "    <tr>\n",
       "      <th>14</th>\n",
       "      <td>2</td>\n",
       "      <td>4</td>\n",
       "      <td>15</td>\n",
       "      <td>5.545455</td>\n",
       "      <td>5.545455</td>\n",
       "      <td>0.00</td>\n",
       "      <td>school of computer science</td>\n",
       "    </tr>\n",
       "  </tbody>\n",
       "</table>\n",
       "</div>"
      ],
      "text/plain": [
       "    room  event_day  event_hour     detec1     detec2  occupancy  \\\n",
       "0      2          3           9   4.750000   4.666667       0.00   \n",
       "1      2          3          10  29.272727  29.181818       0.50   \n",
       "2      2          3          11  28.727273  28.636364       0.50   \n",
       "3      2          3          12  14.166667  14.166667       0.50   \n",
       "4      2          3          13  14.250000  14.166667       0.00   \n",
       "5      2          3          14  46.363636  46.181818       0.75   \n",
       "6      2          3          15  40.272727  39.727273       0.25   \n",
       "7      2          3          16  36.416667  35.916667       0.25   \n",
       "8      2          4           9  13.454545  13.363636       0.25   \n",
       "9      2          4          10  14.416667  14.333333       0.25   \n",
       "10     2          4          11   8.363636   8.272727       0.25   \n",
       "11     2          4          12  33.181818  33.000000       0.50   \n",
       "12     2          4          13  25.083333  25.083333       0.00   \n",
       "13     2          4          14  23.000000  23.000000       0.25   \n",
       "14     2          4          15   5.545455   5.545455       0.00   \n",
       "\n",
       "                      building  \n",
       "0   school of computer science  \n",
       "1   school of computer science  \n",
       "2   school of computer science  \n",
       "3   school of computer science  \n",
       "4   school of computer science  \n",
       "5   school of computer science  \n",
       "6   school of computer science  \n",
       "7   school of computer science  \n",
       "8   school of computer science  \n",
       "9   school of computer science  \n",
       "10  school of computer science  \n",
       "11  school of computer science  \n",
       "12  school of computer science  \n",
       "13  school of computer science  \n",
       "14  school of computer science  "
      ]
     },
     "execution_count": 26,
     "metadata": {},
     "output_type": "execute_result"
    }
   ],
   "source": [
    "df = pd.merge(df_mean_conn, occupancy_data, on=['room', 'event_day', 'event_hour'], how='inner')\n",
    "\n",
    "df.head(15)"
   ]
  },
  {
   "cell_type": "markdown",
   "metadata": {},
   "source": [
    "### add estimated occupancy\n",
    "\n",
    "##### (number of occupants: number of seats in the room * occupancy % as indicated on the occupancy survey)"
   ]
  },
  {
   "cell_type": "code",
   "execution_count": 27,
   "metadata": {
    "collapsed": false
   },
   "outputs": [],
   "source": [
    "max_occupancy_b002_b003 = 90\n",
    "max_occupancy_b004 = 220"
   ]
  },
  {
   "cell_type": "code",
   "execution_count": 28,
   "metadata": {
    "collapsed": false
   },
   "outputs": [],
   "source": [
    "df['estim_nb_ocpnts'] = None\n",
    "\n",
    "for i in range(df.shape[0]):\n",
    "    if df['room'][i] == 2 or df['room'][i] == 3 :\n",
    "        estim = df['occupancy'][i] * max_occupancy_b002_b003\n",
    "        df.set_value(i,'estim_nb_ocpnts', estim)\n",
    "    elif df['room'][i] == 4:\n",
    "        estim = df['occupancy'][i] * max_occupancy_b004\n",
    "        df.set_value(i,'estim_nb_ocpnts', estim)\n",
    "    else:\n",
    "        raise ValueError(\"Incorrect room number:\", df['room'][i])"
   ]
  },
  {
   "cell_type": "code",
   "execution_count": 29,
   "metadata": {
    "collapsed": false
   },
   "outputs": [
    {
     "data": {
      "text/html": [
       "<div>\n",
       "<table border=\"1\" class=\"dataframe\">\n",
       "  <thead>\n",
       "    <tr style=\"text-align: right;\">\n",
       "      <th></th>\n",
       "      <th>room</th>\n",
       "      <th>event_day</th>\n",
       "      <th>event_hour</th>\n",
       "      <th>detec1</th>\n",
       "      <th>detec2</th>\n",
       "      <th>occupancy</th>\n",
       "      <th>building</th>\n",
       "      <th>estim_nb_ocpnts</th>\n",
       "    </tr>\n",
       "  </thead>\n",
       "  <tbody>\n",
       "    <tr>\n",
       "      <th>0</th>\n",
       "      <td>2</td>\n",
       "      <td>3</td>\n",
       "      <td>9</td>\n",
       "      <td>4.750000</td>\n",
       "      <td>4.666667</td>\n",
       "      <td>0.00</td>\n",
       "      <td>school of computer science</td>\n",
       "      <td>0</td>\n",
       "    </tr>\n",
       "    <tr>\n",
       "      <th>1</th>\n",
       "      <td>2</td>\n",
       "      <td>3</td>\n",
       "      <td>10</td>\n",
       "      <td>29.272727</td>\n",
       "      <td>29.181818</td>\n",
       "      <td>0.50</td>\n",
       "      <td>school of computer science</td>\n",
       "      <td>45</td>\n",
       "    </tr>\n",
       "    <tr>\n",
       "      <th>2</th>\n",
       "      <td>2</td>\n",
       "      <td>3</td>\n",
       "      <td>11</td>\n",
       "      <td>28.727273</td>\n",
       "      <td>28.636364</td>\n",
       "      <td>0.50</td>\n",
       "      <td>school of computer science</td>\n",
       "      <td>45</td>\n",
       "    </tr>\n",
       "    <tr>\n",
       "      <th>3</th>\n",
       "      <td>2</td>\n",
       "      <td>3</td>\n",
       "      <td>12</td>\n",
       "      <td>14.166667</td>\n",
       "      <td>14.166667</td>\n",
       "      <td>0.50</td>\n",
       "      <td>school of computer science</td>\n",
       "      <td>45</td>\n",
       "    </tr>\n",
       "    <tr>\n",
       "      <th>4</th>\n",
       "      <td>2</td>\n",
       "      <td>3</td>\n",
       "      <td>13</td>\n",
       "      <td>14.250000</td>\n",
       "      <td>14.166667</td>\n",
       "      <td>0.00</td>\n",
       "      <td>school of computer science</td>\n",
       "      <td>0</td>\n",
       "    </tr>\n",
       "    <tr>\n",
       "      <th>5</th>\n",
       "      <td>2</td>\n",
       "      <td>3</td>\n",
       "      <td>14</td>\n",
       "      <td>46.363636</td>\n",
       "      <td>46.181818</td>\n",
       "      <td>0.75</td>\n",
       "      <td>school of computer science</td>\n",
       "      <td>67.5</td>\n",
       "    </tr>\n",
       "    <tr>\n",
       "      <th>6</th>\n",
       "      <td>2</td>\n",
       "      <td>3</td>\n",
       "      <td>15</td>\n",
       "      <td>40.272727</td>\n",
       "      <td>39.727273</td>\n",
       "      <td>0.25</td>\n",
       "      <td>school of computer science</td>\n",
       "      <td>22.5</td>\n",
       "    </tr>\n",
       "    <tr>\n",
       "      <th>7</th>\n",
       "      <td>2</td>\n",
       "      <td>3</td>\n",
       "      <td>16</td>\n",
       "      <td>36.416667</td>\n",
       "      <td>35.916667</td>\n",
       "      <td>0.25</td>\n",
       "      <td>school of computer science</td>\n",
       "      <td>22.5</td>\n",
       "    </tr>\n",
       "    <tr>\n",
       "      <th>8</th>\n",
       "      <td>2</td>\n",
       "      <td>4</td>\n",
       "      <td>9</td>\n",
       "      <td>13.454545</td>\n",
       "      <td>13.363636</td>\n",
       "      <td>0.25</td>\n",
       "      <td>school of computer science</td>\n",
       "      <td>22.5</td>\n",
       "    </tr>\n",
       "    <tr>\n",
       "      <th>9</th>\n",
       "      <td>2</td>\n",
       "      <td>4</td>\n",
       "      <td>10</td>\n",
       "      <td>14.416667</td>\n",
       "      <td>14.333333</td>\n",
       "      <td>0.25</td>\n",
       "      <td>school of computer science</td>\n",
       "      <td>22.5</td>\n",
       "    </tr>\n",
       "    <tr>\n",
       "      <th>10</th>\n",
       "      <td>2</td>\n",
       "      <td>4</td>\n",
       "      <td>11</td>\n",
       "      <td>8.363636</td>\n",
       "      <td>8.272727</td>\n",
       "      <td>0.25</td>\n",
       "      <td>school of computer science</td>\n",
       "      <td>22.5</td>\n",
       "    </tr>\n",
       "    <tr>\n",
       "      <th>11</th>\n",
       "      <td>2</td>\n",
       "      <td>4</td>\n",
       "      <td>12</td>\n",
       "      <td>33.181818</td>\n",
       "      <td>33.000000</td>\n",
       "      <td>0.50</td>\n",
       "      <td>school of computer science</td>\n",
       "      <td>45</td>\n",
       "    </tr>\n",
       "    <tr>\n",
       "      <th>12</th>\n",
       "      <td>2</td>\n",
       "      <td>4</td>\n",
       "      <td>13</td>\n",
       "      <td>25.083333</td>\n",
       "      <td>25.083333</td>\n",
       "      <td>0.00</td>\n",
       "      <td>school of computer science</td>\n",
       "      <td>0</td>\n",
       "    </tr>\n",
       "    <tr>\n",
       "      <th>13</th>\n",
       "      <td>2</td>\n",
       "      <td>4</td>\n",
       "      <td>14</td>\n",
       "      <td>23.000000</td>\n",
       "      <td>23.000000</td>\n",
       "      <td>0.25</td>\n",
       "      <td>school of computer science</td>\n",
       "      <td>22.5</td>\n",
       "    </tr>\n",
       "    <tr>\n",
       "      <th>14</th>\n",
       "      <td>2</td>\n",
       "      <td>4</td>\n",
       "      <td>15</td>\n",
       "      <td>5.545455</td>\n",
       "      <td>5.545455</td>\n",
       "      <td>0.00</td>\n",
       "      <td>school of computer science</td>\n",
       "      <td>0</td>\n",
       "    </tr>\n",
       "  </tbody>\n",
       "</table>\n",
       "</div>"
      ],
      "text/plain": [
       "    room  event_day  event_hour     detec1     detec2  occupancy  \\\n",
       "0      2          3           9   4.750000   4.666667       0.00   \n",
       "1      2          3          10  29.272727  29.181818       0.50   \n",
       "2      2          3          11  28.727273  28.636364       0.50   \n",
       "3      2          3          12  14.166667  14.166667       0.50   \n",
       "4      2          3          13  14.250000  14.166667       0.00   \n",
       "5      2          3          14  46.363636  46.181818       0.75   \n",
       "6      2          3          15  40.272727  39.727273       0.25   \n",
       "7      2          3          16  36.416667  35.916667       0.25   \n",
       "8      2          4           9  13.454545  13.363636       0.25   \n",
       "9      2          4          10  14.416667  14.333333       0.25   \n",
       "10     2          4          11   8.363636   8.272727       0.25   \n",
       "11     2          4          12  33.181818  33.000000       0.50   \n",
       "12     2          4          13  25.083333  25.083333       0.00   \n",
       "13     2          4          14  23.000000  23.000000       0.25   \n",
       "14     2          4          15   5.545455   5.545455       0.00   \n",
       "\n",
       "                      building estim_nb_ocpnts  \n",
       "0   school of computer science               0  \n",
       "1   school of computer science              45  \n",
       "2   school of computer science              45  \n",
       "3   school of computer science              45  \n",
       "4   school of computer science               0  \n",
       "5   school of computer science            67.5  \n",
       "6   school of computer science            22.5  \n",
       "7   school of computer science            22.5  \n",
       "8   school of computer science            22.5  \n",
       "9   school of computer science            22.5  \n",
       "10  school of computer science            22.5  \n",
       "11  school of computer science              45  \n",
       "12  school of computer science               0  \n",
       "13  school of computer science            22.5  \n",
       "14  school of computer science               0  "
      ]
     },
     "execution_count": 29,
     "metadata": {},
     "output_type": "execute_result"
    }
   ],
   "source": [
    "df.head(15)"
   ]
  },
  {
   "cell_type": "code",
   "execution_count": 30,
   "metadata": {
    "collapsed": false
   },
   "outputs": [
    {
     "data": {
      "text/html": [
       "<div>\n",
       "<table border=\"1\" class=\"dataframe\">\n",
       "  <thead>\n",
       "    <tr style=\"text-align: right;\">\n",
       "      <th></th>\n",
       "      <th>room</th>\n",
       "      <th>event_day</th>\n",
       "      <th>event_hour</th>\n",
       "      <th>detec1</th>\n",
       "      <th>detec2</th>\n",
       "      <th>occupancy</th>\n",
       "      <th>building</th>\n",
       "      <th>estim_nb_ocpnts</th>\n",
       "    </tr>\n",
       "  </thead>\n",
       "  <tbody>\n",
       "    <tr>\n",
       "      <th>201</th>\n",
       "      <td>4</td>\n",
       "      <td>12</td>\n",
       "      <td>10</td>\n",
       "      <td>29.916667</td>\n",
       "      <td>29.750000</td>\n",
       "      <td>0.50</td>\n",
       "      <td>school of computer science</td>\n",
       "      <td>110</td>\n",
       "    </tr>\n",
       "    <tr>\n",
       "      <th>202</th>\n",
       "      <td>4</td>\n",
       "      <td>12</td>\n",
       "      <td>11</td>\n",
       "      <td>49.416667</td>\n",
       "      <td>49.166667</td>\n",
       "      <td>0.25</td>\n",
       "      <td>school of computer science</td>\n",
       "      <td>55</td>\n",
       "    </tr>\n",
       "    <tr>\n",
       "      <th>203</th>\n",
       "      <td>4</td>\n",
       "      <td>12</td>\n",
       "      <td>12</td>\n",
       "      <td>51.545455</td>\n",
       "      <td>51.363636</td>\n",
       "      <td>0.25</td>\n",
       "      <td>school of computer science</td>\n",
       "      <td>55</td>\n",
       "    </tr>\n",
       "    <tr>\n",
       "      <th>204</th>\n",
       "      <td>4</td>\n",
       "      <td>12</td>\n",
       "      <td>13</td>\n",
       "      <td>73.750000</td>\n",
       "      <td>73.583333</td>\n",
       "      <td>0.50</td>\n",
       "      <td>school of computer science</td>\n",
       "      <td>110</td>\n",
       "    </tr>\n",
       "    <tr>\n",
       "      <th>205</th>\n",
       "      <td>4</td>\n",
       "      <td>12</td>\n",
       "      <td>14</td>\n",
       "      <td>46.000000</td>\n",
       "      <td>46.000000</td>\n",
       "      <td>0.50</td>\n",
       "      <td>school of computer science</td>\n",
       "      <td>110</td>\n",
       "    </tr>\n",
       "    <tr>\n",
       "      <th>206</th>\n",
       "      <td>4</td>\n",
       "      <td>12</td>\n",
       "      <td>15</td>\n",
       "      <td>1.166667</td>\n",
       "      <td>1.166667</td>\n",
       "      <td>0.25</td>\n",
       "      <td>school of computer science</td>\n",
       "      <td>55</td>\n",
       "    </tr>\n",
       "    <tr>\n",
       "      <th>207</th>\n",
       "      <td>4</td>\n",
       "      <td>12</td>\n",
       "      <td>16</td>\n",
       "      <td>51.166667</td>\n",
       "      <td>51.083333</td>\n",
       "      <td>0.00</td>\n",
       "      <td>school of computer science</td>\n",
       "      <td>0</td>\n",
       "    </tr>\n",
       "    <tr>\n",
       "      <th>208</th>\n",
       "      <td>4</td>\n",
       "      <td>13</td>\n",
       "      <td>9</td>\n",
       "      <td>6.583333</td>\n",
       "      <td>6.416667</td>\n",
       "      <td>0.00</td>\n",
       "      <td>school of computer science</td>\n",
       "      <td>0</td>\n",
       "    </tr>\n",
       "    <tr>\n",
       "      <th>209</th>\n",
       "      <td>4</td>\n",
       "      <td>13</td>\n",
       "      <td>10</td>\n",
       "      <td>54.272727</td>\n",
       "      <td>54.000000</td>\n",
       "      <td>0.00</td>\n",
       "      <td>school of computer science</td>\n",
       "      <td>0</td>\n",
       "    </tr>\n",
       "    <tr>\n",
       "      <th>210</th>\n",
       "      <td>4</td>\n",
       "      <td>13</td>\n",
       "      <td>11</td>\n",
       "      <td>32.818182</td>\n",
       "      <td>32.727273</td>\n",
       "      <td>0.00</td>\n",
       "      <td>school of computer science</td>\n",
       "      <td>0</td>\n",
       "    </tr>\n",
       "    <tr>\n",
       "      <th>211</th>\n",
       "      <td>4</td>\n",
       "      <td>13</td>\n",
       "      <td>12</td>\n",
       "      <td>6.583333</td>\n",
       "      <td>6.583333</td>\n",
       "      <td>0.00</td>\n",
       "      <td>school of computer science</td>\n",
       "      <td>0</td>\n",
       "    </tr>\n",
       "    <tr>\n",
       "      <th>212</th>\n",
       "      <td>4</td>\n",
       "      <td>13</td>\n",
       "      <td>13</td>\n",
       "      <td>24.916667</td>\n",
       "      <td>24.833333</td>\n",
       "      <td>0.00</td>\n",
       "      <td>school of computer science</td>\n",
       "      <td>0</td>\n",
       "    </tr>\n",
       "    <tr>\n",
       "      <th>213</th>\n",
       "      <td>4</td>\n",
       "      <td>13</td>\n",
       "      <td>14</td>\n",
       "      <td>104.000000</td>\n",
       "      <td>103.750000</td>\n",
       "      <td>0.50</td>\n",
       "      <td>school of computer science</td>\n",
       "      <td>110</td>\n",
       "    </tr>\n",
       "    <tr>\n",
       "      <th>214</th>\n",
       "      <td>4</td>\n",
       "      <td>13</td>\n",
       "      <td>15</td>\n",
       "      <td>4.833333</td>\n",
       "      <td>4.833333</td>\n",
       "      <td>0.50</td>\n",
       "      <td>school of computer science</td>\n",
       "      <td>110</td>\n",
       "    </tr>\n",
       "    <tr>\n",
       "      <th>215</th>\n",
       "      <td>4</td>\n",
       "      <td>13</td>\n",
       "      <td>16</td>\n",
       "      <td>0.166667</td>\n",
       "      <td>0.166667</td>\n",
       "      <td>0.00</td>\n",
       "      <td>school of computer science</td>\n",
       "      <td>0</td>\n",
       "    </tr>\n",
       "  </tbody>\n",
       "</table>\n",
       "</div>"
      ],
      "text/plain": [
       "     room  event_day  event_hour      detec1      detec2  occupancy  \\\n",
       "201     4         12          10   29.916667   29.750000       0.50   \n",
       "202     4         12          11   49.416667   49.166667       0.25   \n",
       "203     4         12          12   51.545455   51.363636       0.25   \n",
       "204     4         12          13   73.750000   73.583333       0.50   \n",
       "205     4         12          14   46.000000   46.000000       0.50   \n",
       "206     4         12          15    1.166667    1.166667       0.25   \n",
       "207     4         12          16   51.166667   51.083333       0.00   \n",
       "208     4         13           9    6.583333    6.416667       0.00   \n",
       "209     4         13          10   54.272727   54.000000       0.00   \n",
       "210     4         13          11   32.818182   32.727273       0.00   \n",
       "211     4         13          12    6.583333    6.583333       0.00   \n",
       "212     4         13          13   24.916667   24.833333       0.00   \n",
       "213     4         13          14  104.000000  103.750000       0.50   \n",
       "214     4         13          15    4.833333    4.833333       0.50   \n",
       "215     4         13          16    0.166667    0.166667       0.00   \n",
       "\n",
       "                       building estim_nb_ocpnts  \n",
       "201  school of computer science             110  \n",
       "202  school of computer science              55  \n",
       "203  school of computer science              55  \n",
       "204  school of computer science             110  \n",
       "205  school of computer science             110  \n",
       "206  school of computer science              55  \n",
       "207  school of computer science               0  \n",
       "208  school of computer science               0  \n",
       "209  school of computer science               0  \n",
       "210  school of computer science               0  \n",
       "211  school of computer science               0  \n",
       "212  school of computer science               0  \n",
       "213  school of computer science             110  \n",
       "214  school of computer science             110  \n",
       "215  school of computer science               0  "
      ]
     },
     "execution_count": 30,
     "metadata": {},
     "output_type": "execute_result"
    }
   ],
   "source": [
    "df.tail(15)"
   ]
  },
  {
   "cell_type": "markdown",
   "metadata": {},
   "source": [
    "### save to csv"
   ]
  },
  {
   "cell_type": "code",
   "execution_count": 31,
   "metadata": {
    "collapsed": true
   },
   "outputs": [],
   "source": [
    "df.to_csv('wifi_logs_occupancy_survey_merged_df.csv')"
   ]
  },
  {
   "cell_type": "markdown",
   "metadata": {},
   "source": [
    "# Data analytics"
   ]
  },
  {
   "cell_type": "markdown",
   "metadata": {},
   "source": [
    "### Finding correlations"
   ]
  },
  {
   "cell_type": "code",
   "execution_count": 32,
   "metadata": {
    "collapsed": true
   },
   "outputs": [],
   "source": [
    "import matplotlib.pyplot as plt"
   ]
  },
  {
   "cell_type": "code",
   "execution_count": 33,
   "metadata": {
    "collapsed": false
   },
   "outputs": [],
   "source": [
    "df['estim_nb_ocpnts'] = df['estim_nb_ocpnts'].astype(float)"
   ]
  },
  {
   "cell_type": "code",
   "execution_count": 34,
   "metadata": {
    "collapsed": false
   },
   "outputs": [
    {
     "data": {
      "text/html": [
       "<div>\n",
       "<table border=\"1\" class=\"dataframe\">\n",
       "  <thead>\n",
       "    <tr style=\"text-align: right;\">\n",
       "      <th></th>\n",
       "      <th>detec1</th>\n",
       "      <th>detec2</th>\n",
       "      <th>estim_nb_ocpnts</th>\n",
       "    </tr>\n",
       "  </thead>\n",
       "  <tbody>\n",
       "    <tr>\n",
       "      <th>detec1</th>\n",
       "      <td>1.000000</td>\n",
       "      <td>0.999986</td>\n",
       "      <td>0.744200</td>\n",
       "    </tr>\n",
       "    <tr>\n",
       "      <th>detec2</th>\n",
       "      <td>0.999986</td>\n",
       "      <td>1.000000</td>\n",
       "      <td>0.744527</td>\n",
       "    </tr>\n",
       "    <tr>\n",
       "      <th>estim_nb_ocpnts</th>\n",
       "      <td>0.744200</td>\n",
       "      <td>0.744527</td>\n",
       "      <td>1.000000</td>\n",
       "    </tr>\n",
       "  </tbody>\n",
       "</table>\n",
       "</div>"
      ],
      "text/plain": [
       "                   detec1    detec2  estim_nb_ocpnts\n",
       "detec1           1.000000  0.999986         0.744200\n",
       "detec2           0.999986  1.000000         0.744527\n",
       "estim_nb_ocpnts  0.744200  0.744527         1.000000"
      ]
     },
     "execution_count": 34,
     "metadata": {},
     "output_type": "execute_result"
    }
   ],
   "source": [
    "df[['detec1', 'detec2', 'estim_nb_ocpnts']].corr()"
   ]
  },
  {
   "cell_type": "markdown",
   "metadata": {},
   "source": [
    "### Plotting correlations"
   ]
  },
  {
   "cell_type": "code",
   "execution_count": 35,
   "metadata": {
    "collapsed": false
   },
   "outputs": [
    {
     "data": {
      "text/plain": [
       "<matplotlib.axes._subplots.AxesSubplot at 0x7fc9c63852b0>"
      ]
     },
     "execution_count": 35,
     "metadata": {},
     "output_type": "execute_result"
    },
    {
     "data": {
      "image/png": "[encoded data removed]",
      "text/plain": [
       "<matplotlib.figure.Figure at 0x7fc9c6648438>"
      ]
     },
     "metadata": {},
     "output_type": "display_data"
    }
   ],
   "source": [
    "%matplotlib inline\n",
    "\n",
    "fig, axs = plt.subplots(1, 2, sharey=True)\n",
    "df.plot(kind='scatter', x='detec1', y='estim_nb_ocpnts', label='%.3f' \n",
    "        % df[['detec1', 'estim_nb_ocpnts']].corr().as_matrix()[0,1], ax=axs[0], figsize=(15, 8))\n",
    "df.plot(kind='scatter', x='detec2', y='estim_nb_ocpnts', label='%.3f' \n",
    "        % df[['detec2', 'estim_nb_ocpnts']].corr().as_matrix()[0,1], ax=axs[1])\n"
   ]
  },
  {
   "cell_type": "markdown",
   "metadata": {
    "collapsed": true
   },
   "source": [
    "### Finding a linear regression model"
   ]
  },
  {
   "cell_type": "code",
   "execution_count": 36,
   "metadata": {
    "collapsed": true
   },
   "outputs": [],
   "source": [
    "import statsmodels.formula.api as sm"
   ]
  },
  {
   "cell_type": "code",
   "execution_count": 37,
   "metadata": {
    "collapsed": true
   },
   "outputs": [],
   "source": [
    "lm = sm.ols(formula='estim_nb_ocpnts ~ detec2', data=df).fit()"
   ]
  },
  {
   "cell_type": "code",
   "execution_count": 38,
   "metadata": {
    "collapsed": false
   },
   "outputs": [
    {
     "name": "stdout",
     "output_type": "stream",
     "text": [
      "Intercept    3.849078\n",
      "detec2       0.956233\n",
      "dtype: float64\n"
     ]
    }
   ],
   "source": [
    "print(lm.params)"
   ]
  },
  {
   "cell_type": "markdown",
   "metadata": {},
   "source": [
    "The model learnt is: estim_nb_ocpnts = 3.849078 + 0.956233 * detec2\n",
    "It means that for a increase of 1 in detec2, we have a 0.956233 increase in estim_nb_ocpnts"
   ]
  },
  {
   "cell_type": "code",
   "execution_count": 39,
   "metadata": {
    "collapsed": false
   },
   "outputs": [
    {
     "name": "stdout",
     "output_type": "stream",
     "text": [
      "                            OLS Regression Results                            \n",
      "==============================================================================\n",
      "Dep. Variable:        estim_nb_ocpnts   R-squared:                       0.554\n",
      "Model:                            OLS   Adj. R-squared:                  0.552\n",
      "Method:                 Least Squares   F-statistic:                     266.2\n",
      "Date:                Thu, 07 Jul 2016   Prob (F-statistic):           2.03e-39\n",
      "Time:                        13:46:05   Log-Likelihood:                -984.51\n",
      "No. Observations:                 216   AIC:                             1973.\n",
      "Df Residuals:                     214   BIC:                             1980.\n",
      "Df Model:                           1                                         \n",
      "Covariance Type:            nonrobust                                         \n",
      "==============================================================================\n",
      "                 coef    std err          t      P>|t|      [95.0% Conf. Int.]\n",
      "------------------------------------------------------------------------------\n",
      "Intercept      3.8491      2.371      1.623      0.106        -0.825     8.523\n",
      "detec2         0.9562      0.059     16.315      0.000         0.841     1.072\n",
      "==============================================================================\n",
      "Omnibus:                       39.577   Durbin-Watson:                   1.647\n",
      "Prob(Omnibus):                  0.000   Jarque-Bera (JB):               93.972\n",
      "Skew:                           0.828   Prob(JB):                     3.93e-21\n",
      "Kurtosis:                       5.775   Cond. No.                         60.8\n",
      "==============================================================================\n",
      "\n",
      "Warnings:\n",
      "[1] Standard Errors assume that the covariance matrix of the errors is correctly specified.\n"
     ]
    }
   ],
   "source": [
    "print(lm.summary())"
   ]
  },
  {
   "cell_type": "markdown",
   "metadata": {},
   "source": [
    "We can see from the above that the intercept is not a significant feature (p-value above 0.05 and confidence interval includes 0)"
   ]
  },
  {
   "cell_type": "markdown",
   "metadata": {},
   "source": [
    "### Test the model"
   ]
  },
  {
   "cell_type": "code",
   "execution_count": 40,
   "metadata": {
    "collapsed": false
   },
   "outputs": [
    {
     "data": {
      "text/html": [
       "<div>\n",
       "<table border=\"1\" class=\"dataframe\">\n",
       "  <thead>\n",
       "    <tr style=\"text-align: right;\">\n",
       "      <th></th>\n",
       "      <th>room</th>\n",
       "      <th>event_day</th>\n",
       "      <th>event_hour</th>\n",
       "      <th>detec1</th>\n",
       "      <th>detec2</th>\n",
       "      <th>occupancy</th>\n",
       "      <th>estim_nb_ocpnts</th>\n",
       "    </tr>\n",
       "  </thead>\n",
       "  <tbody>\n",
       "    <tr>\n",
       "      <th>count</th>\n",
       "      <td>216.000000</td>\n",
       "      <td>216.000000</td>\n",
       "      <td>216.00000</td>\n",
       "      <td>216.000000</td>\n",
       "      <td>216.000000</td>\n",
       "      <td>216.000000</td>\n",
       "      <td>216.000000</td>\n",
       "    </tr>\n",
       "    <tr>\n",
       "      <th>mean</th>\n",
       "      <td>3.000000</td>\n",
       "      <td>8.111111</td>\n",
       "      <td>12.50000</td>\n",
       "      <td>30.331657</td>\n",
       "      <td>30.204356</td>\n",
       "      <td>0.250000</td>\n",
       "      <td>32.731481</td>\n",
       "    </tr>\n",
       "    <tr>\n",
       "      <th>std</th>\n",
       "      <td>0.818393</td>\n",
       "      <td>3.486408</td>\n",
       "      <td>2.29661</td>\n",
       "      <td>27.089776</td>\n",
       "      <td>26.980850</td>\n",
       "      <td>0.218345</td>\n",
       "      <td>34.652825</td>\n",
       "    </tr>\n",
       "    <tr>\n",
       "      <th>min</th>\n",
       "      <td>2.000000</td>\n",
       "      <td>3.000000</td>\n",
       "      <td>9.00000</td>\n",
       "      <td>0.000000</td>\n",
       "      <td>0.000000</td>\n",
       "      <td>0.000000</td>\n",
       "      <td>0.000000</td>\n",
       "    </tr>\n",
       "    <tr>\n",
       "      <th>25%</th>\n",
       "      <td>2.000000</td>\n",
       "      <td>5.000000</td>\n",
       "      <td>10.75000</td>\n",
       "      <td>11.613636</td>\n",
       "      <td>11.590909</td>\n",
       "      <td>0.000000</td>\n",
       "      <td>0.000000</td>\n",
       "    </tr>\n",
       "    <tr>\n",
       "      <th>50%</th>\n",
       "      <td>3.000000</td>\n",
       "      <td>9.000000</td>\n",
       "      <td>12.50000</td>\n",
       "      <td>23.666667</td>\n",
       "      <td>23.590909</td>\n",
       "      <td>0.250000</td>\n",
       "      <td>22.500000</td>\n",
       "    </tr>\n",
       "    <tr>\n",
       "      <th>75%</th>\n",
       "      <td>4.000000</td>\n",
       "      <td>11.000000</td>\n",
       "      <td>14.25000</td>\n",
       "      <td>43.878788</td>\n",
       "      <td>43.789773</td>\n",
       "      <td>0.250000</td>\n",
       "      <td>55.000000</td>\n",
       "    </tr>\n",
       "    <tr>\n",
       "      <th>max</th>\n",
       "      <td>4.000000</td>\n",
       "      <td>13.000000</td>\n",
       "      <td>16.00000</td>\n",
       "      <td>192.916667</td>\n",
       "      <td>191.583333</td>\n",
       "      <td>1.000000</td>\n",
       "      <td>220.000000</td>\n",
       "    </tr>\n",
       "  </tbody>\n",
       "</table>\n",
       "</div>"
      ],
      "text/plain": [
       "             room   event_day  event_hour      detec1      detec2   occupancy  \\\n",
       "count  216.000000  216.000000   216.00000  216.000000  216.000000  216.000000   \n",
       "mean     3.000000    8.111111    12.50000   30.331657   30.204356    0.250000   \n",
       "std      0.818393    3.486408     2.29661   27.089776   26.980850    0.218345   \n",
       "min      2.000000    3.000000     9.00000    0.000000    0.000000    0.000000   \n",
       "25%      2.000000    5.000000    10.75000   11.613636   11.590909    0.000000   \n",
       "50%      3.000000    9.000000    12.50000   23.666667   23.590909    0.250000   \n",
       "75%      4.000000   11.000000    14.25000   43.878788   43.789773    0.250000   \n",
       "max      4.000000   13.000000    16.00000  192.916667  191.583333    1.000000   \n",
       "\n",
       "       estim_nb_ocpnts  \n",
       "count       216.000000  \n",
       "mean         32.731481  \n",
       "std          34.652825  \n",
       "min           0.000000  \n",
       "25%           0.000000  \n",
       "50%          22.500000  \n",
       "75%          55.000000  \n",
       "max         220.000000  "
      ]
     },
     "execution_count": 40,
     "metadata": {},
     "output_type": "execute_result"
    }
   ],
   "source": [
    "df.describe()"
   ]
  },
  {
   "cell_type": "code",
   "execution_count": 41,
   "metadata": {
    "collapsed": false
   },
   "outputs": [
    {
     "data": {
      "text/html": [
       "<div>\n",
       "<table border=\"1\" class=\"dataframe\">\n",
       "  <thead>\n",
       "    <tr style=\"text-align: right;\">\n",
       "      <th></th>\n",
       "      <th>detec2</th>\n",
       "    </tr>\n",
       "  </thead>\n",
       "  <tbody>\n",
       "    <tr>\n",
       "      <th>0</th>\n",
       "      <td>30</td>\n",
       "    </tr>\n",
       "  </tbody>\n",
       "</table>\n",
       "</div>"
      ],
      "text/plain": [
       "   detec2\n",
       "0      30"
      ]
     },
     "execution_count": 41,
     "metadata": {},
     "output_type": "execute_result"
    }
   ],
   "source": [
    "X_new = pd.DataFrame({'detec2':[30]}) #taking the mean value (rounded to decimal)\n",
    "X_new.head()"
   ]
  },
  {
   "cell_type": "code",
   "execution_count": 42,
   "metadata": {
    "collapsed": false
   },
   "outputs": [
    {
     "data": {
      "text/plain": [
       "array([ 32.53606946])"
      ]
     },
     "execution_count": 42,
     "metadata": {},
     "output_type": "execute_result"
    }
   ],
   "source": [
    "lm.predict(X_new)"
   ]
  },
  {
   "cell_type": "markdown",
   "metadata": {},
   "source": [
    "### Plotting the trained model"
   ]
  },
  {
   "cell_type": "code",
   "execution_count": 43,
   "metadata": {
    "collapsed": false
   },
   "outputs": [
    {
     "data": {
      "text/html": [
       "<div>\n",
       "<table border=\"1\" class=\"dataframe\">\n",
       "  <thead>\n",
       "    <tr style=\"text-align: right;\">\n",
       "      <th></th>\n",
       "      <th>detec2</th>\n",
       "    </tr>\n",
       "  </thead>\n",
       "  <tbody>\n",
       "    <tr>\n",
       "      <th>0</th>\n",
       "      <td>0.000000</td>\n",
       "    </tr>\n",
       "    <tr>\n",
       "      <th>1</th>\n",
       "      <td>191.583333</td>\n",
       "    </tr>\n",
       "  </tbody>\n",
       "</table>\n",
       "</div>"
      ],
      "text/plain": [
       "       detec2\n",
       "0    0.000000\n",
       "1  191.583333"
      ]
     },
     "execution_count": 43,
     "metadata": {},
     "output_type": "execute_result"
    }
   ],
   "source": [
    "X_minmax = pd.DataFrame({'detec2': [df.detec2.min(), df.detec2.max()]})\n",
    "X_minmax.head()"
   ]
  },
  {
   "cell_type": "code",
   "execution_count": 44,
   "metadata": {
    "collapsed": false
   },
   "outputs": [
    {
     "data": {
      "text/plain": [
       "array([   3.84907785,  187.04739371])"
      ]
     },
     "execution_count": 44,
     "metadata": {},
     "output_type": "execute_result"
    }
   ],
   "source": [
    "#predict values based on the maximum and minimum value experienced.\n",
    "\n",
    "predictions = lm.predict(X_minmax)\n",
    "predictions"
   ]
  },
  {
   "cell_type": "code",
   "execution_count": 45,
   "metadata": {
    "collapsed": false
   },
   "outputs": [
    {
     "data": {
      "text/plain": [
       "[<matplotlib.lines.Line2D at 0x7fc9bcacd828>]"
      ]
     },
     "execution_count": 45,
     "metadata": {},
     "output_type": "execute_result"
    },
    {
     "data": {
      "image/png": "[encoded data removed]",
      "text/plain": [
       "<matplotlib.figure.Figure at 0x7fc9bcacd7b8>"
      ]
     },
     "metadata": {},
     "output_type": "display_data"
    }
   ],
   "source": [
    "df.plot(kind='scatter', x='detec2', y='estim_nb_ocpnts')\n",
    "plt.plot(X_minmax, predictions, c='red', linewidth=2)"
   ]
  },
  {
   "cell_type": "markdown",
   "metadata": {},
   "source": [
    "### Predict the entire data frame"
   ]
  },
  {
   "cell_type": "code",
   "execution_count": 46,
   "metadata": {
    "collapsed": false
   },
   "outputs": [],
   "source": [
    "df['prediction_lin'] = None\n",
    "\n",
    "for i in range(df.shape[0]):\n",
    "    df.set_value(i, 'prediction_lin', lm.predict({'detec2':df['detec2'][i]})[0])"
   ]
  },
  {
   "cell_type": "code",
   "execution_count": 47,
   "metadata": {
    "collapsed": false
   },
   "outputs": [
    {
     "data": {
      "text/html": [
       "<div>\n",
       "<table border=\"1\" class=\"dataframe\">\n",
       "  <thead>\n",
       "    <tr style=\"text-align: right;\">\n",
       "      <th></th>\n",
       "      <th>room</th>\n",
       "      <th>event_day</th>\n",
       "      <th>event_hour</th>\n",
       "      <th>detec1</th>\n",
       "      <th>detec2</th>\n",
       "      <th>occupancy</th>\n",
       "      <th>building</th>\n",
       "      <th>estim_nb_ocpnts</th>\n",
       "      <th>prediction_lin</th>\n",
       "    </tr>\n",
       "  </thead>\n",
       "  <tbody>\n",
       "    <tr>\n",
       "      <th>0</th>\n",
       "      <td>2</td>\n",
       "      <td>3</td>\n",
       "      <td>9</td>\n",
       "      <td>4.750000</td>\n",
       "      <td>4.666667</td>\n",
       "      <td>0.0</td>\n",
       "      <td>school of computer science</td>\n",
       "      <td>0.0</td>\n",
       "      <td>8.3115</td>\n",
       "    </tr>\n",
       "    <tr>\n",
       "      <th>1</th>\n",
       "      <td>2</td>\n",
       "      <td>3</td>\n",
       "      <td>10</td>\n",
       "      <td>29.272727</td>\n",
       "      <td>29.181818</td>\n",
       "      <td>0.5</td>\n",
       "      <td>school of computer science</td>\n",
       "      <td>45.0</td>\n",
       "      <td>31.7537</td>\n",
       "    </tr>\n",
       "    <tr>\n",
       "      <th>2</th>\n",
       "      <td>2</td>\n",
       "      <td>3</td>\n",
       "      <td>11</td>\n",
       "      <td>28.727273</td>\n",
       "      <td>28.636364</td>\n",
       "      <td>0.5</td>\n",
       "      <td>school of computer science</td>\n",
       "      <td>45.0</td>\n",
       "      <td>31.2321</td>\n",
       "    </tr>\n",
       "    <tr>\n",
       "      <th>3</th>\n",
       "      <td>2</td>\n",
       "      <td>3</td>\n",
       "      <td>12</td>\n",
       "      <td>14.166667</td>\n",
       "      <td>14.166667</td>\n",
       "      <td>0.5</td>\n",
       "      <td>school of computer science</td>\n",
       "      <td>45.0</td>\n",
       "      <td>17.3957</td>\n",
       "    </tr>\n",
       "    <tr>\n",
       "      <th>4</th>\n",
       "      <td>2</td>\n",
       "      <td>3</td>\n",
       "      <td>13</td>\n",
       "      <td>14.250000</td>\n",
       "      <td>14.166667</td>\n",
       "      <td>0.0</td>\n",
       "      <td>school of computer science</td>\n",
       "      <td>0.0</td>\n",
       "      <td>17.3957</td>\n",
       "    </tr>\n",
       "  </tbody>\n",
       "</table>\n",
       "</div>"
      ],
      "text/plain": [
       "   room  event_day  event_hour     detec1     detec2  occupancy  \\\n",
       "0     2          3           9   4.750000   4.666667        0.0   \n",
       "1     2          3          10  29.272727  29.181818        0.5   \n",
       "2     2          3          11  28.727273  28.636364        0.5   \n",
       "3     2          3          12  14.166667  14.166667        0.5   \n",
       "4     2          3          13  14.250000  14.166667        0.0   \n",
       "\n",
       "                     building  estim_nb_ocpnts prediction_lin  \n",
       "0  school of computer science              0.0         8.3115  \n",
       "1  school of computer science             45.0        31.7537  \n",
       "2  school of computer science             45.0        31.2321  \n",
       "3  school of computer science             45.0        17.3957  \n",
       "4  school of computer science              0.0        17.3957  "
      ]
     },
     "execution_count": 47,
     "metadata": {},
     "output_type": "execute_result"
    }
   ],
   "source": [
    "df.head()"
   ]
  },
  {
   "cell_type": "code",
   "execution_count": 48,
   "metadata": {
    "collapsed": false
   },
   "outputs": [],
   "source": [
    "df['prediction_lin_cat'] = None\n",
    "\n",
    "def set_occupancy_category(prediction, max_room_capacity):\n",
    "    '''set the occupancy category (0.0, 0.25, 0.50, 0,75, 1.0)\n",
    "    \n",
    "    Parameters\n",
    "    ----------\n",
    "    prediction: a float or integer; the predicted number.\n",
    "    max_room_capacity: an integer; max capacity of the room\n",
    "    \n",
    "    Returns\n",
    "    ---------\n",
    "    The prediction catgeory e.g. 0.0, 0.25, 0.50, 0,75, or 1.0\n",
    "    '''\n",
    "    ratio = prediction / max_room_capacity\n",
    "    if ratio < 0.13:\n",
    "        return 0.0\n",
    "    elif ratio < 0.38:\n",
    "        return 0.25\n",
    "    elif ratio < 0.63:\n",
    "        return 0.50\n",
    "    elif ratio < 0.88:\n",
    "        return 0.75\n",
    "    else:\n",
    "        return 1.0\n",
    "    \n",
    "\n",
    "for i in range(df.shape[0]):\n",
    "    if df['room'][i] == 2 or df['room'][i] == 3:\n",
    "        df.set_value(i, 'prediction_lin_cat', \n",
    "                     set_occupancy_category(df['prediction_lin'][i], max_occupancy_b002_b003))\n",
    "    elif df['room'][i] == 4:\n",
    "        df.set_value(i, 'prediction_lin_cat', \n",
    "                     set_occupancy_category(df['prediction_lin'][i], max_occupancy_b004))\n",
    "        \n",
    "        "
   ]
  },
  {
   "cell_type": "code",
   "execution_count": 49,
   "metadata": {
    "collapsed": false
   },
   "outputs": [
    {
     "data": {
      "text/html": [
       "<div>\n",
       "<table border=\"1\" class=\"dataframe\">\n",
       "  <thead>\n",
       "    <tr style=\"text-align: right;\">\n",
       "      <th></th>\n",
       "      <th>room</th>\n",
       "      <th>event_day</th>\n",
       "      <th>event_hour</th>\n",
       "      <th>detec1</th>\n",
       "      <th>detec2</th>\n",
       "      <th>occupancy</th>\n",
       "      <th>building</th>\n",
       "      <th>estim_nb_ocpnts</th>\n",
       "      <th>prediction_lin</th>\n",
       "      <th>prediction_lin_cat</th>\n",
       "    </tr>\n",
       "  </thead>\n",
       "  <tbody>\n",
       "    <tr>\n",
       "      <th>0</th>\n",
       "      <td>2</td>\n",
       "      <td>3</td>\n",
       "      <td>9</td>\n",
       "      <td>4.750000</td>\n",
       "      <td>4.666667</td>\n",
       "      <td>0.0</td>\n",
       "      <td>school of computer science</td>\n",
       "      <td>0.0</td>\n",
       "      <td>8.3115</td>\n",
       "      <td>0</td>\n",
       "    </tr>\n",
       "    <tr>\n",
       "      <th>1</th>\n",
       "      <td>2</td>\n",
       "      <td>3</td>\n",
       "      <td>10</td>\n",
       "      <td>29.272727</td>\n",
       "      <td>29.181818</td>\n",
       "      <td>0.5</td>\n",
       "      <td>school of computer science</td>\n",
       "      <td>45.0</td>\n",
       "      <td>31.7537</td>\n",
       "      <td>0.25</td>\n",
       "    </tr>\n",
       "    <tr>\n",
       "      <th>2</th>\n",
       "      <td>2</td>\n",
       "      <td>3</td>\n",
       "      <td>11</td>\n",
       "      <td>28.727273</td>\n",
       "      <td>28.636364</td>\n",
       "      <td>0.5</td>\n",
       "      <td>school of computer science</td>\n",
       "      <td>45.0</td>\n",
       "      <td>31.2321</td>\n",
       "      <td>0.25</td>\n",
       "    </tr>\n",
       "    <tr>\n",
       "      <th>3</th>\n",
       "      <td>2</td>\n",
       "      <td>3</td>\n",
       "      <td>12</td>\n",
       "      <td>14.166667</td>\n",
       "      <td>14.166667</td>\n",
       "      <td>0.5</td>\n",
       "      <td>school of computer science</td>\n",
       "      <td>45.0</td>\n",
       "      <td>17.3957</td>\n",
       "      <td>0.25</td>\n",
       "    </tr>\n",
       "    <tr>\n",
       "      <th>4</th>\n",
       "      <td>2</td>\n",
       "      <td>3</td>\n",
       "      <td>13</td>\n",
       "      <td>14.250000</td>\n",
       "      <td>14.166667</td>\n",
       "      <td>0.0</td>\n",
       "      <td>school of computer science</td>\n",
       "      <td>0.0</td>\n",
       "      <td>17.3957</td>\n",
       "      <td>0.25</td>\n",
       "    </tr>\n",
       "  </tbody>\n",
       "</table>\n",
       "</div>"
      ],
      "text/plain": [
       "   room  event_day  event_hour     detec1     detec2  occupancy  \\\n",
       "0     2          3           9   4.750000   4.666667        0.0   \n",
       "1     2          3          10  29.272727  29.181818        0.5   \n",
       "2     2          3          11  28.727273  28.636364        0.5   \n",
       "3     2          3          12  14.166667  14.166667        0.5   \n",
       "4     2          3          13  14.250000  14.166667        0.0   \n",
       "\n",
       "                     building  estim_nb_ocpnts prediction_lin  \\\n",
       "0  school of computer science              0.0         8.3115   \n",
       "1  school of computer science             45.0        31.7537   \n",
       "2  school of computer science             45.0        31.2321   \n",
       "3  school of computer science             45.0        17.3957   \n",
       "4  school of computer science              0.0        17.3957   \n",
       "\n",
       "  prediction_lin_cat  \n",
       "0                  0  \n",
       "1               0.25  \n",
       "2               0.25  \n",
       "3               0.25  \n",
       "4               0.25  "
      ]
     },
     "execution_count": 49,
     "metadata": {},
     "output_type": "execute_result"
    }
   ],
   "source": [
    "df.head()"
   ]
  },
  {
   "cell_type": "code",
   "execution_count": 50,
   "metadata": {
    "collapsed": false
   },
   "outputs": [],
   "source": [
    "df['prediction_lin_cat'] = df['prediction_lin_cat'].astype(float)"
   ]
  },
  {
   "cell_type": "code",
   "execution_count": 51,
   "metadata": {
    "collapsed": false
   },
   "outputs": [],
   "source": [
    "df['accurate'] = None\n",
    "\n",
    "for i in range(df.shape[0]):\n",
    "    df.set_value(i, 'accurate', 1 if df['occupancy'][i] == df['prediction_lin_cat'][i] else 0)"
   ]
  },
  {
   "cell_type": "code",
   "execution_count": 52,
   "metadata": {
    "collapsed": false
   },
   "outputs": [
    {
     "data": {
      "text/html": [
       "<div>\n",
       "<table border=\"1\" class=\"dataframe\">\n",
       "  <thead>\n",
       "    <tr style=\"text-align: right;\">\n",
       "      <th></th>\n",
       "      <th>room</th>\n",
       "      <th>event_day</th>\n",
       "      <th>event_hour</th>\n",
       "      <th>detec1</th>\n",
       "      <th>detec2</th>\n",
       "      <th>occupancy</th>\n",
       "      <th>building</th>\n",
       "      <th>estim_nb_ocpnts</th>\n",
       "      <th>prediction_lin</th>\n",
       "      <th>prediction_lin_cat</th>\n",
       "      <th>accurate</th>\n",
       "    </tr>\n",
       "  </thead>\n",
       "  <tbody>\n",
       "    <tr>\n",
       "      <th>0</th>\n",
       "      <td>2</td>\n",
       "      <td>3</td>\n",
       "      <td>9</td>\n",
       "      <td>4.750000</td>\n",
       "      <td>4.666667</td>\n",
       "      <td>0.0</td>\n",
       "      <td>school of computer science</td>\n",
       "      <td>0.0</td>\n",
       "      <td>8.3115</td>\n",
       "      <td>0.00</td>\n",
       "      <td>1</td>\n",
       "    </tr>\n",
       "    <tr>\n",
       "      <th>1</th>\n",
       "      <td>2</td>\n",
       "      <td>3</td>\n",
       "      <td>10</td>\n",
       "      <td>29.272727</td>\n",
       "      <td>29.181818</td>\n",
       "      <td>0.5</td>\n",
       "      <td>school of computer science</td>\n",
       "      <td>45.0</td>\n",
       "      <td>31.7537</td>\n",
       "      <td>0.25</td>\n",
       "      <td>0</td>\n",
       "    </tr>\n",
       "    <tr>\n",
       "      <th>2</th>\n",
       "      <td>2</td>\n",
       "      <td>3</td>\n",
       "      <td>11</td>\n",
       "      <td>28.727273</td>\n",
       "      <td>28.636364</td>\n",
       "      <td>0.5</td>\n",
       "      <td>school of computer science</td>\n",
       "      <td>45.0</td>\n",
       "      <td>31.2321</td>\n",
       "      <td>0.25</td>\n",
       "      <td>0</td>\n",
       "    </tr>\n",
       "    <tr>\n",
       "      <th>3</th>\n",
       "      <td>2</td>\n",
       "      <td>3</td>\n",
       "      <td>12</td>\n",
       "      <td>14.166667</td>\n",
       "      <td>14.166667</td>\n",
       "      <td>0.5</td>\n",
       "      <td>school of computer science</td>\n",
       "      <td>45.0</td>\n",
       "      <td>17.3957</td>\n",
       "      <td>0.25</td>\n",
       "      <td>0</td>\n",
       "    </tr>\n",
       "    <tr>\n",
       "      <th>4</th>\n",
       "      <td>2</td>\n",
       "      <td>3</td>\n",
       "      <td>13</td>\n",
       "      <td>14.250000</td>\n",
       "      <td>14.166667</td>\n",
       "      <td>0.0</td>\n",
       "      <td>school of computer science</td>\n",
       "      <td>0.0</td>\n",
       "      <td>17.3957</td>\n",
       "      <td>0.25</td>\n",
       "      <td>0</td>\n",
       "    </tr>\n",
       "  </tbody>\n",
       "</table>\n",
       "</div>"
      ],
      "text/plain": [
       "   room  event_day  event_hour     detec1     detec2  occupancy  \\\n",
       "0     2          3           9   4.750000   4.666667        0.0   \n",
       "1     2          3          10  29.272727  29.181818        0.5   \n",
       "2     2          3          11  28.727273  28.636364        0.5   \n",
       "3     2          3          12  14.166667  14.166667        0.5   \n",
       "4     2          3          13  14.250000  14.166667        0.0   \n",
       "\n",
       "                     building  estim_nb_ocpnts prediction_lin  \\\n",
       "0  school of computer science              0.0         8.3115   \n",
       "1  school of computer science             45.0        31.7537   \n",
       "2  school of computer science             45.0        31.2321   \n",
       "3  school of computer science             45.0        17.3957   \n",
       "4  school of computer science              0.0        17.3957   \n",
       "\n",
       "   prediction_lin_cat accurate  \n",
       "0                0.00        1  \n",
       "1                0.25        0  \n",
       "2                0.25        0  \n",
       "3                0.25        0  \n",
       "4                0.25        0  "
      ]
     },
     "execution_count": 52,
     "metadata": {},
     "output_type": "execute_result"
    }
   ],
   "source": [
    "df.head()"
   ]
  },
  {
   "cell_type": "code",
   "execution_count": 53,
   "metadata": {
    "collapsed": false
   },
   "outputs": [],
   "source": [
    "df['accurate'] = df['accurate'].astype(int)"
   ]
  },
  {
   "cell_type": "code",
   "execution_count": 54,
   "metadata": {
    "collapsed": false
   },
   "outputs": [],
   "source": [
    "nb_accurate_pred = df['accurate'].sum()"
   ]
  },
  {
   "cell_type": "code",
   "execution_count": 55,
   "metadata": {
    "collapsed": false
   },
   "outputs": [
    {
     "data": {
      "text/plain": [
       "0.57870370370370372"
      ]
     },
     "execution_count": 55,
     "metadata": {},
     "output_type": "execute_result"
    }
   ],
   "source": [
    "nb_accurate_pred / df.shape[0]"
   ]
  }
 ],
 "metadata": {
  "kernelspec": {
   "display_name": "Python 3",
   "language": "python",
   "name": "python3"
  },
  "language_info": {
   "codemirror_mode": {
    "name": "ipython",
    "version": 3
   },
   "file_extension": ".py",
   "mimetype": "text/x-python",
   "name": "python",
   "nbconvert_exporter": "python",
   "pygments_lexer": "ipython3",
   "version": "3.5.1+"
  }
 },
 "nbformat": 4,
 "nbformat_minor": 0
}
