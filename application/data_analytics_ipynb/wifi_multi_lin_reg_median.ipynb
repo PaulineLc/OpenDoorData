{
 "cells": [
  {
   "cell_type": "markdown",
   "metadata": {},
   "source": [
    "# Research Practicum"
   ]
  },
  {
   "cell_type": "markdown",
   "metadata": {},
   "source": [
    "This notebook contains a model which uses the max value per hour per day per room."
   ]
  },
  {
   "cell_type": "markdown",
   "metadata": {},
   "source": [
    "<b> GET DATA </b>"
   ]
  },
  {
   "cell_type": "code",
   "execution_count": 109,
   "metadata": {
    "collapsed": true
   },
   "outputs": [],
   "source": [
    "#import pandas package to read and merge csv files\n",
    "import pandas as pd\n",
    "#import csv package for reading from and writing to csv files\n",
    "import csv\n",
    "# Import package numpy for numeric computing\n",
    "import numpy as np\n",
    "# Import package matplotlib for visualisation/plotting\n",
    "import matplotlib.pyplot as plt\n",
    "%matplotlib inline"
   ]
  },
  {
   "cell_type": "markdown",
   "metadata": {},
   "source": [
    "# Get wifi logs data"
   ]
  },
  {
   "cell_type": "code",
   "execution_count": 110,
   "metadata": {
    "collapsed": false
   },
   "outputs": [
    {
     "name": "stdout",
     "output_type": "stream",
     "text": [
      "../cleaned_data/full.csv\n"
     ]
    }
   ],
   "source": [
    "# read data from csv file into a data frame\n",
    "# code is now OS agnostic\n",
    "\n",
    "import os\n",
    "\n",
    "a = '..' # removed slash\n",
    "b = 'cleaned_data' # removed slash\n",
    "c = 'full.csv'\n",
    "\n",
    "print(os.path.join(a, b, c))\n",
    "\n",
    "wifi_df = pd.read_csv(os.path.join(a, b, c), names=['room', 'event_time', 'ass', 'auth'])"
   ]
  },
  {
   "cell_type": "code",
   "execution_count": 111,
   "metadata": {
    "collapsed": false
   },
   "outputs": [
    {
     "data": {
      "text/html": [
       "<div>\n",
       "<table border=\"1\" class=\"dataframe\">\n",
       "  <thead>\n",
       "    <tr style=\"text-align: right;\">\n",
       "      <th></th>\n",
       "      <th>room</th>\n",
       "      <th>event_time</th>\n",
       "      <th>ass</th>\n",
       "      <th>auth</th>\n",
       "    </tr>\n",
       "  </thead>\n",
       "  <tbody>\n",
       "    <tr>\n",
       "      <th>0</th>\n",
       "      <td>Belfield &gt; Computer Science &gt; B-002</td>\n",
       "      <td>Mon Nov 02 20:32:06 GMT+00:00 2015</td>\n",
       "      <td>0</td>\n",
       "      <td>0</td>\n",
       "    </tr>\n",
       "    <tr>\n",
       "      <th>1</th>\n",
       "      <td>Belfield &gt; Computer Science &gt; B-002</td>\n",
       "      <td>Mon Nov 02 20:37:10 GMT+00:00 2015</td>\n",
       "      <td>0</td>\n",
       "      <td>0</td>\n",
       "    </tr>\n",
       "    <tr>\n",
       "      <th>2</th>\n",
       "      <td>Belfield &gt; Computer Science &gt; B-002</td>\n",
       "      <td>Mon Nov 02 20:42:12 GMT+00:00 2015</td>\n",
       "      <td>0</td>\n",
       "      <td>0</td>\n",
       "    </tr>\n",
       "    <tr>\n",
       "      <th>3</th>\n",
       "      <td>Belfield &gt; Computer Science &gt; B-002</td>\n",
       "      <td>Mon Nov 02 20:47:14 GMT+00:00 2015</td>\n",
       "      <td>0</td>\n",
       "      <td>0</td>\n",
       "    </tr>\n",
       "    <tr>\n",
       "      <th>4</th>\n",
       "      <td>Belfield &gt; Computer Science &gt; B-002</td>\n",
       "      <td>Mon Nov 02 20:52:11 GMT+00:00 2015</td>\n",
       "      <td>0</td>\n",
       "      <td>0</td>\n",
       "    </tr>\n",
       "  </tbody>\n",
       "</table>\n",
       "</div>"
      ],
      "text/plain": [
       "                                  room                          event_time  \\\n",
       "0  Belfield > Computer Science > B-002  Mon Nov 02 20:32:06 GMT+00:00 2015   \n",
       "1  Belfield > Computer Science > B-002  Mon Nov 02 20:37:10 GMT+00:00 2015   \n",
       "2  Belfield > Computer Science > B-002  Mon Nov 02 20:42:12 GMT+00:00 2015   \n",
       "3  Belfield > Computer Science > B-002  Mon Nov 02 20:47:14 GMT+00:00 2015   \n",
       "4  Belfield > Computer Science > B-002  Mon Nov 02 20:52:11 GMT+00:00 2015   \n",
       "\n",
       "   ass  auth  \n",
       "0    0     0  \n",
       "1    0     0  \n",
       "2    0     0  \n",
       "3    0     0  \n",
       "4    0     0  "
      ]
     },
     "execution_count": 111,
     "metadata": {},
     "output_type": "execute_result"
    }
   ],
   "source": [
    "# check data loaded into data frame correctly\n",
    "wifi_df.head()"
   ]
  },
  {
   "cell_type": "code",
   "execution_count": 112,
   "metadata": {
    "collapsed": false
   },
   "outputs": [
    {
     "data": {
      "text/html": [
       "<div>\n",
       "<table border=\"1\" class=\"dataframe\">\n",
       "  <thead>\n",
       "    <tr style=\"text-align: right;\">\n",
       "      <th></th>\n",
       "      <th>room</th>\n",
       "      <th>event_time</th>\n",
       "      <th>ass</th>\n",
       "      <th>auth</th>\n",
       "    </tr>\n",
       "  </thead>\n",
       "  <tbody>\n",
       "    <tr>\n",
       "      <th>12412</th>\n",
       "      <td>Belfield &gt; Computer Science &gt; B-004</td>\n",
       "      <td>Tue Nov 17 11:01:59 GMT+00:00 2015</td>\n",
       "      <td>18</td>\n",
       "      <td>18</td>\n",
       "    </tr>\n",
       "    <tr>\n",
       "      <th>12413</th>\n",
       "      <td>Belfield &gt; Computer Science &gt; B-004</td>\n",
       "      <td>Tue Nov 17 11:06:37 GMT+00:00 2015</td>\n",
       "      <td>32</td>\n",
       "      <td>32</td>\n",
       "    </tr>\n",
       "    <tr>\n",
       "      <th>12414</th>\n",
       "      <td>Belfield &gt; Computer Science &gt; B-004</td>\n",
       "      <td>Tue Nov 17 11:13:19 GMT+00:00 2015</td>\n",
       "      <td>39</td>\n",
       "      <td>39</td>\n",
       "    </tr>\n",
       "    <tr>\n",
       "      <th>12415</th>\n",
       "      <td>Belfield &gt; Computer Science &gt; B-004</td>\n",
       "      <td>Tue Nov 17 11:21:11 GMT+00:00 2015</td>\n",
       "      <td>42</td>\n",
       "      <td>42</td>\n",
       "    </tr>\n",
       "    <tr>\n",
       "      <th>12416</th>\n",
       "      <td>Belfield &gt; Computer Science &gt; B-004</td>\n",
       "      <td>Tue Nov 17 11:26:07 GMT+00:00 2015</td>\n",
       "      <td>46</td>\n",
       "      <td>46</td>\n",
       "    </tr>\n",
       "  </tbody>\n",
       "</table>\n",
       "</div>"
      ],
      "text/plain": [
       "                                      room  \\\n",
       "12412  Belfield > Computer Science > B-004   \n",
       "12413  Belfield > Computer Science > B-004   \n",
       "12414  Belfield > Computer Science > B-004   \n",
       "12415  Belfield > Computer Science > B-004   \n",
       "12416  Belfield > Computer Science > B-004   \n",
       "\n",
       "                               event_time  ass  auth  \n",
       "12412  Tue Nov 17 11:01:59 GMT+00:00 2015   18    18  \n",
       "12413  Tue Nov 17 11:06:37 GMT+00:00 2015   32    32  \n",
       "12414  Tue Nov 17 11:13:19 GMT+00:00 2015   39    39  \n",
       "12415  Tue Nov 17 11:21:11 GMT+00:00 2015   42    42  \n",
       "12416  Tue Nov 17 11:26:07 GMT+00:00 2015   46    46  "
      ]
     },
     "execution_count": 112,
     "metadata": {},
     "output_type": "execute_result"
    }
   ],
   "source": [
    "# check data loaded into data frame correctly\n",
    "wifi_df.tail()"
   ]
  },
  {
   "cell_type": "markdown",
   "metadata": {},
   "source": [
    "<b> CLEAN DATA </b>"
   ]
  },
  {
   "cell_type": "markdown",
   "metadata": {},
   "source": [
    "Convert timestamp to epoch time."
   ]
  },
  {
   "cell_type": "code",
   "execution_count": 113,
   "metadata": {
    "collapsed": false
   },
   "outputs": [],
   "source": [
    "import time\n",
    "from dateutil.parser import parse\n",
    "\n",
    "def convert_to_epoch(df, column):\n",
    "    '''function that reads in a dataframe with a column containing values in timestamp format and converts those values to epoch forma\n",
    "   \n",
    "    requires module time and parse function from dateutil.parser\n",
    "    \n",
    "    paramaters\n",
    "    ----------\n",
    "    df is a dataframe\n",
    "    column is a string that denotes the name of the column containing value in timestamp format\n",
    "    '''\n",
    "    \n",
    "    #for loop that iterates through each row in the dataframe\n",
    "    for i in range(df.shape[0]):\n",
    "        # variable 'x' is assigned the value from the column and row 'i'\n",
    "        x = df[column][i]\n",
    "        # variable 'y' is assigned the result of variable 'x' passed through the parse method \n",
    "        y = parse(x)\n",
    "        # variable 'epoch' is assigned 'y' value converted to epoch time\n",
    "        epoch = int(time.mktime(y.timetuple()))\n",
    "        # set column value to value of variable 'epoch'\n",
    "        df.set_value(i, column, epoch)\n",
    "    return df"
   ]
  },
  {
   "cell_type": "code",
   "execution_count": 114,
   "metadata": {
    "collapsed": false
   },
   "outputs": [
    {
     "data": {
      "text/html": [
       "<div>\n",
       "<table border=\"1\" class=\"dataframe\">\n",
       "  <thead>\n",
       "    <tr style=\"text-align: right;\">\n",
       "      <th></th>\n",
       "      <th>room</th>\n",
       "      <th>event_time</th>\n",
       "      <th>ass</th>\n",
       "      <th>auth</th>\n",
       "    </tr>\n",
       "  </thead>\n",
       "  <tbody>\n",
       "    <tr>\n",
       "      <th>0</th>\n",
       "      <td>Belfield &gt; Computer Science &gt; B-002</td>\n",
       "      <td>1446496326</td>\n",
       "      <td>0</td>\n",
       "      <td>0</td>\n",
       "    </tr>\n",
       "    <tr>\n",
       "      <th>1</th>\n",
       "      <td>Belfield &gt; Computer Science &gt; B-002</td>\n",
       "      <td>1446496630</td>\n",
       "      <td>0</td>\n",
       "      <td>0</td>\n",
       "    </tr>\n",
       "    <tr>\n",
       "      <th>2</th>\n",
       "      <td>Belfield &gt; Computer Science &gt; B-002</td>\n",
       "      <td>1446496932</td>\n",
       "      <td>0</td>\n",
       "      <td>0</td>\n",
       "    </tr>\n",
       "    <tr>\n",
       "      <th>3</th>\n",
       "      <td>Belfield &gt; Computer Science &gt; B-002</td>\n",
       "      <td>1446497234</td>\n",
       "      <td>0</td>\n",
       "      <td>0</td>\n",
       "    </tr>\n",
       "    <tr>\n",
       "      <th>4</th>\n",
       "      <td>Belfield &gt; Computer Science &gt; B-002</td>\n",
       "      <td>1446497531</td>\n",
       "      <td>0</td>\n",
       "      <td>0</td>\n",
       "    </tr>\n",
       "  </tbody>\n",
       "</table>\n",
       "</div>"
      ],
      "text/plain": [
       "                                  room  event_time  ass  auth\n",
       "0  Belfield > Computer Science > B-002  1446496326    0     0\n",
       "1  Belfield > Computer Science > B-002  1446496630    0     0\n",
       "2  Belfield > Computer Science > B-002  1446496932    0     0\n",
       "3  Belfield > Computer Science > B-002  1446497234    0     0\n",
       "4  Belfield > Computer Science > B-002  1446497531    0     0"
      ]
     },
     "execution_count": 114,
     "metadata": {},
     "output_type": "execute_result"
    }
   ],
   "source": [
    "convert_to_epoch(wifi_df, 'event_time').head()"
   ]
  },
  {
   "cell_type": "markdown",
   "metadata": {},
   "source": [
    "Clean Room Identifiers"
   ]
  },
  {
   "cell_type": "code",
   "execution_count": 115,
   "metadata": {
    "collapsed": true
   },
   "outputs": [],
   "source": [
    "def room_number(df, room_column):\n",
    "    '''function that reads in a dataframe with a column containing room information in the format 'campus > building > roomcode-xxx' \n",
    "    and replaces the values in the column with just the room ID which is the last character of the string in that column.    \n",
    "    '''\n",
    "    # for loop that iterates through each row in the df\n",
    "    for i in range(df.shape[0]):\n",
    "        # selects last character of the string in the room_column which is the room ID\n",
    "        df.set_value(i, room_column, df[room_column][i][-1:])\n",
    "    return df"
   ]
  },
  {
   "cell_type": "code",
   "execution_count": 116,
   "metadata": {
    "collapsed": false
   },
   "outputs": [
    {
     "data": {
      "text/html": [
       "<div>\n",
       "<table border=\"1\" class=\"dataframe\">\n",
       "  <thead>\n",
       "    <tr style=\"text-align: right;\">\n",
       "      <th></th>\n",
       "      <th>room</th>\n",
       "      <th>event_time</th>\n",
       "      <th>ass</th>\n",
       "      <th>auth</th>\n",
       "    </tr>\n",
       "  </thead>\n",
       "  <tbody>\n",
       "    <tr>\n",
       "      <th>0</th>\n",
       "      <td>2</td>\n",
       "      <td>1446496326</td>\n",
       "      <td>0</td>\n",
       "      <td>0</td>\n",
       "    </tr>\n",
       "    <tr>\n",
       "      <th>1</th>\n",
       "      <td>2</td>\n",
       "      <td>1446496630</td>\n",
       "      <td>0</td>\n",
       "      <td>0</td>\n",
       "    </tr>\n",
       "    <tr>\n",
       "      <th>2</th>\n",
       "      <td>2</td>\n",
       "      <td>1446496932</td>\n",
       "      <td>0</td>\n",
       "      <td>0</td>\n",
       "    </tr>\n",
       "    <tr>\n",
       "      <th>3</th>\n",
       "      <td>2</td>\n",
       "      <td>1446497234</td>\n",
       "      <td>0</td>\n",
       "      <td>0</td>\n",
       "    </tr>\n",
       "    <tr>\n",
       "      <th>4</th>\n",
       "      <td>2</td>\n",
       "      <td>1446497531</td>\n",
       "      <td>0</td>\n",
       "      <td>0</td>\n",
       "    </tr>\n",
       "  </tbody>\n",
       "</table>\n",
       "</div>"
      ],
      "text/plain": [
       "  room  event_time  ass  auth\n",
       "0    2  1446496326    0     0\n",
       "1    2  1446496630    0     0\n",
       "2    2  1446496932    0     0\n",
       "3    2  1446497234    0     0\n",
       "4    2  1446497531    0     0"
      ]
     },
     "execution_count": 116,
     "metadata": {},
     "output_type": "execute_result"
    }
   ],
   "source": [
    "room_number(wifi_df, 'room').head()"
   ]
  },
  {
   "cell_type": "markdown",
   "metadata": {},
   "source": [
    "Add building."
   ]
  },
  {
   "cell_type": "code",
   "execution_count": 117,
   "metadata": {
    "collapsed": true
   },
   "outputs": [],
   "source": [
    "wifi_df['building'] = 'school of computer science'"
   ]
  },
  {
   "cell_type": "code",
   "execution_count": 118,
   "metadata": {
    "collapsed": false
   },
   "outputs": [
    {
     "data": {
      "text/html": [
       "<div>\n",
       "<table border=\"1\" class=\"dataframe\">\n",
       "  <thead>\n",
       "    <tr style=\"text-align: right;\">\n",
       "      <th></th>\n",
       "      <th>room</th>\n",
       "      <th>event_time</th>\n",
       "      <th>ass</th>\n",
       "      <th>auth</th>\n",
       "      <th>building</th>\n",
       "    </tr>\n",
       "  </thead>\n",
       "  <tbody>\n",
       "    <tr>\n",
       "      <th>0</th>\n",
       "      <td>2</td>\n",
       "      <td>1446496326</td>\n",
       "      <td>0</td>\n",
       "      <td>0</td>\n",
       "      <td>school of computer science</td>\n",
       "    </tr>\n",
       "    <tr>\n",
       "      <th>1</th>\n",
       "      <td>2</td>\n",
       "      <td>1446496630</td>\n",
       "      <td>0</td>\n",
       "      <td>0</td>\n",
       "      <td>school of computer science</td>\n",
       "    </tr>\n",
       "    <tr>\n",
       "      <th>2</th>\n",
       "      <td>2</td>\n",
       "      <td>1446496932</td>\n",
       "      <td>0</td>\n",
       "      <td>0</td>\n",
       "      <td>school of computer science</td>\n",
       "    </tr>\n",
       "    <tr>\n",
       "      <th>3</th>\n",
       "      <td>2</td>\n",
       "      <td>1446497234</td>\n",
       "      <td>0</td>\n",
       "      <td>0</td>\n",
       "      <td>school of computer science</td>\n",
       "    </tr>\n",
       "    <tr>\n",
       "      <th>4</th>\n",
       "      <td>2</td>\n",
       "      <td>1446497531</td>\n",
       "      <td>0</td>\n",
       "      <td>0</td>\n",
       "      <td>school of computer science</td>\n",
       "    </tr>\n",
       "  </tbody>\n",
       "</table>\n",
       "</div>"
      ],
      "text/plain": [
       "  room  event_time  ass  auth                    building\n",
       "0    2  1446496326    0     0  school of computer science\n",
       "1    2  1446496630    0     0  school of computer science\n",
       "2    2  1446496932    0     0  school of computer science\n",
       "3    2  1446497234    0     0  school of computer science\n",
       "4    2  1446497531    0     0  school of computer science"
      ]
     },
     "execution_count": 118,
     "metadata": {},
     "output_type": "execute_result"
    }
   ],
   "source": [
    "wifi_df.head()"
   ]
  },
  {
   "cell_type": "markdown",
   "metadata": {},
   "source": [
    "# Get occupancy data"
   ]
  },
  {
   "cell_type": "code",
   "execution_count": 119,
   "metadata": {
    "collapsed": false
   },
   "outputs": [
    {
     "name": "stdout",
     "output_type": "stream",
     "text": [
      "../cleaned_data/survey_data.csv\n"
     ]
    }
   ],
   "source": [
    "# put survey data in a dataframe\n",
    "\n",
    "a = '..' # removed slash\n",
    "b = 'cleaned_data' # removed slash\n",
    "c = 'survey_data.csv'\n",
    "\n",
    "print(os.path.join(a, b, c))\n",
    "\n",
    "occupancy_df = pd.read_csv(os.path.join(a, b, c))"
   ]
  },
  {
   "cell_type": "code",
   "execution_count": 120,
   "metadata": {
    "collapsed": false
   },
   "outputs": [
    {
     "data": {
      "text/html": [
       "<div>\n",
       "<table border=\"1\" class=\"dataframe\">\n",
       "  <thead>\n",
       "    <tr style=\"text-align: right;\">\n",
       "      <th></th>\n",
       "      <th>Unnamed: 0</th>\n",
       "      <th>room</th>\n",
       "      <th>event_time</th>\n",
       "      <th>occupancy</th>\n",
       "      <th>building</th>\n",
       "    </tr>\n",
       "  </thead>\n",
       "  <tbody>\n",
       "    <tr>\n",
       "      <th>0</th>\n",
       "      <td>0</td>\n",
       "      <td>4</td>\n",
       "      <td>1446454800</td>\n",
       "      <td>0.25</td>\n",
       "      <td>school of computer science</td>\n",
       "    </tr>\n",
       "    <tr>\n",
       "      <th>1</th>\n",
       "      <td>1</td>\n",
       "      <td>2</td>\n",
       "      <td>1446454800</td>\n",
       "      <td>0.25</td>\n",
       "      <td>school of computer science</td>\n",
       "    </tr>\n",
       "    <tr>\n",
       "      <th>2</th>\n",
       "      <td>2</td>\n",
       "      <td>3</td>\n",
       "      <td>1446454800</td>\n",
       "      <td>0.25</td>\n",
       "      <td>school of computer science</td>\n",
       "    </tr>\n",
       "    <tr>\n",
       "      <th>3</th>\n",
       "      <td>3</td>\n",
       "      <td>4</td>\n",
       "      <td>1446458400</td>\n",
       "      <td>0.50</td>\n",
       "      <td>school of computer science</td>\n",
       "    </tr>\n",
       "    <tr>\n",
       "      <th>4</th>\n",
       "      <td>4</td>\n",
       "      <td>2</td>\n",
       "      <td>1446458400</td>\n",
       "      <td>0.50</td>\n",
       "      <td>school of computer science</td>\n",
       "    </tr>\n",
       "  </tbody>\n",
       "</table>\n",
       "</div>"
      ],
      "text/plain": [
       "   Unnamed: 0  room  event_time  occupancy                    building\n",
       "0           0     4  1446454800       0.25  school of computer science\n",
       "1           1     2  1446454800       0.25  school of computer science\n",
       "2           2     3  1446454800       0.25  school of computer science\n",
       "3           3     4  1446458400       0.50  school of computer science\n",
       "4           4     2  1446458400       0.50  school of computer science"
      ]
     },
     "execution_count": 120,
     "metadata": {},
     "output_type": "execute_result"
    }
   ],
   "source": [
    "occupancy_df.head()"
   ]
  },
  {
   "cell_type": "code",
   "execution_count": 121,
   "metadata": {
    "collapsed": false
   },
   "outputs": [],
   "source": [
    "# delete column 'Unnamed: 0'\n",
    "del occupancy_df['Unnamed: 0']"
   ]
  },
  {
   "cell_type": "code",
   "execution_count": 122,
   "metadata": {
    "collapsed": false
   },
   "outputs": [
    {
     "data": {
      "text/html": [
       "<div>\n",
       "<table border=\"1\" class=\"dataframe\">\n",
       "  <thead>\n",
       "    <tr style=\"text-align: right;\">\n",
       "      <th></th>\n",
       "      <th>room</th>\n",
       "      <th>event_time</th>\n",
       "      <th>occupancy</th>\n",
       "      <th>building</th>\n",
       "    </tr>\n",
       "  </thead>\n",
       "  <tbody>\n",
       "    <tr>\n",
       "      <th>0</th>\n",
       "      <td>4</td>\n",
       "      <td>1446454800</td>\n",
       "      <td>0.25</td>\n",
       "      <td>school of computer science</td>\n",
       "    </tr>\n",
       "    <tr>\n",
       "      <th>1</th>\n",
       "      <td>2</td>\n",
       "      <td>1446454800</td>\n",
       "      <td>0.25</td>\n",
       "      <td>school of computer science</td>\n",
       "    </tr>\n",
       "    <tr>\n",
       "      <th>2</th>\n",
       "      <td>3</td>\n",
       "      <td>1446454800</td>\n",
       "      <td>0.25</td>\n",
       "      <td>school of computer science</td>\n",
       "    </tr>\n",
       "    <tr>\n",
       "      <th>3</th>\n",
       "      <td>4</td>\n",
       "      <td>1446458400</td>\n",
       "      <td>0.50</td>\n",
       "      <td>school of computer science</td>\n",
       "    </tr>\n",
       "    <tr>\n",
       "      <th>4</th>\n",
       "      <td>2</td>\n",
       "      <td>1446458400</td>\n",
       "      <td>0.50</td>\n",
       "      <td>school of computer science</td>\n",
       "    </tr>\n",
       "  </tbody>\n",
       "</table>\n",
       "</div>"
      ],
      "text/plain": [
       "   room  event_time  occupancy                    building\n",
       "0     4  1446454800       0.25  school of computer science\n",
       "1     2  1446454800       0.25  school of computer science\n",
       "2     3  1446454800       0.25  school of computer science\n",
       "3     4  1446458400       0.50  school of computer science\n",
       "4     2  1446458400       0.50  school of computer science"
      ]
     },
     "execution_count": 122,
     "metadata": {},
     "output_type": "execute_result"
    }
   ],
   "source": [
    "occupancy_df.head()"
   ]
  },
  {
   "cell_type": "markdown",
   "metadata": {},
   "source": [
    "Convert EPCOH time into human-readable format."
   ]
  },
  {
   "cell_type": "code",
   "execution_count": 123,
   "metadata": {
    "collapsed": false
   },
   "outputs": [],
   "source": [
    "# convert 'event_time' values from EPOCH to DATETIME\n",
    "wifi_df['event_time'] = pd.to_datetime(wifi_df.event_time, unit='s')\n",
    "# use event_time as dataframe index \n",
    "wifi_df.set_index('event_time', inplace=True)"
   ]
  },
  {
   "cell_type": "code",
   "execution_count": 124,
   "metadata": {
    "collapsed": false
   },
   "outputs": [
    {
     "data": {
      "text/html": [
       "<div>\n",
       "<table border=\"1\" class=\"dataframe\">\n",
       "  <thead>\n",
       "    <tr style=\"text-align: right;\">\n",
       "      <th></th>\n",
       "      <th>room</th>\n",
       "      <th>ass</th>\n",
       "      <th>auth</th>\n",
       "      <th>building</th>\n",
       "    </tr>\n",
       "    <tr>\n",
       "      <th>event_time</th>\n",
       "      <th></th>\n",
       "      <th></th>\n",
       "      <th></th>\n",
       "      <th></th>\n",
       "    </tr>\n",
       "  </thead>\n",
       "  <tbody>\n",
       "    <tr>\n",
       "      <th>2015-11-02 20:32:06</th>\n",
       "      <td>2</td>\n",
       "      <td>0</td>\n",
       "      <td>0</td>\n",
       "      <td>school of computer science</td>\n",
       "    </tr>\n",
       "    <tr>\n",
       "      <th>2015-11-02 20:37:10</th>\n",
       "      <td>2</td>\n",
       "      <td>0</td>\n",
       "      <td>0</td>\n",
       "      <td>school of computer science</td>\n",
       "    </tr>\n",
       "    <tr>\n",
       "      <th>2015-11-02 20:42:12</th>\n",
       "      <td>2</td>\n",
       "      <td>0</td>\n",
       "      <td>0</td>\n",
       "      <td>school of computer science</td>\n",
       "    </tr>\n",
       "    <tr>\n",
       "      <th>2015-11-02 20:47:14</th>\n",
       "      <td>2</td>\n",
       "      <td>0</td>\n",
       "      <td>0</td>\n",
       "      <td>school of computer science</td>\n",
       "    </tr>\n",
       "    <tr>\n",
       "      <th>2015-11-02 20:52:11</th>\n",
       "      <td>2</td>\n",
       "      <td>0</td>\n",
       "      <td>0</td>\n",
       "      <td>school of computer science</td>\n",
       "    </tr>\n",
       "  </tbody>\n",
       "</table>\n",
       "</div>"
      ],
      "text/plain": [
       "                    room  ass  auth                    building\n",
       "event_time                                                     \n",
       "2015-11-02 20:32:06    2    0     0  school of computer science\n",
       "2015-11-02 20:37:10    2    0     0  school of computer science\n",
       "2015-11-02 20:42:12    2    0     0  school of computer science\n",
       "2015-11-02 20:47:14    2    0     0  school of computer science\n",
       "2015-11-02 20:52:11    2    0     0  school of computer science"
      ]
     },
     "execution_count": 124,
     "metadata": {},
     "output_type": "execute_result"
    }
   ],
   "source": [
    "wifi_df.head()"
   ]
  },
  {
   "cell_type": "code",
   "execution_count": 125,
   "metadata": {
    "collapsed": true
   },
   "outputs": [],
   "source": [
    "# create two new columns, event_hour and event_day\n",
    "wifi_df['event_hour'] = wifi_df.index.hour\n",
    "wifi_df['event_day'] = wifi_df.index.day"
   ]
  },
  {
   "cell_type": "code",
   "execution_count": 126,
   "metadata": {
    "collapsed": false
   },
   "outputs": [
    {
     "data": {
      "text/html": [
       "<div>\n",
       "<table border=\"1\" class=\"dataframe\">\n",
       "  <thead>\n",
       "    <tr style=\"text-align: right;\">\n",
       "      <th></th>\n",
       "      <th>room</th>\n",
       "      <th>ass</th>\n",
       "      <th>auth</th>\n",
       "      <th>building</th>\n",
       "      <th>event_hour</th>\n",
       "      <th>event_day</th>\n",
       "    </tr>\n",
       "    <tr>\n",
       "      <th>event_time</th>\n",
       "      <th></th>\n",
       "      <th></th>\n",
       "      <th></th>\n",
       "      <th></th>\n",
       "      <th></th>\n",
       "      <th></th>\n",
       "    </tr>\n",
       "  </thead>\n",
       "  <tbody>\n",
       "    <tr>\n",
       "      <th>2015-11-02 20:32:06</th>\n",
       "      <td>2</td>\n",
       "      <td>0</td>\n",
       "      <td>0</td>\n",
       "      <td>school of computer science</td>\n",
       "      <td>20</td>\n",
       "      <td>2</td>\n",
       "    </tr>\n",
       "    <tr>\n",
       "      <th>2015-11-02 20:37:10</th>\n",
       "      <td>2</td>\n",
       "      <td>0</td>\n",
       "      <td>0</td>\n",
       "      <td>school of computer science</td>\n",
       "      <td>20</td>\n",
       "      <td>2</td>\n",
       "    </tr>\n",
       "    <tr>\n",
       "      <th>2015-11-02 20:42:12</th>\n",
       "      <td>2</td>\n",
       "      <td>0</td>\n",
       "      <td>0</td>\n",
       "      <td>school of computer science</td>\n",
       "      <td>20</td>\n",
       "      <td>2</td>\n",
       "    </tr>\n",
       "    <tr>\n",
       "      <th>2015-11-02 20:47:14</th>\n",
       "      <td>2</td>\n",
       "      <td>0</td>\n",
       "      <td>0</td>\n",
       "      <td>school of computer science</td>\n",
       "      <td>20</td>\n",
       "      <td>2</td>\n",
       "    </tr>\n",
       "    <tr>\n",
       "      <th>2015-11-02 20:52:11</th>\n",
       "      <td>2</td>\n",
       "      <td>0</td>\n",
       "      <td>0</td>\n",
       "      <td>school of computer science</td>\n",
       "      <td>20</td>\n",
       "      <td>2</td>\n",
       "    </tr>\n",
       "  </tbody>\n",
       "</table>\n",
       "</div>"
      ],
      "text/plain": [
       "                    room  ass  auth                    building  event_hour  \\\n",
       "event_time                                                                    \n",
       "2015-11-02 20:32:06    2    0     0  school of computer science          20   \n",
       "2015-11-02 20:37:10    2    0     0  school of computer science          20   \n",
       "2015-11-02 20:42:12    2    0     0  school of computer science          20   \n",
       "2015-11-02 20:47:14    2    0     0  school of computer science          20   \n",
       "2015-11-02 20:52:11    2    0     0  school of computer science          20   \n",
       "\n",
       "                     event_day  \n",
       "event_time                      \n",
       "2015-11-02 20:32:06          2  \n",
       "2015-11-02 20:37:10          2  \n",
       "2015-11-02 20:42:12          2  \n",
       "2015-11-02 20:47:14          2  \n",
       "2015-11-02 20:52:11          2  "
      ]
     },
     "execution_count": 126,
     "metadata": {},
     "output_type": "execute_result"
    }
   ],
   "source": [
    "wifi_df.head()"
   ]
  },
  {
   "cell_type": "code",
   "execution_count": 127,
   "metadata": {
    "collapsed": false
   },
   "outputs": [],
   "source": [
    "# convert 'event_time' values from EPOCH to DATETIME\n",
    "occupancy_df['event_time'] = pd.to_datetime(occupancy_df.event_time, unit='s')\n",
    "# use event_time as dataframe index \n",
    "occupancy_df.set_index('event_time', inplace=True)"
   ]
  },
  {
   "cell_type": "code",
   "execution_count": 128,
   "metadata": {
    "collapsed": false
   },
   "outputs": [
    {
     "data": {
      "text/html": [
       "<div>\n",
       "<table border=\"1\" class=\"dataframe\">\n",
       "  <thead>\n",
       "    <tr style=\"text-align: right;\">\n",
       "      <th></th>\n",
       "      <th>room</th>\n",
       "      <th>occupancy</th>\n",
       "      <th>building</th>\n",
       "    </tr>\n",
       "    <tr>\n",
       "      <th>event_time</th>\n",
       "      <th></th>\n",
       "      <th></th>\n",
       "      <th></th>\n",
       "    </tr>\n",
       "  </thead>\n",
       "  <tbody>\n",
       "    <tr>\n",
       "      <th>2015-11-02 09:00:00</th>\n",
       "      <td>4</td>\n",
       "      <td>0.25</td>\n",
       "      <td>school of computer science</td>\n",
       "    </tr>\n",
       "    <tr>\n",
       "      <th>2015-11-02 09:00:00</th>\n",
       "      <td>2</td>\n",
       "      <td>0.25</td>\n",
       "      <td>school of computer science</td>\n",
       "    </tr>\n",
       "    <tr>\n",
       "      <th>2015-11-02 09:00:00</th>\n",
       "      <td>3</td>\n",
       "      <td>0.25</td>\n",
       "      <td>school of computer science</td>\n",
       "    </tr>\n",
       "    <tr>\n",
       "      <th>2015-11-02 10:00:00</th>\n",
       "      <td>4</td>\n",
       "      <td>0.50</td>\n",
       "      <td>school of computer science</td>\n",
       "    </tr>\n",
       "    <tr>\n",
       "      <th>2015-11-02 10:00:00</th>\n",
       "      <td>2</td>\n",
       "      <td>0.50</td>\n",
       "      <td>school of computer science</td>\n",
       "    </tr>\n",
       "  </tbody>\n",
       "</table>\n",
       "</div>"
      ],
      "text/plain": [
       "                     room  occupancy                    building\n",
       "event_time                                                      \n",
       "2015-11-02 09:00:00     4       0.25  school of computer science\n",
       "2015-11-02 09:00:00     2       0.25  school of computer science\n",
       "2015-11-02 09:00:00     3       0.25  school of computer science\n",
       "2015-11-02 10:00:00     4       0.50  school of computer science\n",
       "2015-11-02 10:00:00     2       0.50  school of computer science"
      ]
     },
     "execution_count": 128,
     "metadata": {},
     "output_type": "execute_result"
    }
   ],
   "source": [
    "occupancy_df.head()"
   ]
  },
  {
   "cell_type": "code",
   "execution_count": 129,
   "metadata": {
    "collapsed": true
   },
   "outputs": [],
   "source": [
    "# create two new columns, event_hour and event_day\n",
    "occupancy_df['event_hour'] = occupancy_df.index.hour\n",
    "occupancy_df['event_day'] = occupancy_df.index.day"
   ]
  },
  {
   "cell_type": "code",
   "execution_count": 130,
   "metadata": {
    "collapsed": false
   },
   "outputs": [
    {
     "data": {
      "text/html": [
       "<div>\n",
       "<table border=\"1\" class=\"dataframe\">\n",
       "  <thead>\n",
       "    <tr style=\"text-align: right;\">\n",
       "      <th></th>\n",
       "      <th>room</th>\n",
       "      <th>occupancy</th>\n",
       "      <th>building</th>\n",
       "      <th>event_hour</th>\n",
       "      <th>event_day</th>\n",
       "    </tr>\n",
       "    <tr>\n",
       "      <th>event_time</th>\n",
       "      <th></th>\n",
       "      <th></th>\n",
       "      <th></th>\n",
       "      <th></th>\n",
       "      <th></th>\n",
       "    </tr>\n",
       "  </thead>\n",
       "  <tbody>\n",
       "    <tr>\n",
       "      <th>2015-11-02 09:00:00</th>\n",
       "      <td>4</td>\n",
       "      <td>0.25</td>\n",
       "      <td>school of computer science</td>\n",
       "      <td>9</td>\n",
       "      <td>2</td>\n",
       "    </tr>\n",
       "    <tr>\n",
       "      <th>2015-11-02 09:00:00</th>\n",
       "      <td>2</td>\n",
       "      <td>0.25</td>\n",
       "      <td>school of computer science</td>\n",
       "      <td>9</td>\n",
       "      <td>2</td>\n",
       "    </tr>\n",
       "    <tr>\n",
       "      <th>2015-11-02 09:00:00</th>\n",
       "      <td>3</td>\n",
       "      <td>0.25</td>\n",
       "      <td>school of computer science</td>\n",
       "      <td>9</td>\n",
       "      <td>2</td>\n",
       "    </tr>\n",
       "    <tr>\n",
       "      <th>2015-11-02 10:00:00</th>\n",
       "      <td>4</td>\n",
       "      <td>0.50</td>\n",
       "      <td>school of computer science</td>\n",
       "      <td>10</td>\n",
       "      <td>2</td>\n",
       "    </tr>\n",
       "    <tr>\n",
       "      <th>2015-11-02 10:00:00</th>\n",
       "      <td>2</td>\n",
       "      <td>0.50</td>\n",
       "      <td>school of computer science</td>\n",
       "      <td>10</td>\n",
       "      <td>2</td>\n",
       "    </tr>\n",
       "  </tbody>\n",
       "</table>\n",
       "</div>"
      ],
      "text/plain": [
       "                     room  occupancy                    building  event_hour  \\\n",
       "event_time                                                                     \n",
       "2015-11-02 09:00:00     4       0.25  school of computer science           9   \n",
       "2015-11-02 09:00:00     2       0.25  school of computer science           9   \n",
       "2015-11-02 09:00:00     3       0.25  school of computer science           9   \n",
       "2015-11-02 10:00:00     4       0.50  school of computer science          10   \n",
       "2015-11-02 10:00:00     2       0.50  school of computer science          10   \n",
       "\n",
       "                     event_day  \n",
       "event_time                      \n",
       "2015-11-02 09:00:00          2  \n",
       "2015-11-02 09:00:00          2  \n",
       "2015-11-02 09:00:00          2  \n",
       "2015-11-02 10:00:00          2  \n",
       "2015-11-02 10:00:00          2  "
      ]
     },
     "execution_count": 130,
     "metadata": {},
     "output_type": "execute_result"
    }
   ],
   "source": [
    "occupancy_df.head()"
   ]
  },
  {
   "cell_type": "markdown",
   "metadata": {},
   "source": [
    "# Get timetable data"
   ]
  },
  {
   "cell_type": "code",
   "execution_count": 131,
   "metadata": {
    "collapsed": false
   },
   "outputs": [
    {
     "name": "stdout",
     "output_type": "stream",
     "text": [
      "../cleaned_data/timetable.csv\n"
     ]
    }
   ],
   "source": [
    "# read data from csv file into a data frame\n",
    "# code is now OS agnostic\n",
    "\n",
    "import os\n",
    "\n",
    "a = '..' # removed slash\n",
    "b = 'cleaned_data' # removed slash\n",
    "c = 'timetable.csv'\n",
    "\n",
    "print(os.path.join(a, b, c))\n",
    "\n",
    "timetable_df = pd.read_csv(os.path.join(a, b, c))"
   ]
  },
  {
   "cell_type": "code",
   "execution_count": 132,
   "metadata": {
    "collapsed": false
   },
   "outputs": [
    {
     "data": {
      "text/html": [
       "<div>\n",
       "<table border=\"1\" class=\"dataframe\">\n",
       "  <thead>\n",
       "    <tr style=\"text-align: right;\">\n",
       "      <th></th>\n",
       "      <th>room</th>\n",
       "      <th>module</th>\n",
       "      <th>nb_reg_stud</th>\n",
       "      <th>building</th>\n",
       "      <th>event_hour</th>\n",
       "      <th>event_day</th>\n",
       "    </tr>\n",
       "    <tr>\n",
       "      <th>event_time</th>\n",
       "      <th></th>\n",
       "      <th></th>\n",
       "      <th></th>\n",
       "      <th></th>\n",
       "      <th></th>\n",
       "      <th></th>\n",
       "    </tr>\n",
       "  </thead>\n",
       "  <tbody>\n",
       "    <tr>\n",
       "      <th>2015-11-02 09:00:00</th>\n",
       "      <td>2</td>\n",
       "      <td>COMP30190</td>\n",
       "      <td>29.0</td>\n",
       "      <td>school of computer science</td>\n",
       "      <td>9</td>\n",
       "      <td>2</td>\n",
       "    </tr>\n",
       "    <tr>\n",
       "      <th>2015-11-03 09:00:00</th>\n",
       "      <td>2</td>\n",
       "      <td>NaN</td>\n",
       "      <td>NaN</td>\n",
       "      <td>school of computer science</td>\n",
       "      <td>9</td>\n",
       "      <td>3</td>\n",
       "    </tr>\n",
       "    <tr>\n",
       "      <th>2015-11-04 09:00:00</th>\n",
       "      <td>2</td>\n",
       "      <td>COMP30190</td>\n",
       "      <td>29.0</td>\n",
       "      <td>school of computer science</td>\n",
       "      <td>9</td>\n",
       "      <td>4</td>\n",
       "    </tr>\n",
       "    <tr>\n",
       "      <th>2015-11-05 09:00:00</th>\n",
       "      <td>2</td>\n",
       "      <td>NaN</td>\n",
       "      <td>NaN</td>\n",
       "      <td>school of computer science</td>\n",
       "      <td>9</td>\n",
       "      <td>5</td>\n",
       "    </tr>\n",
       "    <tr>\n",
       "      <th>2015-11-06 09:00:00</th>\n",
       "      <td>2</td>\n",
       "      <td>COMP30220</td>\n",
       "      <td>38.0</td>\n",
       "      <td>school of computer science</td>\n",
       "      <td>9</td>\n",
       "      <td>6</td>\n",
       "    </tr>\n",
       "  </tbody>\n",
       "</table>\n",
       "</div>"
      ],
      "text/plain": [
       "                     room     module  nb_reg_stud                    building  \\\n",
       "event_time                                                                      \n",
       "2015-11-02 09:00:00     2  COMP30190         29.0  school of computer science   \n",
       "2015-11-03 09:00:00     2        NaN          NaN  school of computer science   \n",
       "2015-11-04 09:00:00     2  COMP30190         29.0  school of computer science   \n",
       "2015-11-05 09:00:00     2        NaN          NaN  school of computer science   \n",
       "2015-11-06 09:00:00     2  COMP30220         38.0  school of computer science   \n",
       "\n",
       "                     event_hour  event_day  \n",
       "event_time                                  \n",
       "2015-11-02 09:00:00           9          2  \n",
       "2015-11-03 09:00:00           9          3  \n",
       "2015-11-04 09:00:00           9          4  \n",
       "2015-11-05 09:00:00           9          5  \n",
       "2015-11-06 09:00:00           9          6  "
      ]
     },
     "execution_count": 132,
     "metadata": {},
     "output_type": "execute_result"
    }
   ],
   "source": [
    "del timetable_df['Unnamed: 0']\n",
    "\n",
    "# convert 'event_time' values from EPOCH to DATETIME\n",
    "timetable_df['event_time'] = pd.to_datetime(timetable_df.event_time, unit='s')\n",
    "# use event_time as dataframe index \n",
    "timetable_df.set_index('event_time', inplace=True)\n",
    "\n",
    "# create two new columns, event_hour and event_day\n",
    "timetable_df['event_hour'] = timetable_df.index.hour\n",
    "timetable_df['event_day'] = timetable_df.index.day\n",
    "\n",
    "timetable_df.head()"
   ]
  },
  {
   "cell_type": "markdown",
   "metadata": {},
   "source": [
    "# Merge data"
   ]
  },
  {
   "cell_type": "markdown",
   "metadata": {
    "collapsed": true
   },
   "source": [
    "Survey data contains one recorded value per room, per day, per hour. Here, we take the max reading per hour, per day, per room."
   ]
  },
  {
   "cell_type": "code",
   "execution_count": 133,
   "metadata": {
    "collapsed": false
   },
   "outputs": [],
   "source": [
    "df_max_conn = wifi_df.groupby(['room', 'event_day', 'event_hour'], as_index=False).median()"
   ]
  },
  {
   "cell_type": "code",
   "execution_count": 134,
   "metadata": {
    "collapsed": false
   },
   "outputs": [
    {
     "data": {
      "text/html": [
       "<div>\n",
       "<table border=\"1\" class=\"dataframe\">\n",
       "  <thead>\n",
       "    <tr style=\"text-align: right;\">\n",
       "      <th></th>\n",
       "      <th>room</th>\n",
       "      <th>event_day</th>\n",
       "      <th>event_hour</th>\n",
       "      <th>ass</th>\n",
       "      <th>auth</th>\n",
       "    </tr>\n",
       "  </thead>\n",
       "  <tbody>\n",
       "    <tr>\n",
       "      <th>1051</th>\n",
       "      <td>4</td>\n",
       "      <td>17</td>\n",
       "      <td>7</td>\n",
       "      <td>0.0</td>\n",
       "      <td>0.0</td>\n",
       "    </tr>\n",
       "    <tr>\n",
       "      <th>1052</th>\n",
       "      <td>4</td>\n",
       "      <td>17</td>\n",
       "      <td>8</td>\n",
       "      <td>0.0</td>\n",
       "      <td>0.0</td>\n",
       "    </tr>\n",
       "    <tr>\n",
       "      <th>1053</th>\n",
       "      <td>4</td>\n",
       "      <td>17</td>\n",
       "      <td>9</td>\n",
       "      <td>72.0</td>\n",
       "      <td>72.0</td>\n",
       "    </tr>\n",
       "    <tr>\n",
       "      <th>1054</th>\n",
       "      <td>4</td>\n",
       "      <td>17</td>\n",
       "      <td>10</td>\n",
       "      <td>85.0</td>\n",
       "      <td>85.0</td>\n",
       "    </tr>\n",
       "    <tr>\n",
       "      <th>1055</th>\n",
       "      <td>4</td>\n",
       "      <td>17</td>\n",
       "      <td>11</td>\n",
       "      <td>39.0</td>\n",
       "      <td>39.0</td>\n",
       "    </tr>\n",
       "  </tbody>\n",
       "</table>\n",
       "</div>"
      ],
      "text/plain": [
       "     room  event_day  event_hour   ass  auth\n",
       "1051    4         17           7   0.0   0.0\n",
       "1052    4         17           8   0.0   0.0\n",
       "1053    4         17           9  72.0  72.0\n",
       "1054    4         17          10  85.0  85.0\n",
       "1055    4         17          11  39.0  39.0"
      ]
     },
     "execution_count": 134,
     "metadata": {},
     "output_type": "execute_result"
    }
   ],
   "source": [
    "df_max_conn.tail()"
   ]
  },
  {
   "cell_type": "code",
   "execution_count": 135,
   "metadata": {
    "collapsed": false
   },
   "outputs": [
    {
     "data": {
      "text/html": [
       "<div>\n",
       "<table border=\"1\" class=\"dataframe\">\n",
       "  <thead>\n",
       "    <tr style=\"text-align: right;\">\n",
       "      <th></th>\n",
       "      <th>room</th>\n",
       "      <th>event_day</th>\n",
       "      <th>event_hour</th>\n",
       "      <th>ass</th>\n",
       "      <th>auth</th>\n",
       "      <th>occupancy</th>\n",
       "      <th>building_x</th>\n",
       "      <th>module</th>\n",
       "      <th>nb_reg_stud</th>\n",
       "      <th>building_y</th>\n",
       "    </tr>\n",
       "  </thead>\n",
       "  <tbody>\n",
       "    <tr>\n",
       "      <th>0</th>\n",
       "      <td>2</td>\n",
       "      <td>3</td>\n",
       "      <td>9</td>\n",
       "      <td>2.0</td>\n",
       "      <td>2.0</td>\n",
       "      <td>0.00</td>\n",
       "      <td>school of computer science</td>\n",
       "      <td>NaN</td>\n",
       "      <td>NaN</td>\n",
       "      <td>school of computer science</td>\n",
       "    </tr>\n",
       "    <tr>\n",
       "      <th>1</th>\n",
       "      <td>2</td>\n",
       "      <td>3</td>\n",
       "      <td>10</td>\n",
       "      <td>29.0</td>\n",
       "      <td>29.0</td>\n",
       "      <td>0.50</td>\n",
       "      <td>school of computer science</td>\n",
       "      <td>COMP30110</td>\n",
       "      <td>45.0</td>\n",
       "      <td>school of computer science</td>\n",
       "    </tr>\n",
       "    <tr>\n",
       "      <th>2</th>\n",
       "      <td>2</td>\n",
       "      <td>3</td>\n",
       "      <td>11</td>\n",
       "      <td>27.0</td>\n",
       "      <td>27.0</td>\n",
       "      <td>0.50</td>\n",
       "      <td>school of computer science</td>\n",
       "      <td>COMP30260</td>\n",
       "      <td>18.0</td>\n",
       "      <td>school of computer science</td>\n",
       "    </tr>\n",
       "    <tr>\n",
       "      <th>3</th>\n",
       "      <td>2</td>\n",
       "      <td>3</td>\n",
       "      <td>12</td>\n",
       "      <td>16.0</td>\n",
       "      <td>16.0</td>\n",
       "      <td>0.50</td>\n",
       "      <td>school of computer science</td>\n",
       "      <td>COMP40370</td>\n",
       "      <td>27.0</td>\n",
       "      <td>school of computer science</td>\n",
       "    </tr>\n",
       "    <tr>\n",
       "      <th>4</th>\n",
       "      <td>2</td>\n",
       "      <td>3</td>\n",
       "      <td>13</td>\n",
       "      <td>13.0</td>\n",
       "      <td>13.0</td>\n",
       "      <td>0.00</td>\n",
       "      <td>school of computer science</td>\n",
       "      <td>NaN</td>\n",
       "      <td>NaN</td>\n",
       "      <td>school of computer science</td>\n",
       "    </tr>\n",
       "    <tr>\n",
       "      <th>5</th>\n",
       "      <td>2</td>\n",
       "      <td>3</td>\n",
       "      <td>14</td>\n",
       "      <td>47.0</td>\n",
       "      <td>47.0</td>\n",
       "      <td>0.75</td>\n",
       "      <td>school of computer science</td>\n",
       "      <td>COMP30240</td>\n",
       "      <td>42.0</td>\n",
       "      <td>school of computer science</td>\n",
       "    </tr>\n",
       "    <tr>\n",
       "      <th>6</th>\n",
       "      <td>2</td>\n",
       "      <td>3</td>\n",
       "      <td>15</td>\n",
       "      <td>35.0</td>\n",
       "      <td>35.0</td>\n",
       "      <td>0.25</td>\n",
       "      <td>school of computer science</td>\n",
       "      <td>COMP30240</td>\n",
       "      <td>42.0</td>\n",
       "      <td>school of computer science</td>\n",
       "    </tr>\n",
       "    <tr>\n",
       "      <th>7</th>\n",
       "      <td>2</td>\n",
       "      <td>3</td>\n",
       "      <td>16</td>\n",
       "      <td>36.5</td>\n",
       "      <td>36.5</td>\n",
       "      <td>0.25</td>\n",
       "      <td>school of computer science</td>\n",
       "      <td>COMP40370</td>\n",
       "      <td>27.0</td>\n",
       "      <td>school of computer science</td>\n",
       "    </tr>\n",
       "    <tr>\n",
       "      <th>8</th>\n",
       "      <td>2</td>\n",
       "      <td>4</td>\n",
       "      <td>9</td>\n",
       "      <td>14.0</td>\n",
       "      <td>14.0</td>\n",
       "      <td>0.25</td>\n",
       "      <td>school of computer science</td>\n",
       "      <td>COMP30190</td>\n",
       "      <td>29.0</td>\n",
       "      <td>school of computer science</td>\n",
       "    </tr>\n",
       "    <tr>\n",
       "      <th>9</th>\n",
       "      <td>2</td>\n",
       "      <td>4</td>\n",
       "      <td>10</td>\n",
       "      <td>15.0</td>\n",
       "      <td>15.0</td>\n",
       "      <td>0.25</td>\n",
       "      <td>school of computer science</td>\n",
       "      <td>COMP40660</td>\n",
       "      <td>53.0</td>\n",
       "      <td>school of computer science</td>\n",
       "    </tr>\n",
       "    <tr>\n",
       "      <th>10</th>\n",
       "      <td>2</td>\n",
       "      <td>4</td>\n",
       "      <td>11</td>\n",
       "      <td>8.0</td>\n",
       "      <td>8.0</td>\n",
       "      <td>0.25</td>\n",
       "      <td>school of computer science</td>\n",
       "      <td>COMP30250</td>\n",
       "      <td>22.0</td>\n",
       "      <td>school of computer science</td>\n",
       "    </tr>\n",
       "    <tr>\n",
       "      <th>11</th>\n",
       "      <td>2</td>\n",
       "      <td>4</td>\n",
       "      <td>12</td>\n",
       "      <td>35.0</td>\n",
       "      <td>35.0</td>\n",
       "      <td>0.50</td>\n",
       "      <td>school of computer science</td>\n",
       "      <td>COMP41690 (Practical)</td>\n",
       "      <td>60.0</td>\n",
       "      <td>school of computer science</td>\n",
       "    </tr>\n",
       "    <tr>\n",
       "      <th>12</th>\n",
       "      <td>2</td>\n",
       "      <td>4</td>\n",
       "      <td>13</td>\n",
       "      <td>24.0</td>\n",
       "      <td>24.0</td>\n",
       "      <td>0.00</td>\n",
       "      <td>school of computer science</td>\n",
       "      <td>COMP41690 (Lecture)</td>\n",
       "      <td>60.0</td>\n",
       "      <td>school of computer science</td>\n",
       "    </tr>\n",
       "    <tr>\n",
       "      <th>13</th>\n",
       "      <td>2</td>\n",
       "      <td>4</td>\n",
       "      <td>14</td>\n",
       "      <td>23.0</td>\n",
       "      <td>23.0</td>\n",
       "      <td>0.25</td>\n",
       "      <td>school of computer science</td>\n",
       "      <td>COMP30220</td>\n",
       "      <td>38.0</td>\n",
       "      <td>school of computer science</td>\n",
       "    </tr>\n",
       "    <tr>\n",
       "      <th>14</th>\n",
       "      <td>2</td>\n",
       "      <td>4</td>\n",
       "      <td>15</td>\n",
       "      <td>5.0</td>\n",
       "      <td>5.0</td>\n",
       "      <td>0.00</td>\n",
       "      <td>school of computer science</td>\n",
       "      <td>COMP30520 &amp; COMP41110</td>\n",
       "      <td>79.0</td>\n",
       "      <td>school of computer science</td>\n",
       "    </tr>\n",
       "  </tbody>\n",
       "</table>\n",
       "</div>"
      ],
      "text/plain": [
       "    room  event_day  event_hour   ass  auth  occupancy  \\\n",
       "0      2          3           9   2.0   2.0       0.00   \n",
       "1      2          3          10  29.0  29.0       0.50   \n",
       "2      2          3          11  27.0  27.0       0.50   \n",
       "3      2          3          12  16.0  16.0       0.50   \n",
       "4      2          3          13  13.0  13.0       0.00   \n",
       "5      2          3          14  47.0  47.0       0.75   \n",
       "6      2          3          15  35.0  35.0       0.25   \n",
       "7      2          3          16  36.5  36.5       0.25   \n",
       "8      2          4           9  14.0  14.0       0.25   \n",
       "9      2          4          10  15.0  15.0       0.25   \n",
       "10     2          4          11   8.0   8.0       0.25   \n",
       "11     2          4          12  35.0  35.0       0.50   \n",
       "12     2          4          13  24.0  24.0       0.00   \n",
       "13     2          4          14  23.0  23.0       0.25   \n",
       "14     2          4          15   5.0   5.0       0.00   \n",
       "\n",
       "                    building_x                 module  nb_reg_stud  \\\n",
       "0   school of computer science                    NaN          NaN   \n",
       "1   school of computer science              COMP30110         45.0   \n",
       "2   school of computer science              COMP30260         18.0   \n",
       "3   school of computer science              COMP40370         27.0   \n",
       "4   school of computer science                    NaN          NaN   \n",
       "5   school of computer science              COMP30240         42.0   \n",
       "6   school of computer science              COMP30240         42.0   \n",
       "7   school of computer science              COMP40370         27.0   \n",
       "8   school of computer science              COMP30190         29.0   \n",
       "9   school of computer science              COMP40660         53.0   \n",
       "10  school of computer science              COMP30250         22.0   \n",
       "11  school of computer science  COMP41690 (Practical)         60.0   \n",
       "12  school of computer science    COMP41690 (Lecture)         60.0   \n",
       "13  school of computer science              COMP30220         38.0   \n",
       "14  school of computer science  COMP30520 & COMP41110         79.0   \n",
       "\n",
       "                    building_y  \n",
       "0   school of computer science  \n",
       "1   school of computer science  \n",
       "2   school of computer science  \n",
       "3   school of computer science  \n",
       "4   school of computer science  \n",
       "5   school of computer science  \n",
       "6   school of computer science  \n",
       "7   school of computer science  \n",
       "8   school of computer science  \n",
       "9   school of computer science  \n",
       "10  school of computer science  \n",
       "11  school of computer science  \n",
       "12  school of computer science  \n",
       "13  school of computer science  \n",
       "14  school of computer science  "
      ]
     },
     "execution_count": 135,
     "metadata": {},
     "output_type": "execute_result"
    }
   ],
   "source": [
    "# merge data into single dataframe\n",
    "df_max_conn['room'] = df_max_conn['room'].astype(int)\n",
    "df = pd.merge(df_max_conn, occupancy_df, on=['room', 'event_day', 'event_hour'], how='inner')\n",
    "df = pd.merge(df, timetable_df, on=['room', 'event_day', 'event_hour'], how='inner')\n",
    "\n",
    "df.head(15)"
   ]
  },
  {
   "cell_type": "code",
   "execution_count": 136,
   "metadata": {
    "collapsed": true
   },
   "outputs": [],
   "source": [
    "# add column for number of estimated occupants based on room capacity * occupancy rate\n",
    "\n",
    "def estimate_occ(df,room, occupancy_rate):\n",
    "    '''function that caluclates the estimated number of room occupants\n",
    "    \n",
    "    parameters\n",
    "    ----------\n",
    "    df is a dataframe with columns room and occupancy_rate\n",
    "    room is a string denoting a column in df that contains INT values representing room IDs\n",
    "    occupancy_rate is a string denoting a column in df that contains DECIMAL values that represent the estimated room occupancy rate\n",
    "    \n",
    "    '''\n",
    "    #for loop that iterates through each row of the df\n",
    "    for i in range(df.shape[0]):\n",
    "        \n",
    "        #room two and three have capacity of 90\n",
    "        if df[room][i] == 2 or df[room][i] == 3:\n",
    "            # calculate estimated occupants for row, assign to variable 'est'\n",
    "            est = df[occupancy_rate][i] * 90\n",
    "            #set value in new column\n",
    "            df.set_value(i, 'est_occupants', est)\n",
    "        \n",
    "        #room four has a capcity of 220\n",
    "        elif df[room][i] == 4:\n",
    "            est = df[occupancy_rate][i] * 220\n",
    "            df.set_value(i, 'est_occupants', est)\n",
    "        \n",
    "        else:\n",
    "            raise ValueError('Incorrect room number:', df[room][i])\n",
    "            "
   ]
  },
  {
   "cell_type": "code",
   "execution_count": 139,
   "metadata": {
    "collapsed": false
   },
   "outputs": [
    {
     "data": {
      "text/html": [
       "<div>\n",
       "<table border=\"1\" class=\"dataframe\">\n",
       "  <thead>\n",
       "    <tr style=\"text-align: right;\">\n",
       "      <th></th>\n",
       "      <th>room</th>\n",
       "      <th>event_day</th>\n",
       "      <th>event_hour</th>\n",
       "      <th>ass</th>\n",
       "      <th>auth</th>\n",
       "      <th>occupancy</th>\n",
       "      <th>building_x</th>\n",
       "      <th>module</th>\n",
       "      <th>nb_reg_stud</th>\n",
       "      <th>building_y</th>\n",
       "      <th>est_occupants</th>\n",
       "    </tr>\n",
       "  </thead>\n",
       "  <tbody>\n",
       "    <tr>\n",
       "      <th>0</th>\n",
       "      <td>2</td>\n",
       "      <td>3</td>\n",
       "      <td>9</td>\n",
       "      <td>2.0</td>\n",
       "      <td>2.0</td>\n",
       "      <td>0.0</td>\n",
       "      <td>school of computer science</td>\n",
       "      <td>NaN</td>\n",
       "      <td>NaN</td>\n",
       "      <td>school of computer science</td>\n",
       "      <td>0.0</td>\n",
       "    </tr>\n",
       "    <tr>\n",
       "      <th>1</th>\n",
       "      <td>2</td>\n",
       "      <td>3</td>\n",
       "      <td>10</td>\n",
       "      <td>29.0</td>\n",
       "      <td>29.0</td>\n",
       "      <td>0.5</td>\n",
       "      <td>school of computer science</td>\n",
       "      <td>COMP30110</td>\n",
       "      <td>45.0</td>\n",
       "      <td>school of computer science</td>\n",
       "      <td>45.0</td>\n",
       "    </tr>\n",
       "    <tr>\n",
       "      <th>2</th>\n",
       "      <td>2</td>\n",
       "      <td>3</td>\n",
       "      <td>11</td>\n",
       "      <td>27.0</td>\n",
       "      <td>27.0</td>\n",
       "      <td>0.5</td>\n",
       "      <td>school of computer science</td>\n",
       "      <td>COMP30260</td>\n",
       "      <td>18.0</td>\n",
       "      <td>school of computer science</td>\n",
       "      <td>45.0</td>\n",
       "    </tr>\n",
       "    <tr>\n",
       "      <th>3</th>\n",
       "      <td>2</td>\n",
       "      <td>3</td>\n",
       "      <td>12</td>\n",
       "      <td>16.0</td>\n",
       "      <td>16.0</td>\n",
       "      <td>0.5</td>\n",
       "      <td>school of computer science</td>\n",
       "      <td>COMP40370</td>\n",
       "      <td>27.0</td>\n",
       "      <td>school of computer science</td>\n",
       "      <td>45.0</td>\n",
       "    </tr>\n",
       "    <tr>\n",
       "      <th>4</th>\n",
       "      <td>2</td>\n",
       "      <td>3</td>\n",
       "      <td>13</td>\n",
       "      <td>13.0</td>\n",
       "      <td>13.0</td>\n",
       "      <td>0.0</td>\n",
       "      <td>school of computer science</td>\n",
       "      <td>NaN</td>\n",
       "      <td>NaN</td>\n",
       "      <td>school of computer science</td>\n",
       "      <td>0.0</td>\n",
       "    </tr>\n",
       "  </tbody>\n",
       "</table>\n",
       "</div>"
      ],
      "text/plain": [
       "   room  event_day  event_hour   ass  auth  occupancy  \\\n",
       "0     2          3           9   2.0   2.0        0.0   \n",
       "1     2          3          10  29.0  29.0        0.5   \n",
       "2     2          3          11  27.0  27.0        0.5   \n",
       "3     2          3          12  16.0  16.0        0.5   \n",
       "4     2          3          13  13.0  13.0        0.0   \n",
       "\n",
       "                   building_x     module  nb_reg_stud  \\\n",
       "0  school of computer science        NaN          NaN   \n",
       "1  school of computer science  COMP30110         45.0   \n",
       "2  school of computer science  COMP30260         18.0   \n",
       "3  school of computer science  COMP40370         27.0   \n",
       "4  school of computer science        NaN          NaN   \n",
       "\n",
       "                   building_y  est_occupants  \n",
       "0  school of computer science            0.0  \n",
       "1  school of computer science           45.0  \n",
       "2  school of computer science           45.0  \n",
       "3  school of computer science           45.0  \n",
       "4  school of computer science            0.0  "
      ]
     },
     "execution_count": 139,
     "metadata": {},
     "output_type": "execute_result"
    }
   ],
   "source": [
    "estimate_occ(df, 'room', 'occupancy')\n",
    "\n",
    "df.head()"
   ]
  },
  {
   "cell_type": "markdown",
   "metadata": {},
   "source": [
    "# Linear Regression Model"
   ]
  },
  {
   "cell_type": "code",
   "execution_count": 33,
   "metadata": {
    "collapsed": true
   },
   "outputs": [],
   "source": [
    "import statsmodels.formula.api as sm"
   ]
  },
  {
   "cell_type": "code",
   "execution_count": 166,
   "metadata": {
    "collapsed": false
   },
   "outputs": [],
   "source": [
    "# can also use associated but higher correlation with authenticated \n",
    "lm = sm.ols(formula='est_occupants ~ auth + C(module) + nb_reg_stud + room + event_hour', data=df).fit()"
   ]
  },
  {
   "cell_type": "code",
   "execution_count": 167,
   "metadata": {
    "collapsed": false
   },
   "outputs": [
    {
     "name": "stdout",
     "output_type": "stream",
     "text": [
      "Intercept                                  5.078542e+00\n",
      "C(module)[T.COMP10130]                    -2.390210e+01\n",
      "C(module)[T.COMP10280]                    -2.367260e+01\n",
      "C(module)[T.COMP20010]                    -2.200963e+01\n",
      "C(module)[T.COMP20020]                    -1.577075e+01\n",
      "C(module)[T.COMP20070]                     4.105967e+00\n",
      "C(module)[T.COMP20110]                     1.061144e+01\n",
      "C(module)[T.COMP20130]                    -7.031593e+00\n",
      "C(module)[T.COMP30010]                    -2.514546e+01\n",
      "C(module)[T.COMP30060]                    -3.312754e+01\n",
      "C(module)[T.COMP30070]                    -3.770922e+01\n",
      "C(module)[T.COMP30080]                    -4.412250e+00\n",
      "C(module)[T.COMP30110]                    -3.660668e+00\n",
      "C(module)[T.COMP30170]                     1.156012e-01\n",
      "C(module)[T.COMP30190]                    -1.126574e+01\n",
      "C(module)[T.COMP30220]                    -9.352082e+00\n",
      "C(module)[T.COMP30240]                     7.447524e+00\n",
      "C(module)[T.COMP30250]                    -3.680034e+00\n",
      "C(module)[T.COMP30260]                    -5.392241e+00\n",
      "C(module)[T.COMP30520]                    -5.112614e+00\n",
      "C(module)[T.COMP30520 & COMP41110]         1.212697e+01\n",
      "C(module)[T.COMP40370]                    -8.706075e+00\n",
      "C(module)[T.COMP40660]                    -7.260831e+00\n",
      "C(module)[T.COMP41110]                    -3.317025e+00\n",
      "C(module)[T.COMP41450 & COMP30120]         3.335408e+01\n",
      "C(module)[T.COMP41690]                    -1.293708e+00\n",
      "C(module)[T.COMP41690 (Lecture)]          -2.550513e+00\n",
      "C(module)[T.COMP41690 (Practical)]         6.415878e+00\n",
      "C(module)[T.COMP47290]                    -3.967926e+01\n",
      "C(module)[T.COMP47300]                    -3.865888e+01\n",
      "C(module)[T.COMP47300 (Lecture)]          -5.606677e+01\n",
      "C(module)[T.COMP47300 (Practical)]        -3.958771e+01\n",
      "C(module)[T.Career opportunities talks]   -4.209154e-14\n",
      "C(module)[T.ENVB30110]                     7.197867e+00\n",
      "C(module)[T.MATH10130]                     4.425100e+00\n",
      "C(module)[T.MATH10200]                    -2.235349e+01\n",
      "C(module)[T.SCI30060]                     -1.506786e+01\n",
      "C(module)[T.STAT40150]                    -3.713595e+01\n",
      "auth                                       7.137996e-01\n",
      "nb_reg_stud                               -4.373924e-01\n",
      "room                                       2.256124e+01\n",
      "event_hour                                -1.934366e+00\n",
      "dtype: float64\n"
     ]
    }
   ],
   "source": [
    "print(lm.params)"
   ]
  },
  {
   "cell_type": "code",
   "execution_count": 168,
   "metadata": {
    "collapsed": false
   },
   "outputs": [
    {
     "name": "stdout",
     "output_type": "stream",
     "text": [
      "                            OLS Regression Results                            \n",
      "==============================================================================\n",
      "Dep. Variable:          est_occupants   R-squared:                       0.711\n",
      "Model:                            OLS   Adj. R-squared:                  0.608\n",
      "Method:                 Least Squares   F-statistic:                     6.887\n",
      "Date:                Fri, 15 Jul 2016   Prob (F-statistic):           3.30e-16\n",
      "Time:                        11:38:04   Log-Likelihood:                -673.61\n",
      "No. Observations:                 153   AIC:                             1429.\n",
      "Df Residuals:                     112   BIC:                             1553.\n",
      "Df Model:                          40                                         \n",
      "Covariance Type:            nonrobust                                         \n",
      "===========================================================================================================\n",
      "                                              coef    std err          t      P>|t|      [95.0% Conf. Int.]\n",
      "-----------------------------------------------------------------------------------------------------------\n",
      "Intercept                                   5.0785     34.661      0.147      0.884       -63.597    73.754\n",
      "C(module)[T.COMP10130]                    -23.9021     20.647     -1.158      0.249       -64.812    17.008\n",
      "C(module)[T.COMP10280]                    -23.6726     19.618     -1.207      0.230       -62.543    15.198\n",
      "C(module)[T.COMP20010]                    -22.0096     18.449     -1.193      0.235       -58.565    14.545\n",
      "C(module)[T.COMP20020]                    -15.7707     18.416     -0.856      0.394       -52.260    20.718\n",
      "C(module)[T.COMP20070]                      4.1060     17.856      0.230      0.819       -31.274    39.486\n",
      "C(module)[T.COMP20110]                     10.6114     18.077      0.587      0.558       -25.206    46.429\n",
      "C(module)[T.COMP20130]                     -7.0316     22.401     -0.314      0.754       -51.417    37.354\n",
      "C(module)[T.COMP30010]                    -25.1455     19.832     -1.268      0.207       -64.439    14.148\n",
      "C(module)[T.COMP30060]                    -33.1275     24.008     -1.380      0.170       -80.697    14.442\n",
      "C(module)[T.COMP30070]                    -37.7092     19.932     -1.892      0.061       -77.201     1.783\n",
      "C(module)[T.COMP30080]                     -4.4123     14.533     -0.304      0.762       -33.208    24.383\n",
      "C(module)[T.COMP30110]                     -3.6607     22.878     -0.160      0.873       -48.990    41.668\n",
      "C(module)[T.COMP30170]                      0.1156     25.915      0.004      0.996       -51.232    51.464\n",
      "C(module)[T.COMP30190]                    -11.2657     22.919     -0.492      0.624       -56.677    34.146\n",
      "C(module)[T.COMP30220]                     -9.3521     21.674     -0.431      0.667       -52.296    33.592\n",
      "C(module)[T.COMP30240]                      7.4475     20.615      0.361      0.719       -33.399    48.294\n",
      "C(module)[T.COMP30250]                     -3.6800     23.330     -0.158      0.875       -49.905    42.545\n",
      "C(module)[T.COMP30260]                     -5.3922     23.690     -0.228      0.820       -52.330    41.546\n",
      "C(module)[T.COMP30520]                     -5.1126     21.925     -0.233      0.816       -48.554    38.329\n",
      "C(module)[T.COMP30520 & COMP41110]         12.1270     26.782      0.453      0.652       -40.938    65.192\n",
      "C(module)[T.COMP40370]                     -8.7061     21.994     -0.396      0.693       -52.285    34.873\n",
      "C(module)[T.COMP40660]                     -7.2608     22.484     -0.323      0.747       -51.810    37.288\n",
      "C(module)[T.COMP41110]                     -3.3170     32.966     -0.101      0.920       -68.635    62.001\n",
      "C(module)[T.COMP41450 & COMP30120]         33.3541     18.079      1.845      0.068        -2.467    69.175\n",
      "C(module)[T.COMP41690]                     -1.2937     29.794     -0.043      0.965       -60.327    57.740\n",
      "C(module)[T.COMP41690 (Lecture)]           -2.5505     25.536     -0.100      0.921       -53.147    48.046\n",
      "C(module)[T.COMP41690 (Practical)]          6.4159     24.845      0.258      0.797       -42.812    55.644\n",
      "C(module)[T.COMP47290]                    -39.6793     25.015     -1.586      0.116       -89.243     9.885\n",
      "C(module)[T.COMP47300]                    -38.6589     25.910     -1.492      0.139       -89.997    12.679\n",
      "C(module)[T.COMP47300 (Lecture)]          -56.0668     31.648     -1.772      0.079      -118.774     6.640\n",
      "C(module)[T.COMP47300 (Practical)]        -39.5877     28.246     -1.402      0.164       -95.554    16.379\n",
      "C(module)[T.Career opportunities talks] -4.209e-14   3.61e-13     -0.116      0.907     -7.58e-13  6.74e-13\n",
      "C(module)[T.ENVB30110]                      7.1979     21.572      0.334      0.739       -35.544    49.940\n",
      "C(module)[T.MATH10130]                      4.4251     25.806      0.171      0.864       -46.707    55.557\n",
      "C(module)[T.MATH10200]                    -22.3535     21.767     -1.027      0.307       -65.482    20.775\n",
      "C(module)[T.SCI30060]                     -15.0679     28.521     -0.528      0.598       -71.578    41.443\n",
      "C(module)[T.STAT40150]                    -37.1359     32.115     -1.156      0.250      -100.768    26.496\n",
      "auth                                        0.7138      0.128      5.569      0.000         0.460     0.968\n",
      "nb_reg_stud                                -0.4374      0.228     -1.917      0.058        -0.890     0.015\n",
      "room                                       22.5612      8.828      2.556      0.012         5.069    40.053\n",
      "event_hour                                 -1.9344      1.416     -1.366      0.175        -4.740     0.871\n",
      "==============================================================================\n",
      "Omnibus:                        4.598   Durbin-Watson:                   1.588\n",
      "Prob(Omnibus):                  0.100   Jarque-Bera (JB):                6.137\n",
      "Skew:                           0.055   Prob(JB):                       0.0465\n",
      "Kurtosis:                       3.975   Cond. No.                     2.34e+18\n",
      "==============================================================================\n",
      "\n",
      "Warnings:\n",
      "[1] Standard Errors assume that the covariance matrix of the errors is correctly specified.\n",
      "[2] The smallest eigenvalue is 1.87e-31. This might indicate that there are\n",
      "strong multicollinearity problems or that the design matrix is singular.\n"
     ]
    }
   ],
   "source": [
    "print(lm.summary())"
   ]
  },
  {
   "cell_type": "markdown",
   "metadata": {
    "collapsed": true
   },
   "source": [
    "### We can see from the above that no feature is found to be significant apart from the number of authenticated devices and room id."
   ]
  },
  {
   "cell_type": "code",
   "execution_count": 169,
   "metadata": {
    "collapsed": true
   },
   "outputs": [],
   "source": [
    "lm = sm.ols(formula='est_occupants ~ auth + nb_reg_stud', data=df).fit()"
   ]
  },
  {
   "cell_type": "code",
   "execution_count": 170,
   "metadata": {
    "collapsed": false
   },
   "outputs": [
    {
     "name": "stdout",
     "output_type": "stream",
     "text": [
      "                            OLS Regression Results                            \n",
      "==============================================================================\n",
      "Dep. Variable:          est_occupants   R-squared:                       0.581\n",
      "Model:                            OLS   Adj. R-squared:                  0.575\n",
      "Method:                 Least Squares   F-statistic:                     104.0\n",
      "Date:                Fri, 15 Jul 2016   Prob (F-statistic):           4.68e-29\n",
      "Time:                        11:38:17   Log-Likelihood:                -702.02\n",
      "No. Observations:                 153   AIC:                             1410.\n",
      "Df Residuals:                     150   BIC:                             1419.\n",
      "Df Model:                           2                                         \n",
      "Covariance Type:            nonrobust                                         \n",
      "===============================================================================\n",
      "                  coef    std err          t      P>|t|      [95.0% Conf. Int.]\n",
      "-------------------------------------------------------------------------------\n",
      "Intercept       4.3104      3.429      1.257      0.211        -2.465    11.086\n",
      "auth            0.8675      0.083     10.481      0.000         0.704     1.031\n",
      "nb_reg_stud     0.0236      0.067      0.352      0.725        -0.109     0.156\n",
      "==============================================================================\n",
      "Omnibus:                       28.655   Durbin-Watson:                   1.699\n",
      "Prob(Omnibus):                  0.000   Jarque-Bera (JB):               62.255\n",
      "Skew:                           0.804   Prob(JB):                     3.03e-14\n",
      "Kurtosis:                       5.680   Cond. No.                         143.\n",
      "==============================================================================\n",
      "\n",
      "Warnings:\n",
      "[1] Standard Errors assume that the covariance matrix of the errors is correctly specified.\n"
     ]
    }
   ],
   "source": [
    "print(lm.summary())"
   ]
  },
  {
   "cell_type": "code",
   "execution_count": 173,
   "metadata": {
    "collapsed": true
   },
   "outputs": [],
   "source": [
    "lm = sm.ols(formula='est_occupants ~ auth + event_hour', data=df).fit()"
   ]
  },
  {
   "cell_type": "code",
   "execution_count": 174,
   "metadata": {
    "collapsed": false
   },
   "outputs": [
    {
     "name": "stdout",
     "output_type": "stream",
     "text": [
      "                            OLS Regression Results                            \n",
      "==============================================================================\n",
      "Dep. Variable:          est_occupants   R-squared:                       0.586\n",
      "Model:                            OLS   Adj. R-squared:                  0.582\n",
      "Method:                 Least Squares   F-statistic:                     150.9\n",
      "Date:                Fri, 15 Jul 2016   Prob (F-statistic):           1.55e-41\n",
      "Time:                        11:38:52   Log-Likelihood:                -976.50\n",
      "No. Observations:                 216   AIC:                             1959.\n",
      "Df Residuals:                     213   BIC:                             1969.\n",
      "Df Model:                           2                                         \n",
      "Covariance Type:            nonrobust                                         \n",
      "==============================================================================\n",
      "                 coef    std err          t      P>|t|      [95.0% Conf. Int.]\n",
      "------------------------------------------------------------------------------\n",
      "Intercept     13.3315      8.734      1.526      0.128        -3.884    30.547\n",
      "auth           0.8809      0.051     17.227      0.000         0.780     0.982\n",
      "event_hour    -0.6423      0.667     -0.963      0.337        -1.957     0.672\n",
      "==============================================================================\n",
      "Omnibus:                       45.778   Durbin-Watson:                   1.688\n",
      "Prob(Omnibus):                  0.000   Jarque-Bera (JB):              109.128\n",
      "Skew:                           0.956   Prob(JB):                     2.01e-24\n",
      "Kurtosis:                       5.911   Cond. No.                         253.\n",
      "==============================================================================\n",
      "\n",
      "Warnings:\n",
      "[1] Standard Errors assume that the covariance matrix of the errors is correctly specified.\n"
     ]
    }
   ],
   "source": [
    "print(lm.summary())"
   ]
  },
  {
   "cell_type": "code",
   "execution_count": 178,
   "metadata": {
    "collapsed": false
   },
   "outputs": [
    {
     "data": {
      "text/plain": [
       "Intercept   -10.310480\n",
       "auth          0.832804\n",
       "room          5.703769\n",
       "dtype: float64"
      ]
     },
     "execution_count": 178,
     "metadata": {},
     "output_type": "execute_result"
    }
   ],
   "source": [
    "lm = sm.ols(formula='est_occupants ~ auth + room', data=df).fit()\n",
    "\n",
    "lm.params"
   ]
  },
  {
   "cell_type": "code",
   "execution_count": 176,
   "metadata": {
    "collapsed": false
   },
   "outputs": [
    {
     "name": "stdout",
     "output_type": "stream",
     "text": [
      "                            OLS Regression Results                            \n",
      "==============================================================================\n",
      "Dep. Variable:          est_occupants   R-squared:                       0.601\n",
      "Model:                            OLS   Adj. R-squared:                  0.597\n",
      "Method:                 Least Squares   F-statistic:                     160.1\n",
      "Date:                Fri, 15 Jul 2016   Prob (F-statistic):           3.62e-43\n",
      "Time:                        11:39:55   Log-Likelihood:                -972.69\n",
      "No. Observations:                 216   AIC:                             1951.\n",
      "Df Residuals:                     213   BIC:                             1962.\n",
      "Df Model:                           2                                         \n",
      "Covariance Type:            nonrobust                                         \n",
      "==============================================================================\n",
      "                 coef    std err          t      P>|t|      [95.0% Conf. Int.]\n",
      "------------------------------------------------------------------------------\n",
      "Intercept    -10.3105      5.708     -1.806      0.072       -21.562     0.941\n",
      "auth           0.8328      0.053     15.678      0.000         0.728     0.938\n",
      "room           5.7038      1.944      2.934      0.004         1.872     9.535\n",
      "==============================================================================\n",
      "Omnibus:                       27.772   Durbin-Watson:                   1.712\n",
      "Prob(Omnibus):                  0.000   Jarque-Bera (JB):               57.944\n",
      "Skew:                           0.622   Prob(JB):                     2.62e-13\n",
      "Kurtosis:                       5.212   Cond. No.                         173.\n",
      "==============================================================================\n",
      "\n",
      "Warnings:\n",
      "[1] Standard Errors assume that the covariance matrix of the errors is correctly specified.\n"
     ]
    }
   ],
   "source": [
    "print(lm.summary())"
   ]
  },
  {
   "cell_type": "markdown",
   "metadata": {},
   "source": [
    "# Test with intercept"
   ]
  },
  {
   "cell_type": "code",
   "execution_count": 191,
   "metadata": {
    "collapsed": false
   },
   "outputs": [
    {
     "data": {
      "text/plain": [
       "array([   2.7626661 ,   25.24836557,   23.5827582 ,   14.42191767,\n",
       "         11.92350662,   40.23883188,   30.24518767,   31.4943932 ,\n",
       "         12.7563103 ,   13.58911399,    7.7594882 ,   30.24518767,\n",
       "         21.08434715,   20.25154346,    5.26107715,   16.92032873,\n",
       "          3.17906794,   29.41238399,   28.99598214,   18.16953425,\n",
       "         10.25789925,   26.91397293,   41.07163556,   25.66476741,\n",
       "          2.7626661 ,    4.01187162,   15.25472136,   12.7563103 ,\n",
       "          9.84149741,   28.5795803 ,   28.5795803 ,   18.58593609,\n",
       "         13.58911399,   15.25472136,    7.7594882 ,   15.25472136,\n",
       "         30.24518767,   10.67430109,   13.17271215,   56.06210188,\n",
       "          1.92986241,   21.50074899,   16.92032873,   27.74677662,\n",
       "          6.92668452,   37.74042083,   35.65841162,   30.24518767,\n",
       "         11.92350662,    9.84149741,    9.42509557,   33.99280425,\n",
       "         16.08752504,   14.83831951,   26.08116925,   21.08434715,\n",
       "          5.26107715,   24.41556188,   25.66476741,   13.58911399,\n",
       "          6.09388083,   25.24836557,   53.14728898,   41.4880374 ,\n",
       "          6.09388083,    6.92668452,   10.25789925,   12.7563103 ,\n",
       "         11.92350662,   16.08752504,   14.42191767,    8.17589004,\n",
       "          8.46643525,   12.63045367,   59.26745998,   22.20769604,\n",
       "         15.54526657,   29.28652735,   24.28970525,   15.12886472,\n",
       "          8.46643525,   19.29288314,   19.29288314,   83.41876682,\n",
       "         79.67115024,   17.62727578,   18.46007946,   14.29606104,\n",
       "         17.62727578,   33.45054577,   23.45690156,   46.35900288,\n",
       "         33.86694762,   20.12568683,   13.04685551,   13.46325736,\n",
       "         28.03732183,   44.69339551,   26.7881163 ,   27.62091999,\n",
       "         19.70928499,   52.60503051,   46.35900288,   18.04367762,\n",
       "         30.95213472,   36.78176051,   36.78176051,   46.35900288,\n",
       "         30.11933104,   35.11615314,   29.7029292 ,   16.79447209,\n",
       "          8.46643525,   16.79447209,   56.35264708,   27.62091999,\n",
       "         14.29606104,   24.28970525,   20.12568683,   10.13204262,\n",
       "          6.80082788,   14.29606104,   19.29288314,   80.50395392,\n",
       "         79.67115024,   38.44736788,   10.13204262,   25.12250893,\n",
       "         10.9648463 ,   10.54844446,   13.04685551,   64.26428208,\n",
       "         19.70928499,   22.62409788,   17.62727578,   16.79447209,\n",
       "         26.37171446,   30.95213472,   24.28970525,   27.20451814,\n",
       "         20.54208867,   44.27699367,   40.52937709,   20.54208867,\n",
       "        112.85744097,   97.45057281,   60.80721071,  101.19818939,\n",
       "         56.22679045,   75.79767703,   59.97440703,   17.50141914,\n",
       "         39.15431493,   16.25221362,   63.30562177,   70.80085492,\n",
       "         25.82945598,   19.9998302 ,   13.33740072,   12.50459704,\n",
       "        198.21981858,   45.8167444 ,   70.38445308,   53.31197756,\n",
       "         95.3685636 ,   69.96805124,   12.50459704,   12.50459704,\n",
       "         20.41623204,   67.05323834,   38.32151125,   14.58660625,\n",
       "         52.89557572,  121.18547781,   20.83263388,   13.75380257,\n",
       "         35.82310019,   39.98711861,   40.8199223 ,   66.6368365 ,\n",
       "         16.66861546,   48.31515545,   77.04688255,   17.91782099,\n",
       "         68.30244387,  112.85744097,   59.97440703,   87.4569286 ,\n",
       "         63.30562177,   69.13524755,   64.55482729,   12.50459704,\n",
       "         32.49188546,   14.17020441,   55.81038861,   70.38445308,\n",
       "         18.33422283,   22.49824125,   41.65272598,   14.17020441,\n",
       "         84.95851755,   41.23632414,   61.22361256,   54.97758493,\n",
       "         82.04370466,   56.22679045,   12.50459704,   59.55800519,\n",
       "         16.25221362,   59.14160335,   40.8199223 ,   16.66861546,\n",
       "         31.65908177,  108.27702071,   15.83581178,   12.50459704])"
      ]
     },
     "execution_count": 191,
     "metadata": {},
     "output_type": "execute_result"
    }
   ],
   "source": [
    "lm.predict(df)"
   ]
  },
  {
   "cell_type": "code",
   "execution_count": 181,
   "metadata": {
    "collapsed": true
   },
   "outputs": [],
   "source": [
    "df['prediction_max'] = None\n",
    "\n",
    "for i in range(df.shape[0]):\n",
    "    df.set_value(i, 'prediction_max', lm.predict(df)[i])"
   ]
  },
  {
   "cell_type": "code",
   "execution_count": 186,
   "metadata": {
    "collapsed": true
   },
   "outputs": [],
   "source": [
    "# add column to dataframe for prediction category\n",
    "df['cat_predict'] = None"
   ]
  },
  {
   "cell_type": "code",
   "execution_count": 187,
   "metadata": {
    "collapsed": true
   },
   "outputs": [],
   "source": [
    "def set_occupancy_category(df, room, linear_predict, cat_predict):\n",
    "    '''function that converts linear predictions to a defined category and updates the dataframe passed through\n",
    "    \n",
    "    Parameters\n",
    "    ----------\n",
    "    df: a dataframe\n",
    "    room: a string that is the column in df containing room id values of type INT\n",
    "    linear_predict: a string that is the column in df containing linear predictions\n",
    "    cat_predict: a string that is the column in df that will containing category predictions\n",
    "    \n",
    "    '''\n",
    "    \n",
    "    for i in range(df.shape[0]):\n",
    "        \n",
    "        # assign room capacity\n",
    "        if df[room][i] == 2 or df[room][i] == 3:\n",
    "            cap = 90\n",
    "        elif df[room][i] == 4:\n",
    "            cap = 200\n",
    "            \n",
    "        # calculate the occupancy rate and assign to variable 'ratio'\n",
    "        ratio = df[linear_predict][i]/ cap\n",
    "        \n",
    "        # assign category based on ratio\n",
    "        if ratio < 0.13:\n",
    "            cat = 0.0\n",
    "        elif ratio < 0.38:\n",
    "            cat =  0.25\n",
    "        elif ratio < 0.5:\n",
    "            cat =  0.5\n",
    "        elif ratio < 0.88:\n",
    "            cat =  0.75\n",
    "        else:\n",
    "            cat =  1.0\n",
    "        \n",
    "        # set category value in df\n",
    "        df.set_value(i, cat_predict, cat)"
   ]
  },
  {
   "cell_type": "code",
   "execution_count": 188,
   "metadata": {
    "collapsed": true
   },
   "outputs": [],
   "source": [
    "set_occupancy_category(df, 'room', 'prediction_max', 'cat_predict')"
   ]
  },
  {
   "cell_type": "code",
   "execution_count": 189,
   "metadata": {
    "collapsed": false
   },
   "outputs": [
    {
     "data": {
      "text/html": [
       "<div>\n",
       "<table border=\"1\" class=\"dataframe\">\n",
       "  <thead>\n",
       "    <tr style=\"text-align: right;\">\n",
       "      <th></th>\n",
       "      <th>room</th>\n",
       "      <th>event_day</th>\n",
       "      <th>event_hour</th>\n",
       "      <th>ass</th>\n",
       "      <th>auth</th>\n",
       "      <th>occupancy</th>\n",
       "      <th>building_x</th>\n",
       "      <th>module</th>\n",
       "      <th>nb_reg_stud</th>\n",
       "      <th>building_y</th>\n",
       "      <th>est_occupants</th>\n",
       "      <th>prediction_max</th>\n",
       "      <th>cat_predict</th>\n",
       "    </tr>\n",
       "  </thead>\n",
       "  <tbody>\n",
       "    <tr>\n",
       "      <th>0</th>\n",
       "      <td>2</td>\n",
       "      <td>3</td>\n",
       "      <td>9</td>\n",
       "      <td>2.0</td>\n",
       "      <td>2.0</td>\n",
       "      <td>0.0</td>\n",
       "      <td>school of computer science</td>\n",
       "      <td>NaN</td>\n",
       "      <td>NaN</td>\n",
       "      <td>school of computer science</td>\n",
       "      <td>0.0</td>\n",
       "      <td>2.76267</td>\n",
       "      <td>0</td>\n",
       "    </tr>\n",
       "    <tr>\n",
       "      <th>1</th>\n",
       "      <td>2</td>\n",
       "      <td>3</td>\n",
       "      <td>10</td>\n",
       "      <td>29.0</td>\n",
       "      <td>29.0</td>\n",
       "      <td>0.5</td>\n",
       "      <td>school of computer science</td>\n",
       "      <td>COMP30110</td>\n",
       "      <td>45.0</td>\n",
       "      <td>school of computer science</td>\n",
       "      <td>45.0</td>\n",
       "      <td>25.2484</td>\n",
       "      <td>0.25</td>\n",
       "    </tr>\n",
       "    <tr>\n",
       "      <th>2</th>\n",
       "      <td>2</td>\n",
       "      <td>3</td>\n",
       "      <td>11</td>\n",
       "      <td>27.0</td>\n",
       "      <td>27.0</td>\n",
       "      <td>0.5</td>\n",
       "      <td>school of computer science</td>\n",
       "      <td>COMP30260</td>\n",
       "      <td>18.0</td>\n",
       "      <td>school of computer science</td>\n",
       "      <td>45.0</td>\n",
       "      <td>23.5828</td>\n",
       "      <td>0.25</td>\n",
       "    </tr>\n",
       "    <tr>\n",
       "      <th>3</th>\n",
       "      <td>2</td>\n",
       "      <td>3</td>\n",
       "      <td>12</td>\n",
       "      <td>16.0</td>\n",
       "      <td>16.0</td>\n",
       "      <td>0.5</td>\n",
       "      <td>school of computer science</td>\n",
       "      <td>COMP40370</td>\n",
       "      <td>27.0</td>\n",
       "      <td>school of computer science</td>\n",
       "      <td>45.0</td>\n",
       "      <td>14.4219</td>\n",
       "      <td>0.25</td>\n",
       "    </tr>\n",
       "    <tr>\n",
       "      <th>4</th>\n",
       "      <td>2</td>\n",
       "      <td>3</td>\n",
       "      <td>13</td>\n",
       "      <td>13.0</td>\n",
       "      <td>13.0</td>\n",
       "      <td>0.0</td>\n",
       "      <td>school of computer science</td>\n",
       "      <td>NaN</td>\n",
       "      <td>NaN</td>\n",
       "      <td>school of computer science</td>\n",
       "      <td>0.0</td>\n",
       "      <td>11.9235</td>\n",
       "      <td>0.25</td>\n",
       "    </tr>\n",
       "  </tbody>\n",
       "</table>\n",
       "</div>"
      ],
      "text/plain": [
       "   room  event_day  event_hour   ass  auth  occupancy  \\\n",
       "0     2          3           9   2.0   2.0        0.0   \n",
       "1     2          3          10  29.0  29.0        0.5   \n",
       "2     2          3          11  27.0  27.0        0.5   \n",
       "3     2          3          12  16.0  16.0        0.5   \n",
       "4     2          3          13  13.0  13.0        0.0   \n",
       "\n",
       "                   building_x     module  nb_reg_stud  \\\n",
       "0  school of computer science        NaN          NaN   \n",
       "1  school of computer science  COMP30110         45.0   \n",
       "2  school of computer science  COMP30260         18.0   \n",
       "3  school of computer science  COMP40370         27.0   \n",
       "4  school of computer science        NaN          NaN   \n",
       "\n",
       "                   building_y  est_occupants prediction_max cat_predict  \n",
       "0  school of computer science            0.0        2.76267           0  \n",
       "1  school of computer science           45.0        25.2484        0.25  \n",
       "2  school of computer science           45.0        23.5828        0.25  \n",
       "3  school of computer science           45.0        14.4219        0.25  \n",
       "4  school of computer science            0.0        11.9235        0.25  "
      ]
     },
     "execution_count": 189,
     "metadata": {},
     "output_type": "execute_result"
    }
   ],
   "source": [
    "df.head()"
   ]
  },
  {
   "cell_type": "code",
   "execution_count": 190,
   "metadata": {
    "collapsed": false
   },
   "outputs": [
    {
     "data": {
      "text/plain": [
       "0.5972222222222222"
      ]
     },
     "execution_count": 190,
     "metadata": {},
     "output_type": "execute_result"
    }
   ],
   "source": [
    "df['accurate'] = None\n",
    "\n",
    "for i in range(df.shape[0]):\n",
    "    df.set_value(i, 'accurate', 1 if df['occupancy'][i] == df['cat_predict'][i] else 0)\n",
    "\n",
    "accuracy = df['accurate'].sum()/df.shape[0]\n",
    "accuracy"
   ]
  },
  {
   "cell_type": "markdown",
   "metadata": {},
   "source": [
    "# Test with no intercept"
   ]
  },
  {
   "cell_type": "code",
   "execution_count": 192,
   "metadata": {
    "collapsed": false
   },
   "outputs": [
    {
     "data": {
      "text/plain": [
       "Intercept   -10.310480\n",
       "auth          0.832804\n",
       "room          5.703769\n",
       "dtype: float64"
      ]
     },
     "execution_count": 192,
     "metadata": {},
     "output_type": "execute_result"
    }
   ],
   "source": [
    "lm.params"
   ]
  },
  {
   "cell_type": "code",
   "execution_count": 193,
   "metadata": {
    "collapsed": true
   },
   "outputs": [],
   "source": [
    "df['prediction_max'] = None\n",
    "\n",
    "for i in range(df.shape[0]):\n",
    "    df.set_value(i, 'prediction_max', df['auth'][i] * lm.params['auth'] + df['room'][i] * lm.params['room'])"
   ]
  },
  {
   "cell_type": "code",
   "execution_count": 194,
   "metadata": {
    "collapsed": true
   },
   "outputs": [],
   "source": [
    "set_occupancy_category(df, 'room', 'prediction_max', 'cat_predict')"
   ]
  },
  {
   "cell_type": "code",
   "execution_count": 195,
   "metadata": {
    "collapsed": false
   },
   "outputs": [
    {
     "data": {
      "text/plain": [
       "0.4074074074074074"
      ]
     },
     "execution_count": 195,
     "metadata": {},
     "output_type": "execute_result"
    }
   ],
   "source": [
    "df['accurate'] = None\n",
    "\n",
    "for i in range(df.shape[0]):\n",
    "    df.set_value(i, 'accurate', 1 if df['occupancy'][i] == df['cat_predict'][i] else 0)\n",
    "\n",
    "accuracy = df['accurate'].sum()/df.shape[0]\n",
    "accuracy"
   ]
  },
  {
   "cell_type": "code",
   "execution_count": 196,
   "metadata": {
    "collapsed": false
   },
   "outputs": [
    {
     "data": {
      "text/html": [
       "<div>\n",
       "<table border=\"1\" class=\"dataframe\">\n",
       "  <thead>\n",
       "    <tr style=\"text-align: right;\">\n",
       "      <th></th>\n",
       "      <th>room</th>\n",
       "      <th>event_day</th>\n",
       "      <th>event_hour</th>\n",
       "      <th>ass</th>\n",
       "      <th>auth</th>\n",
       "      <th>occupancy</th>\n",
       "      <th>building_x</th>\n",
       "      <th>module</th>\n",
       "      <th>nb_reg_stud</th>\n",
       "      <th>building_y</th>\n",
       "      <th>est_occupants</th>\n",
       "      <th>prediction_max</th>\n",
       "      <th>cat_predict</th>\n",
       "      <th>accurate</th>\n",
       "    </tr>\n",
       "  </thead>\n",
       "  <tbody>\n",
       "    <tr>\n",
       "      <th>0</th>\n",
       "      <td>2</td>\n",
       "      <td>3</td>\n",
       "      <td>9</td>\n",
       "      <td>2.0</td>\n",
       "      <td>2.0</td>\n",
       "      <td>0.0</td>\n",
       "      <td>school of computer science</td>\n",
       "      <td>NaN</td>\n",
       "      <td>NaN</td>\n",
       "      <td>school of computer science</td>\n",
       "      <td>0.0</td>\n",
       "      <td>13.0731</td>\n",
       "      <td>0.25</td>\n",
       "      <td>0</td>\n",
       "    </tr>\n",
       "    <tr>\n",
       "      <th>1</th>\n",
       "      <td>2</td>\n",
       "      <td>3</td>\n",
       "      <td>10</td>\n",
       "      <td>29.0</td>\n",
       "      <td>29.0</td>\n",
       "      <td>0.5</td>\n",
       "      <td>school of computer science</td>\n",
       "      <td>COMP30110</td>\n",
       "      <td>45.0</td>\n",
       "      <td>school of computer science</td>\n",
       "      <td>45.0</td>\n",
       "      <td>35.5588</td>\n",
       "      <td>0.5</td>\n",
       "      <td>1</td>\n",
       "    </tr>\n",
       "    <tr>\n",
       "      <th>2</th>\n",
       "      <td>2</td>\n",
       "      <td>3</td>\n",
       "      <td>11</td>\n",
       "      <td>27.0</td>\n",
       "      <td>27.0</td>\n",
       "      <td>0.5</td>\n",
       "      <td>school of computer science</td>\n",
       "      <td>COMP30260</td>\n",
       "      <td>18.0</td>\n",
       "      <td>school of computer science</td>\n",
       "      <td>45.0</td>\n",
       "      <td>33.8932</td>\n",
       "      <td>0.25</td>\n",
       "      <td>0</td>\n",
       "    </tr>\n",
       "    <tr>\n",
       "      <th>3</th>\n",
       "      <td>2</td>\n",
       "      <td>3</td>\n",
       "      <td>12</td>\n",
       "      <td>16.0</td>\n",
       "      <td>16.0</td>\n",
       "      <td>0.5</td>\n",
       "      <td>school of computer science</td>\n",
       "      <td>COMP40370</td>\n",
       "      <td>27.0</td>\n",
       "      <td>school of computer science</td>\n",
       "      <td>45.0</td>\n",
       "      <td>24.7324</td>\n",
       "      <td>0.25</td>\n",
       "      <td>0</td>\n",
       "    </tr>\n",
       "    <tr>\n",
       "      <th>4</th>\n",
       "      <td>2</td>\n",
       "      <td>3</td>\n",
       "      <td>13</td>\n",
       "      <td>13.0</td>\n",
       "      <td>13.0</td>\n",
       "      <td>0.0</td>\n",
       "      <td>school of computer science</td>\n",
       "      <td>NaN</td>\n",
       "      <td>NaN</td>\n",
       "      <td>school of computer science</td>\n",
       "      <td>0.0</td>\n",
       "      <td>22.234</td>\n",
       "      <td>0.25</td>\n",
       "      <td>0</td>\n",
       "    </tr>\n",
       "  </tbody>\n",
       "</table>\n",
       "</div>"
      ],
      "text/plain": [
       "   room  event_day  event_hour   ass  auth  occupancy  \\\n",
       "0     2          3           9   2.0   2.0        0.0   \n",
       "1     2          3          10  29.0  29.0        0.5   \n",
       "2     2          3          11  27.0  27.0        0.5   \n",
       "3     2          3          12  16.0  16.0        0.5   \n",
       "4     2          3          13  13.0  13.0        0.0   \n",
       "\n",
       "                   building_x     module  nb_reg_stud  \\\n",
       "0  school of computer science        NaN          NaN   \n",
       "1  school of computer science  COMP30110         45.0   \n",
       "2  school of computer science  COMP30260         18.0   \n",
       "3  school of computer science  COMP40370         27.0   \n",
       "4  school of computer science        NaN          NaN   \n",
       "\n",
       "                   building_y  est_occupants prediction_max cat_predict  \\\n",
       "0  school of computer science            0.0        13.0731        0.25   \n",
       "1  school of computer science           45.0        35.5588         0.5   \n",
       "2  school of computer science           45.0        33.8932        0.25   \n",
       "3  school of computer science           45.0        24.7324        0.25   \n",
       "4  school of computer science            0.0         22.234        0.25   \n",
       "\n",
       "  accurate  \n",
       "0        0  \n",
       "1        1  \n",
       "2        0  \n",
       "3        0  \n",
       "4        0  "
      ]
     },
     "execution_count": 196,
     "metadata": {},
     "output_type": "execute_result"
    }
   ],
   "source": [
    "df.head()"
   ]
  },
  {
   "cell_type": "markdown",
   "metadata": {},
   "source": [
    "# Test with 3 categories and intercept"
   ]
  },
  {
   "cell_type": "code",
   "execution_count": 202,
   "metadata": {
    "collapsed": false
   },
   "outputs": [
    {
     "data": {
      "text/html": [
       "<div>\n",
       "<table border=\"1\" class=\"dataframe\">\n",
       "  <thead>\n",
       "    <tr style=\"text-align: right;\">\n",
       "      <th></th>\n",
       "      <th>room</th>\n",
       "      <th>event_day</th>\n",
       "      <th>event_hour</th>\n",
       "      <th>ass</th>\n",
       "      <th>auth</th>\n",
       "      <th>occupancy</th>\n",
       "      <th>building_x</th>\n",
       "      <th>module</th>\n",
       "      <th>nb_reg_stud</th>\n",
       "      <th>building_y</th>\n",
       "      <th>est_occupants</th>\n",
       "      <th>prediction_max</th>\n",
       "      <th>cat_predict</th>\n",
       "      <th>accurate</th>\n",
       "      <th>est_occupants_newcat</th>\n",
       "      <th>prediction_max_newcat</th>\n",
       "      <th>accurate2</th>\n",
       "    </tr>\n",
       "  </thead>\n",
       "  <tbody>\n",
       "    <tr>\n",
       "      <th>0</th>\n",
       "      <td>2</td>\n",
       "      <td>3</td>\n",
       "      <td>9</td>\n",
       "      <td>2.0</td>\n",
       "      <td>2.0</td>\n",
       "      <td>0.0</td>\n",
       "      <td>school of computer science</td>\n",
       "      <td>NaN</td>\n",
       "      <td>NaN</td>\n",
       "      <td>school of computer science</td>\n",
       "      <td>0.0</td>\n",
       "      <td>2.76267</td>\n",
       "      <td>0</td>\n",
       "      <td>0</td>\n",
       "      <td>empty</td>\n",
       "      <td>half</td>\n",
       "      <td>0</td>\n",
       "    </tr>\n",
       "    <tr>\n",
       "      <th>1</th>\n",
       "      <td>2</td>\n",
       "      <td>3</td>\n",
       "      <td>10</td>\n",
       "      <td>29.0</td>\n",
       "      <td>29.0</td>\n",
       "      <td>0.5</td>\n",
       "      <td>school of computer science</td>\n",
       "      <td>COMP30110</td>\n",
       "      <td>45.0</td>\n",
       "      <td>school of computer science</td>\n",
       "      <td>45.0</td>\n",
       "      <td>25.2484</td>\n",
       "      <td>0.25</td>\n",
       "      <td>1</td>\n",
       "      <td>half</td>\n",
       "      <td>half</td>\n",
       "      <td>1</td>\n",
       "    </tr>\n",
       "    <tr>\n",
       "      <th>2</th>\n",
       "      <td>2</td>\n",
       "      <td>3</td>\n",
       "      <td>11</td>\n",
       "      <td>27.0</td>\n",
       "      <td>27.0</td>\n",
       "      <td>0.5</td>\n",
       "      <td>school of computer science</td>\n",
       "      <td>COMP30260</td>\n",
       "      <td>18.0</td>\n",
       "      <td>school of computer science</td>\n",
       "      <td>45.0</td>\n",
       "      <td>23.5828</td>\n",
       "      <td>0.25</td>\n",
       "      <td>0</td>\n",
       "      <td>half</td>\n",
       "      <td>half</td>\n",
       "      <td>1</td>\n",
       "    </tr>\n",
       "    <tr>\n",
       "      <th>3</th>\n",
       "      <td>2</td>\n",
       "      <td>3</td>\n",
       "      <td>12</td>\n",
       "      <td>16.0</td>\n",
       "      <td>16.0</td>\n",
       "      <td>0.5</td>\n",
       "      <td>school of computer science</td>\n",
       "      <td>COMP40370</td>\n",
       "      <td>27.0</td>\n",
       "      <td>school of computer science</td>\n",
       "      <td>45.0</td>\n",
       "      <td>14.4219</td>\n",
       "      <td>0.25</td>\n",
       "      <td>0</td>\n",
       "      <td>half</td>\n",
       "      <td>half</td>\n",
       "      <td>1</td>\n",
       "    </tr>\n",
       "    <tr>\n",
       "      <th>4</th>\n",
       "      <td>2</td>\n",
       "      <td>3</td>\n",
       "      <td>13</td>\n",
       "      <td>13.0</td>\n",
       "      <td>13.0</td>\n",
       "      <td>0.0</td>\n",
       "      <td>school of computer science</td>\n",
       "      <td>NaN</td>\n",
       "      <td>NaN</td>\n",
       "      <td>school of computer science</td>\n",
       "      <td>0.0</td>\n",
       "      <td>11.9235</td>\n",
       "      <td>0.25</td>\n",
       "      <td>0</td>\n",
       "      <td>empty</td>\n",
       "      <td>half</td>\n",
       "      <td>0</td>\n",
       "    </tr>\n",
       "  </tbody>\n",
       "</table>\n",
       "</div>"
      ],
      "text/plain": [
       "   room  event_day  event_hour   ass  auth  occupancy  \\\n",
       "0     2          3           9   2.0   2.0        0.0   \n",
       "1     2          3          10  29.0  29.0        0.5   \n",
       "2     2          3          11  27.0  27.0        0.5   \n",
       "3     2          3          12  16.0  16.0        0.5   \n",
       "4     2          3          13  13.0  13.0        0.0   \n",
       "\n",
       "                   building_x     module  nb_reg_stud  \\\n",
       "0  school of computer science        NaN          NaN   \n",
       "1  school of computer science  COMP30110         45.0   \n",
       "2  school of computer science  COMP30260         18.0   \n",
       "3  school of computer science  COMP40370         27.0   \n",
       "4  school of computer science        NaN          NaN   \n",
       "\n",
       "                   building_y  est_occupants prediction_max cat_predict  \\\n",
       "0  school of computer science            0.0        2.76267           0   \n",
       "1  school of computer science           45.0        25.2484        0.25   \n",
       "2  school of computer science           45.0        23.5828        0.25   \n",
       "3  school of computer science           45.0        14.4219        0.25   \n",
       "4  school of computer science            0.0        11.9235        0.25   \n",
       "\n",
       "  accurate est_occupants_newcat prediction_max_newcat accurate2  \n",
       "0        0                empty                  half         0  \n",
       "1        1                 half                  half         1  \n",
       "2        0                 half                  half         1  \n",
       "3        0                 half                  half         1  \n",
       "4        0                empty                  half         0  "
      ]
     },
     "execution_count": 202,
     "metadata": {},
     "output_type": "execute_result"
    }
   ],
   "source": [
    "df['prediction_max'] = None\n",
    "\n",
    "for i in range(df.shape[0]):\n",
    "    df.set_value(i, 'prediction_max', lm.predict(df)[i])\n",
    "\n",
    "set_occupancy_category(df, 'room', 'prediction_max', 'cat_predict')\n",
    "\n",
    "df.head()"
   ]
  },
  {
   "cell_type": "code",
   "execution_count": 203,
   "metadata": {
    "collapsed": true
   },
   "outputs": [],
   "source": [
    "df['est_occupants_newcat'] = None\n",
    "df['prediction_max_newcat'] = None\n",
    "\n",
    "for i in range(df.shape[0]):\n",
    "    if df['occupancy'][i] == 0.0:\n",
    "        df.set_value(i, 'est_occupants_newcat', 'empty')\n",
    "    elif df['occupancy'][i] == 0.25 or df['occupancy'][i] == 0.5:\n",
    "        df.set_value(i, 'est_occupants_newcat', 'half')\n",
    "    elif df['occupancy'][i] == 0.75 or df['occupancy'][i] == 1.0:\n",
    "        df.set_value(i, 'est_occupants_newcat', 'full')\n",
    "    else:\n",
    "        raise ValueError('wrong occupancy:', df['occupancy'][i])\n",
    "    if df['cat_predict'][i] == 0.0:\n",
    "        df.set_value(i, 'prediction_max_newcat', 'empty')\n",
    "    elif df['cat_predict'][i] == 0.25 or df['cat_predict'][i] == 0.5:\n",
    "        df.set_value(i, 'prediction_max_newcat', 'half')\n",
    "    elif df['cat_predict'][i] == 0.75 or df['cat_predict'][i] == 1.0:\n",
    "        df.set_value(i, 'prediction_max_newcat', 'full')\n",
    "    else:\n",
    "        raise ValueError('wrong occupancy:', df['cat_predict'][i])"
   ]
  },
  {
   "cell_type": "code",
   "execution_count": 204,
   "metadata": {
    "collapsed": false
   },
   "outputs": [
    {
     "data": {
      "text/plain": [
       "0.7453703703703703"
      ]
     },
     "execution_count": 204,
     "metadata": {},
     "output_type": "execute_result"
    }
   ],
   "source": [
    "df['accurate2'] = None\n",
    "\n",
    "for i in range(df.shape[0]):\n",
    "    df.set_value(i, 'accurate2', 1 if df['est_occupants_newcat'][i] == df['prediction_max_newcat'][i] else 0)\n",
    "\n",
    "accuracy2 = df['accurate2'].sum()/df.shape[0]\n",
    "accuracy2"
   ]
  },
  {
   "cell_type": "markdown",
   "metadata": {},
   "source": [
    "# Test with 3 categories and no intercept"
   ]
  },
  {
   "cell_type": "code",
   "execution_count": 207,
   "metadata": {
    "collapsed": true
   },
   "outputs": [],
   "source": [
    "df['prediction_max'] = None\n",
    "\n",
    "for i in range(df.shape[0]):\n",
    "    df.set_value(i, 'prediction_max', df['auth'][i] * lm.params['auth'] + df['room'][i] * lm.params['room'])\n",
    "\n",
    "set_occupancy_category(df, 'room', 'prediction_max', 'cat_predict')"
   ]
  },
  {
   "cell_type": "code",
   "execution_count": 208,
   "metadata": {
    "collapsed": true
   },
   "outputs": [],
   "source": [
    "df['est_occupants_newcat'] = None\n",
    "df['prediction_max_newcat'] = None\n",
    "\n",
    "for i in range(df.shape[0]):\n",
    "    if df['occupancy'][i] == 0.0:\n",
    "        df.set_value(i, 'est_occupants_newcat', 'empty')\n",
    "    elif df['occupancy'][i] == 0.25 or df['occupancy'][i] == 0.5:\n",
    "        df.set_value(i, 'est_occupants_newcat', 'half')\n",
    "    elif df['occupancy'][i] == 0.75 or df['occupancy'][i] == 1.0:\n",
    "        df.set_value(i, 'est_occupants_newcat', 'full')\n",
    "    else:\n",
    "        raise ValueError('wrong occupancy:', df['occupancy'][i])\n",
    "    if df['cat_predict'][i] == 0.0:\n",
    "        df.set_value(i, 'prediction_max_newcat', 'empty')\n",
    "    elif df['cat_predict'][i] == 0.25 or df['cat_predict'][i] == 0.5:\n",
    "        df.set_value(i, 'prediction_max_newcat', 'half')\n",
    "    elif df['cat_predict'][i] == 0.75 or df['cat_predict'][i] == 1.0:\n",
    "        df.set_value(i, 'prediction_max_newcat', 'full')\n",
    "    else:\n",
    "        raise ValueError('wrong occupancy:', df['cat_predict'][i])"
   ]
  },
  {
   "cell_type": "code",
   "execution_count": 209,
   "metadata": {
    "collapsed": false
   },
   "outputs": [
    {
     "data": {
      "text/plain": [
       "0.6111111111111112"
      ]
     },
     "execution_count": 209,
     "metadata": {},
     "output_type": "execute_result"
    }
   ],
   "source": [
    "df['accurate2'] = None\n",
    "\n",
    "for i in range(df.shape[0]):\n",
    "    df.set_value(i, 'accurate2', 1 if df['est_occupants_newcat'][i] == df['prediction_max_newcat'][i] else 0)\n",
    "\n",
    "accuracy2 = df['accurate2'].sum()/df.shape[0]\n",
    "accuracy2"
   ]
  },
  {
   "cell_type": "code",
   "execution_count": null,
   "metadata": {
    "collapsed": true
   },
   "outputs": [],
   "source": []
  }
 ],
 "metadata": {
  "kernelspec": {
   "display_name": "Python 3",
   "language": "python",
   "name": "python3"
  },
  "language_info": {
   "codemirror_mode": {
    "name": "ipython",
    "version": 3
   },
   "file_extension": ".py",
   "mimetype": "text/x-python",
   "name": "python",
   "nbconvert_exporter": "python",
   "pygments_lexer": "ipython3",
   "version": "3.5.1+"
  }
 },
 "nbformat": 4,
 "nbformat_minor": 0
}
