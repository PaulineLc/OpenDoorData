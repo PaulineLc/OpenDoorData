{
 "cells": [
  {
   "cell_type": "markdown",
   "metadata": {},
   "source": [
    "# Research Practicum"
   ]
  },
  {
   "cell_type": "markdown",
   "metadata": {},
   "source": [
    "This notebook contains a model which uses the max value per hour per day per room."
   ]
  },
  {
   "cell_type": "markdown",
   "metadata": {},
   "source": [
    "<b> GET DATA </b>"
   ]
  },
  {
   "cell_type": "code",
   "execution_count": 109,
   "metadata": {
    "collapsed": true
   },
   "outputs": [],
   "source": [
    "#import pandas package to read and merge csv files\n",
    "import pandas as pd\n",
    "#import csv package for reading from and writing to csv files\n",
    "import csv\n",
    "# Import package numpy for numeric computing\n",
    "import numpy as np\n",
    "# Import package matplotlib for visualisation/plotting\n",
    "import matplotlib.pyplot as plt\n",
    "%matplotlib inline"
   ]
  },
  {
   "cell_type": "markdown",
   "metadata": {},
   "source": [
    "# Get wifi logs data"
   ]
  },
  {
   "cell_type": "code",
   "execution_count": 110,
   "metadata": {
    "collapsed": false
   },
   "outputs": [
    {
     "name": "stdout",
     "output_type": "stream",
     "text": [
      "../cleaned_data/full.csv\n"
     ]
    }
   ],
   "source": [
    "# read data from csv file into a data frame\n",
    "# code is now OS agnostic\n",
    "\n",
    "import os\n",
    "\n",
    "a = '..' # removed slash\n",
    "b = 'cleaned_data' # removed slash\n",
    "c = 'full.csv'\n",
    "\n",
    "print(os.path.join(a, b, c))\n",
    "\n",
    "wifi_df = pd.read_csv(os.path.join(a, b, c), names=['room', 'event_time', 'ass', 'auth'])"
   ]
  },
  {
   "cell_type": "code",
   "execution_count": 111,
   "metadata": {
    "collapsed": false
   },
   "outputs": [
    {
     "data": {
      "text/html": [
       "<div>\n",
       "<table border=\"1\" class=\"dataframe\">\n",
       "  <thead>\n",
       "    <tr style=\"text-align: right;\">\n",
       "      <th></th>\n",
       "      <th>room</th>\n",
       "      <th>event_time</th>\n",
       "      <th>ass</th>\n",
       "      <th>auth</th>\n",
       "    </tr>\n",
       "  </thead>\n",
       "  <tbody>\n",
       "    <tr>\n",
       "      <th>0</th>\n",
       "      <td>Belfield &gt; Computer Science &gt; B-002</td>\n",
       "      <td>Mon Nov 02 20:32:06 GMT+00:00 2015</td>\n",
       "      <td>0</td>\n",
       "      <td>0</td>\n",
       "    </tr>\n",
       "    <tr>\n",
       "      <th>1</th>\n",
       "      <td>Belfield &gt; Computer Science &gt; B-002</td>\n",
       "      <td>Mon Nov 02 20:37:10 GMT+00:00 2015</td>\n",
       "      <td>0</td>\n",
       "      <td>0</td>\n",
       "    </tr>\n",
       "    <tr>\n",
       "      <th>2</th>\n",
       "      <td>Belfield &gt; Computer Science &gt; B-002</td>\n",
       "      <td>Mon Nov 02 20:42:12 GMT+00:00 2015</td>\n",
       "      <td>0</td>\n",
       "      <td>0</td>\n",
       "    </tr>\n",
       "    <tr>\n",
       "      <th>3</th>\n",
       "      <td>Belfield &gt; Computer Science &gt; B-002</td>\n",
       "      <td>Mon Nov 02 20:47:14 GMT+00:00 2015</td>\n",
       "      <td>0</td>\n",
       "      <td>0</td>\n",
       "    </tr>\n",
       "    <tr>\n",
       "      <th>4</th>\n",
       "      <td>Belfield &gt; Computer Science &gt; B-002</td>\n",
       "      <td>Mon Nov 02 20:52:11 GMT+00:00 2015</td>\n",
       "      <td>0</td>\n",
       "      <td>0</td>\n",
       "    </tr>\n",
       "  </tbody>\n",
       "</table>\n",
       "</div>"
      ],
      "text/plain": [
       "                                  room                          event_time  \\\n",
       "0  Belfield > Computer Science > B-002  Mon Nov 02 20:32:06 GMT+00:00 2015   \n",
       "1  Belfield > Computer Science > B-002  Mon Nov 02 20:37:10 GMT+00:00 2015   \n",
       "2  Belfield > Computer Science > B-002  Mon Nov 02 20:42:12 GMT+00:00 2015   \n",
       "3  Belfield > Computer Science > B-002  Mon Nov 02 20:47:14 GMT+00:00 2015   \n",
       "4  Belfield > Computer Science > B-002  Mon Nov 02 20:52:11 GMT+00:00 2015   \n",
       "\n",
       "   ass  auth  \n",
       "0    0     0  \n",
       "1    0     0  \n",
       "2    0     0  \n",
       "3    0     0  \n",
       "4    0     0  "
      ]
     },
     "execution_count": 111,
     "metadata": {},
     "output_type": "execute_result"
    }
   ],
   "source": [
    "# check data loaded into data frame correctly\n",
    "wifi_df.head()"
   ]
  },
  {
   "cell_type": "code",
   "execution_count": 112,
   "metadata": {
    "collapsed": false
   },
   "outputs": [
    {
     "data": {
      "text/html": [
       "<div>\n",
       "<table border=\"1\" class=\"dataframe\">\n",
       "  <thead>\n",
       "    <tr style=\"text-align: right;\">\n",
       "      <th></th>\n",
       "      <th>room</th>\n",
       "      <th>event_time</th>\n",
       "      <th>ass</th>\n",
       "      <th>auth</th>\n",
       "    </tr>\n",
       "  </thead>\n",
       "  <tbody>\n",
       "    <tr>\n",
       "      <th>12412</th>\n",
       "      <td>Belfield &gt; Computer Science &gt; B-004</td>\n",
       "      <td>Tue Nov 17 11:01:59 GMT+00:00 2015</td>\n",
       "      <td>18</td>\n",
       "      <td>18</td>\n",
       "    </tr>\n",
       "    <tr>\n",
       "      <th>12413</th>\n",
       "      <td>Belfield &gt; Computer Science &gt; B-004</td>\n",
       "      <td>Tue Nov 17 11:06:37 GMT+00:00 2015</td>\n",
       "      <td>32</td>\n",
       "      <td>32</td>\n",
       "    </tr>\n",
       "    <tr>\n",
       "      <th>12414</th>\n",
       "      <td>Belfield &gt; Computer Science &gt; B-004</td>\n",
       "      <td>Tue Nov 17 11:13:19 GMT+00:00 2015</td>\n",
       "      <td>39</td>\n",
       "      <td>39</td>\n",
       "    </tr>\n",
       "    <tr>\n",
       "      <th>12415</th>\n",
       "      <td>Belfield &gt; Computer Science &gt; B-004</td>\n",
       "      <td>Tue Nov 17 11:21:11 GMT+00:00 2015</td>\n",
       "      <td>42</td>\n",
       "      <td>42</td>\n",
       "    </tr>\n",
       "    <tr>\n",
       "      <th>12416</th>\n",
       "      <td>Belfield &gt; Computer Science &gt; B-004</td>\n",
       "      <td>Tue Nov 17 11:26:07 GMT+00:00 2015</td>\n",
       "      <td>46</td>\n",
       "      <td>46</td>\n",
       "    </tr>\n",
       "  </tbody>\n",
       "</table>\n",
       "</div>"
      ],
      "text/plain": [
       "                                      room  \\\n",
       "12412  Belfield > Computer Science > B-004   \n",
       "12413  Belfield > Computer Science > B-004   \n",
       "12414  Belfield > Computer Science > B-004   \n",
       "12415  Belfield > Computer Science > B-004   \n",
       "12416  Belfield > Computer Science > B-004   \n",
       "\n",
       "                               event_time  ass  auth  \n",
       "12412  Tue Nov 17 11:01:59 GMT+00:00 2015   18    18  \n",
       "12413  Tue Nov 17 11:06:37 GMT+00:00 2015   32    32  \n",
       "12414  Tue Nov 17 11:13:19 GMT+00:00 2015   39    39  \n",
       "12415  Tue Nov 17 11:21:11 GMT+00:00 2015   42    42  \n",
       "12416  Tue Nov 17 11:26:07 GMT+00:00 2015   46    46  "
      ]
     },
     "execution_count": 112,
     "metadata": {},
     "output_type": "execute_result"
    }
   ],
   "source": [
    "# check data loaded into data frame correctly\n",
    "wifi_df.tail()"
   ]
  },
  {
   "cell_type": "markdown",
   "metadata": {},
   "source": [
    "<b> CLEAN DATA </b>"
   ]
  },
  {
   "cell_type": "markdown",
   "metadata": {},
   "source": [
    "Convert timestamp to epoch time."
   ]
  },
  {
   "cell_type": "code",
   "execution_count": 113,
   "metadata": {
    "collapsed": false
   },
   "outputs": [],
   "source": [
    "import time\n",
    "from dateutil.parser import parse\n",
    "\n",
    "def convert_to_epoch(df, column):\n",
    "    '''function that reads in a dataframe with a column containing values in timestamp format and converts those values to epoch forma\n",
    "   \n",
    "    requires module time and parse function from dateutil.parser\n",
    "    \n",
    "    paramaters\n",
    "    ----------\n",
    "    df is a dataframe\n",
    "    column is a string that denotes the name of the column containing value in timestamp format\n",
    "    '''\n",
    "    \n",
    "    #for loop that iterates through each row in the dataframe\n",
    "    for i in range(df.shape[0]):\n",
    "        # variable 'x' is assigned the value from the column and row 'i'\n",
    "        x = df[column][i]\n",
    "        # variable 'y' is assigned the result of variable 'x' passed through the parse method \n",
    "        y = parse(x)\n",
    "        # variable 'epoch' is assigned 'y' value converted to epoch time\n",
    "        epoch = int(time.mktime(y.timetuple()))\n",
    "        # set column value to value of variable 'epoch'\n",
    "        df.set_value(i, column, epoch)\n",
    "    return df"
   ]
  },
  {
   "cell_type": "code",
   "execution_count": 114,
   "metadata": {
    "collapsed": false
   },
   "outputs": [
    {
     "data": {
      "text/html": [
       "<div>\n",
       "<table border=\"1\" class=\"dataframe\">\n",
       "  <thead>\n",
       "    <tr style=\"text-align: right;\">\n",
       "      <th></th>\n",
       "      <th>room</th>\n",
       "      <th>event_time</th>\n",
       "      <th>ass</th>\n",
       "      <th>auth</th>\n",
       "    </tr>\n",
       "  </thead>\n",
       "  <tbody>\n",
       "    <tr>\n",
       "      <th>0</th>\n",
       "      <td>Belfield &gt; Computer Science &gt; B-002</td>\n",
       "      <td>1446496326</td>\n",
       "      <td>0</td>\n",
       "      <td>0</td>\n",
       "    </tr>\n",
       "    <tr>\n",
       "      <th>1</th>\n",
       "      <td>Belfield &gt; Computer Science &gt; B-002</td>\n",
       "      <td>1446496630</td>\n",
       "      <td>0</td>\n",
       "      <td>0</td>\n",
       "    </tr>\n",
       "    <tr>\n",
       "      <th>2</th>\n",
       "      <td>Belfield &gt; Computer Science &gt; B-002</td>\n",
       "      <td>1446496932</td>\n",
       "      <td>0</td>\n",
       "      <td>0</td>\n",
       "    </tr>\n",
       "    <tr>\n",
       "      <th>3</th>\n",
       "      <td>Belfield &gt; Computer Science &gt; B-002</td>\n",
       "      <td>1446497234</td>\n",
       "      <td>0</td>\n",
       "      <td>0</td>\n",
       "    </tr>\n",
       "    <tr>\n",
       "      <th>4</th>\n",
       "      <td>Belfield &gt; Computer Science &gt; B-002</td>\n",
       "      <td>1446497531</td>\n",
       "      <td>0</td>\n",
       "      <td>0</td>\n",
       "    </tr>\n",
       "  </tbody>\n",
       "</table>\n",
       "</div>"
      ],
      "text/plain": [
       "                                  room  event_time  ass  auth\n",
       "0  Belfield > Computer Science > B-002  1446496326    0     0\n",
       "1  Belfield > Computer Science > B-002  1446496630    0     0\n",
       "2  Belfield > Computer Science > B-002  1446496932    0     0\n",
       "3  Belfield > Computer Science > B-002  1446497234    0     0\n",
       "4  Belfield > Computer Science > B-002  1446497531    0     0"
      ]
     },
     "execution_count": 114,
     "metadata": {},
     "output_type": "execute_result"
    }
   ],
   "source": [
    "convert_to_epoch(wifi_df, 'event_time').head()"
   ]
  },
  {
   "cell_type": "markdown",
   "metadata": {},
   "source": [
    "Clean Room Identifiers"
   ]
  },
  {
   "cell_type": "code",
   "execution_count": 115,
   "metadata": {
    "collapsed": true
   },
   "outputs": [],
   "source": [
    "def room_number(df, room_column):\n",
    "    '''function that reads in a dataframe with a column containing room information in the format 'campus > building > roomcode-xxx' \n",
    "    and replaces the values in the column with just the room ID which is the last character of the string in that column.    \n",
    "    '''\n",
    "    # for loop that iterates through each row in the df\n",
    "    for i in range(df.shape[0]):\n",
    "        # selects last character of the string in the room_column which is the room ID\n",
    "        df.set_value(i, room_column, df[room_column][i][-1:])\n",
    "    return df"
   ]
  },
  {
   "cell_type": "code",
   "execution_count": 116,
   "metadata": {
    "collapsed": false
   },
   "outputs": [
    {
     "data": {
      "text/html": [
       "<div>\n",
       "<table border=\"1\" class=\"dataframe\">\n",
       "  <thead>\n",
       "    <tr style=\"text-align: right;\">\n",
       "      <th></th>\n",
       "      <th>room</th>\n",
       "      <th>event_time</th>\n",
       "      <th>ass</th>\n",
       "      <th>auth</th>\n",
       "    </tr>\n",
       "  </thead>\n",
       "  <tbody>\n",
       "    <tr>\n",
       "      <th>0</th>\n",
       "      <td>2</td>\n",
       "      <td>1446496326</td>\n",
       "      <td>0</td>\n",
       "      <td>0</td>\n",
       "    </tr>\n",
       "    <tr>\n",
       "      <th>1</th>\n",
       "      <td>2</td>\n",
       "      <td>1446496630</td>\n",
       "      <td>0</td>\n",
       "      <td>0</td>\n",
       "    </tr>\n",
       "    <tr>\n",
       "      <th>2</th>\n",
       "      <td>2</td>\n",
       "      <td>1446496932</td>\n",
       "      <td>0</td>\n",
       "      <td>0</td>\n",
       "    </tr>\n",
       "    <tr>\n",
       "      <th>3</th>\n",
       "      <td>2</td>\n",
       "      <td>1446497234</td>\n",
       "      <td>0</td>\n",
       "      <td>0</td>\n",
       "    </tr>\n",
       "    <tr>\n",
       "      <th>4</th>\n",
       "      <td>2</td>\n",
       "      <td>1446497531</td>\n",
       "      <td>0</td>\n",
       "      <td>0</td>\n",
       "    </tr>\n",
       "  </tbody>\n",
       "</table>\n",
       "</div>"
      ],
      "text/plain": [
       "  room  event_time  ass  auth\n",
       "0    2  1446496326    0     0\n",
       "1    2  1446496630    0     0\n",
       "2    2  1446496932    0     0\n",
       "3    2  1446497234    0     0\n",
       "4    2  1446497531    0     0"
      ]
     },
     "execution_count": 116,
     "metadata": {},
     "output_type": "execute_result"
    }
   ],
   "source": [
    "room_number(wifi_df, 'room').head()"
   ]
  },
  {
   "cell_type": "markdown",
   "metadata": {},
   "source": [
    "Add building."
   ]
  },
  {
   "cell_type": "code",
   "execution_count": 117,
   "metadata": {
    "collapsed": true
   },
   "outputs": [],
   "source": [
    "wifi_df['building'] = 'school of computer science'"
   ]
  },
  {
   "cell_type": "code",
   "execution_count": 118,
   "metadata": {
    "collapsed": false
   },
   "outputs": [
    {
     "data": {
      "text/html": [
       "<div>\n",
       "<table border=\"1\" class=\"dataframe\">\n",
       "  <thead>\n",
       "    <tr style=\"text-align: right;\">\n",
       "      <th></th>\n",
       "      <th>room</th>\n",
       "      <th>event_time</th>\n",
       "      <th>ass</th>\n",
       "      <th>auth</th>\n",
       "      <th>building</th>\n",
       "    </tr>\n",
       "  </thead>\n",
       "  <tbody>\n",
       "    <tr>\n",
       "      <th>0</th>\n",
       "      <td>2</td>\n",
       "      <td>1446496326</td>\n",
       "      <td>0</td>\n",
       "      <td>0</td>\n",
       "      <td>school of computer science</td>\n",
       "    </tr>\n",
       "    <tr>\n",
       "      <th>1</th>\n",
       "      <td>2</td>\n",
       "      <td>1446496630</td>\n",
       "      <td>0</td>\n",
       "      <td>0</td>\n",
       "      <td>school of computer science</td>\n",
       "    </tr>\n",
       "    <tr>\n",
       "      <th>2</th>\n",
       "      <td>2</td>\n",
       "      <td>1446496932</td>\n",
       "      <td>0</td>\n",
       "      <td>0</td>\n",
       "      <td>school of computer science</td>\n",
       "    </tr>\n",
       "    <tr>\n",
       "      <th>3</th>\n",
       "      <td>2</td>\n",
       "      <td>1446497234</td>\n",
       "      <td>0</td>\n",
       "      <td>0</td>\n",
       "      <td>school of computer science</td>\n",
       "    </tr>\n",
       "    <tr>\n",
       "      <th>4</th>\n",
       "      <td>2</td>\n",
       "      <td>1446497531</td>\n",
       "      <td>0</td>\n",
       "      <td>0</td>\n",
       "      <td>school of computer science</td>\n",
       "    </tr>\n",
       "  </tbody>\n",
       "</table>\n",
       "</div>"
      ],
      "text/plain": [
       "  room  event_time  ass  auth                    building\n",
       "0    2  1446496326    0     0  school of computer science\n",
       "1    2  1446496630    0     0  school of computer science\n",
       "2    2  1446496932    0     0  school of computer science\n",
       "3    2  1446497234    0     0  school of computer science\n",
       "4    2  1446497531    0     0  school of computer science"
      ]
     },
     "execution_count": 118,
     "metadata": {},
     "output_type": "execute_result"
    }
   ],
   "source": [
    "wifi_df.head()"
   ]
  },
  {
   "cell_type": "markdown",
   "metadata": {},
   "source": [
    "# Get occupancy data"
   ]
  },
  {
   "cell_type": "code",
   "execution_count": 119,
   "metadata": {
    "collapsed": false
   },
   "outputs": [
    {
     "name": "stdout",
     "output_type": "stream",
     "text": [
      "../cleaned_data/survey_data.csv\n"
     ]
    }
   ],
   "source": [
    "# put survey data in a dataframe\n",
    "\n",
    "a = '..' # removed slash\n",
    "b = 'cleaned_data' # removed slash\n",
    "c = 'survey_data.csv'\n",
    "\n",
    "print(os.path.join(a, b, c))\n",
    "\n",
    "occupancy_df = pd.read_csv(os.path.join(a, b, c))"
   ]
  },
  {
   "cell_type": "code",
   "execution_count": 120,
   "metadata": {
    "collapsed": false
   },
   "outputs": [
    {
     "data": {
      "text/html": [
       "<div>\n",
       "<table border=\"1\" class=\"dataframe\">\n",
       "  <thead>\n",
       "    <tr style=\"text-align: right;\">\n",
       "      <th></th>\n",
       "      <th>Unnamed: 0</th>\n",
       "      <th>room</th>\n",
       "      <th>event_time</th>\n",
       "      <th>occupancy</th>\n",
       "      <th>building</th>\n",
       "    </tr>\n",
       "  </thead>\n",
       "  <tbody>\n",
       "    <tr>\n",
       "      <th>0</th>\n",
       "      <td>0</td>\n",
       "      <td>4</td>\n",
       "      <td>1446454800</td>\n",
       "      <td>0.25</td>\n",
       "      <td>school of computer science</td>\n",
       "    </tr>\n",
       "    <tr>\n",
       "      <th>1</th>\n",
       "      <td>1</td>\n",
       "      <td>2</td>\n",
       "      <td>1446454800</td>\n",
       "      <td>0.25</td>\n",
       "      <td>school of computer science</td>\n",
       "    </tr>\n",
       "    <tr>\n",
       "      <th>2</th>\n",
       "      <td>2</td>\n",
       "      <td>3</td>\n",
       "      <td>1446454800</td>\n",
       "      <td>0.25</td>\n",
       "      <td>school of computer science</td>\n",
       "    </tr>\n",
       "    <tr>\n",
       "      <th>3</th>\n",
       "      <td>3</td>\n",
       "      <td>4</td>\n",
       "      <td>1446458400</td>\n",
       "      <td>0.50</td>\n",
       "      <td>school of computer science</td>\n",
       "    </tr>\n",
       "    <tr>\n",
       "      <th>4</th>\n",
       "      <td>4</td>\n",
       "      <td>2</td>\n",
       "      <td>1446458400</td>\n",
       "      <td>0.50</td>\n",
       "      <td>school of computer science</td>\n",
       "    </tr>\n",
       "  </tbody>\n",
       "</table>\n",
       "</div>"
      ],
      "text/plain": [
       "   Unnamed: 0  room  event_time  occupancy                    building\n",
       "0           0     4  1446454800       0.25  school of computer science\n",
       "1           1     2  1446454800       0.25  school of computer science\n",
       "2           2     3  1446454800       0.25  school of computer science\n",
       "3           3     4  1446458400       0.50  school of computer science\n",
       "4           4     2  1446458400       0.50  school of computer science"
      ]
     },
     "execution_count": 120,
     "metadata": {},
     "output_type": "execute_result"
    }
   ],
   "source": [
    "occupancy_df.head()"
   ]
  },
  {
   "cell_type": "code",
   "execution_count": 121,
   "metadata": {
    "collapsed": false
   },
   "outputs": [],
   "source": [
    "# delete column 'Unnamed: 0'\n",
    "del occupancy_df['Unnamed: 0']"
   ]
  },
  {
   "cell_type": "code",
   "execution_count": 122,
   "metadata": {
    "collapsed": false
   },
   "outputs": [
    {
     "data": {
      "text/html": [
       "<div>\n",
       "<table border=\"1\" class=\"dataframe\">\n",
       "  <thead>\n",
       "    <tr style=\"text-align: right;\">\n",
       "      <th></th>\n",
       "      <th>room</th>\n",
       "      <th>event_time</th>\n",
       "      <th>occupancy</th>\n",
       "      <th>building</th>\n",
       "    </tr>\n",
       "  </thead>\n",
       "  <tbody>\n",
       "    <tr>\n",
       "      <th>0</th>\n",
       "      <td>4</td>\n",
       "      <td>1446454800</td>\n",
       "      <td>0.25</td>\n",
       "      <td>school of computer science</td>\n",
       "    </tr>\n",
       "    <tr>\n",
       "      <th>1</th>\n",
       "      <td>2</td>\n",
       "      <td>1446454800</td>\n",
       "      <td>0.25</td>\n",
       "      <td>school of computer science</td>\n",
       "    </tr>\n",
       "    <tr>\n",
       "      <th>2</th>\n",
       "      <td>3</td>\n",
       "      <td>1446454800</td>\n",
       "      <td>0.25</td>\n",
       "      <td>school of computer science</td>\n",
       "    </tr>\n",
       "    <tr>\n",
       "      <th>3</th>\n",
       "      <td>4</td>\n",
       "      <td>1446458400</td>\n",
       "      <td>0.50</td>\n",
       "      <td>school of computer science</td>\n",
       "    </tr>\n",
       "    <tr>\n",
       "      <th>4</th>\n",
       "      <td>2</td>\n",
       "      <td>1446458400</td>\n",
       "      <td>0.50</td>\n",
       "      <td>school of computer science</td>\n",
       "    </tr>\n",
       "  </tbody>\n",
       "</table>\n",
       "</div>"
      ],
      "text/plain": [
       "   room  event_time  occupancy                    building\n",
       "0     4  1446454800       0.25  school of computer science\n",
       "1     2  1446454800       0.25  school of computer science\n",
       "2     3  1446454800       0.25  school of computer science\n",
       "3     4  1446458400       0.50  school of computer science\n",
       "4     2  1446458400       0.50  school of computer science"
      ]
     },
     "execution_count": 122,
     "metadata": {},
     "output_type": "execute_result"
    }
   ],
   "source": [
    "occupancy_df.head()"
   ]
  },
  {
   "cell_type": "markdown",
   "metadata": {},
   "source": [
    "Convert EPCOH time into human-readable format."
   ]
  },
  {
   "cell_type": "code",
   "execution_count": 123,
   "metadata": {
    "collapsed": false
   },
   "outputs": [],
   "source": [
    "# convert 'event_time' values from EPOCH to DATETIME\n",
    "wifi_df['event_time'] = pd.to_datetime(wifi_df.event_time, unit='s')\n",
    "# use event_time as dataframe index \n",
    "wifi_df.set_index('event_time', inplace=True)"
   ]
  },
  {
   "cell_type": "code",
   "execution_count": 124,
   "metadata": {
    "collapsed": false
   },
   "outputs": [
    {
     "data": {
      "text/html": [
       "<div>\n",
       "<table border=\"1\" class=\"dataframe\">\n",
       "  <thead>\n",
       "    <tr style=\"text-align: right;\">\n",
       "      <th></th>\n",
       "      <th>room</th>\n",
       "      <th>ass</th>\n",
       "      <th>auth</th>\n",
       "      <th>building</th>\n",
       "    </tr>\n",
       "    <tr>\n",
       "      <th>event_time</th>\n",
       "      <th></th>\n",
       "      <th></th>\n",
       "      <th></th>\n",
       "      <th></th>\n",
       "    </tr>\n",
       "  </thead>\n",
       "  <tbody>\n",
       "    <tr>\n",
       "      <th>2015-11-02 20:32:06</th>\n",
       "      <td>2</td>\n",
       "      <td>0</td>\n",
       "      <td>0</td>\n",
       "      <td>school of computer science</td>\n",
       "    </tr>\n",
       "    <tr>\n",
       "      <th>2015-11-02 20:37:10</th>\n",
       "      <td>2</td>\n",
       "      <td>0</td>\n",
       "      <td>0</td>\n",
       "      <td>school of computer science</td>\n",
       "    </tr>\n",
       "    <tr>\n",
       "      <th>2015-11-02 20:42:12</th>\n",
       "      <td>2</td>\n",
       "      <td>0</td>\n",
       "      <td>0</td>\n",
       "      <td>school of computer science</td>\n",
       "    </tr>\n",
       "    <tr>\n",
       "      <th>2015-11-02 20:47:14</th>\n",
       "      <td>2</td>\n",
       "      <td>0</td>\n",
       "      <td>0</td>\n",
       "      <td>school of computer science</td>\n",
       "    </tr>\n",
       "    <tr>\n",
       "      <th>2015-11-02 20:52:11</th>\n",
       "      <td>2</td>\n",
       "      <td>0</td>\n",
       "      <td>0</td>\n",
       "      <td>school of computer science</td>\n",
       "    </tr>\n",
       "  </tbody>\n",
       "</table>\n",
       "</div>"
      ],
      "text/plain": [
       "                    room  ass  auth                    building\n",
       "event_time                                                     \n",
       "2015-11-02 20:32:06    2    0     0  school of computer science\n",
       "2015-11-02 20:37:10    2    0     0  school of computer science\n",
       "2015-11-02 20:42:12    2    0     0  school of computer science\n",
       "2015-11-02 20:47:14    2    0     0  school of computer science\n",
       "2015-11-02 20:52:11    2    0     0  school of computer science"
      ]
     },
     "execution_count": 124,
     "metadata": {},
     "output_type": "execute_result"
    }
   ],
   "source": [
    "wifi_df.head()"
   ]
  },
  {
   "cell_type": "code",
   "execution_count": 125,
   "metadata": {
    "collapsed": true
   },
   "outputs": [],
   "source": [
    "# create two new columns, event_hour and event_day\n",
    "wifi_df['event_hour'] = wifi_df.index.hour\n",
    "wifi_df['event_day'] = wifi_df.index.day"
   ]
  },
  {
   "cell_type": "code",
   "execution_count": 126,
   "metadata": {
    "collapsed": false
   },
   "outputs": [
    {
     "data": {
      "text/html": [
       "<div>\n",
       "<table border=\"1\" class=\"dataframe\">\n",
       "  <thead>\n",
       "    <tr style=\"text-align: right;\">\n",
       "      <th></th>\n",
       "      <th>room</th>\n",
       "      <th>ass</th>\n",
       "      <th>auth</th>\n",
       "      <th>building</th>\n",
       "      <th>event_hour</th>\n",
       "      <th>event_day</th>\n",
       "    </tr>\n",
       "    <tr>\n",
       "      <th>event_time</th>\n",
       "      <th></th>\n",
       "      <th></th>\n",
       "      <th></th>\n",
       "      <th></th>\n",
       "      <th></th>\n",
       "      <th></th>\n",
       "    </tr>\n",
       "  </thead>\n",
       "  <tbody>\n",
       "    <tr>\n",
       "      <th>2015-11-02 20:32:06</th>\n",
       "      <td>2</td>\n",
       "      <td>0</td>\n",
       "      <td>0</td>\n",
       "      <td>school of computer science</td>\n",
       "      <td>20</td>\n",
       "      <td>2</td>\n",
       "    </tr>\n",
       "    <tr>\n",
       "      <th>2015-11-02 20:37:10</th>\n",
       "      <td>2</td>\n",
       "      <td>0</td>\n",
       "      <td>0</td>\n",
       "      <td>school of computer science</td>\n",
       "      <td>20</td>\n",
       "      <td>2</td>\n",
       "    </tr>\n",
       "    <tr>\n",
       "      <th>2015-11-02 20:42:12</th>\n",
       "      <td>2</td>\n",
       "      <td>0</td>\n",
       "      <td>0</td>\n",
       "      <td>school of computer science</td>\n",
       "      <td>20</td>\n",
       "      <td>2</td>\n",
       "    </tr>\n",
       "    <tr>\n",
       "      <th>2015-11-02 20:47:14</th>\n",
       "      <td>2</td>\n",
       "      <td>0</td>\n",
       "      <td>0</td>\n",
       "      <td>school of computer science</td>\n",
       "      <td>20</td>\n",
       "      <td>2</td>\n",
       "    </tr>\n",
       "    <tr>\n",
       "      <th>2015-11-02 20:52:11</th>\n",
       "      <td>2</td>\n",
       "      <td>0</td>\n",
       "      <td>0</td>\n",
       "      <td>school of computer science</td>\n",
       "      <td>20</td>\n",
       "      <td>2</td>\n",
       "    </tr>\n",
       "  </tbody>\n",
       "</table>\n",
       "</div>"
      ],
      "text/plain": [
       "                    room  ass  auth                    building  event_hour  \\\n",
       "event_time                                                                    \n",
       "2015-11-02 20:32:06    2    0     0  school of computer science          20   \n",
       "2015-11-02 20:37:10    2    0     0  school of computer science          20   \n",
       "2015-11-02 20:42:12    2    0     0  school of computer science          20   \n",
       "2015-11-02 20:47:14    2    0     0  school of computer science          20   \n",
       "2015-11-02 20:52:11    2    0     0  school of computer science          20   \n",
       "\n",
       "                     event_day  \n",
       "event_time                      \n",
       "2015-11-02 20:32:06          2  \n",
       "2015-11-02 20:37:10          2  \n",
       "2015-11-02 20:42:12          2  \n",
       "2015-11-02 20:47:14          2  \n",
       "2015-11-02 20:52:11          2  "
      ]
     },
     "execution_count": 126,
     "metadata": {},
     "output_type": "execute_result"
    }
   ],
   "source": [
    "wifi_df.head()"
   ]
  },
  {
   "cell_type": "code",
   "execution_count": 127,
   "metadata": {
    "collapsed": false
   },
   "outputs": [],
   "source": [
    "# convert 'event_time' values from EPOCH to DATETIME\n",
    "occupancy_df['event_time'] = pd.to_datetime(occupancy_df.event_time, unit='s')\n",
    "# use event_time as dataframe index \n",
    "occupancy_df.set_index('event_time', inplace=True)"
   ]
  },
  {
   "cell_type": "code",
   "execution_count": 128,
   "metadata": {
    "collapsed": false
   },
   "outputs": [
    {
     "data": {
      "text/html": [
       "<div>\n",
       "<table border=\"1\" class=\"dataframe\">\n",
       "  <thead>\n",
       "    <tr style=\"text-align: right;\">\n",
       "      <th></th>\n",
       "      <th>room</th>\n",
       "      <th>occupancy</th>\n",
       "      <th>building</th>\n",
       "    </tr>\n",
       "    <tr>\n",
       "      <th>event_time</th>\n",
       "      <th></th>\n",
       "      <th></th>\n",
       "      <th></th>\n",
       "    </tr>\n",
       "  </thead>\n",
       "  <tbody>\n",
       "    <tr>\n",
       "      <th>2015-11-02 09:00:00</th>\n",
       "      <td>4</td>\n",
       "      <td>0.25</td>\n",
       "      <td>school of computer science</td>\n",
       "    </tr>\n",
       "    <tr>\n",
       "      <th>2015-11-02 09:00:00</th>\n",
       "      <td>2</td>\n",
       "      <td>0.25</td>\n",
       "      <td>school of computer science</td>\n",
       "    </tr>\n",
       "    <tr>\n",
       "      <th>2015-11-02 09:00:00</th>\n",
       "      <td>3</td>\n",
       "      <td>0.25</td>\n",
       "      <td>school of computer science</td>\n",
       "    </tr>\n",
       "    <tr>\n",
       "      <th>2015-11-02 10:00:00</th>\n",
       "      <td>4</td>\n",
       "      <td>0.50</td>\n",
       "      <td>school of computer science</td>\n",
       "    </tr>\n",
       "    <tr>\n",
       "      <th>2015-11-02 10:00:00</th>\n",
       "      <td>2</td>\n",
       "      <td>0.50</td>\n",
       "      <td>school of computer science</td>\n",
       "    </tr>\n",
       "  </tbody>\n",
       "</table>\n",
       "</div>"
      ],
      "text/plain": [
       "                     room  occupancy                    building\n",
       "event_time                                                      \n",
       "2015-11-02 09:00:00     4       0.25  school of computer science\n",
       "2015-11-02 09:00:00     2       0.25  school of computer science\n",
       "2015-11-02 09:00:00     3       0.25  school of computer science\n",
       "2015-11-02 10:00:00     4       0.50  school of computer science\n",
       "2015-11-02 10:00:00     2       0.50  school of computer science"
      ]
     },
     "execution_count": 128,
     "metadata": {},
     "output_type": "execute_result"
    }
   ],
   "source": [
    "occupancy_df.head()"
   ]
  },
  {
   "cell_type": "code",
   "execution_count": 129,
   "metadata": {
    "collapsed": true
   },
   "outputs": [],
   "source": [
    "# create two new columns, event_hour and event_day\n",
    "occupancy_df['event_hour'] = occupancy_df.index.hour\n",
    "occupancy_df['event_day'] = occupancy_df.index.day"
   ]
  },
  {
   "cell_type": "code",
   "execution_count": 130,
   "metadata": {
    "collapsed": false
   },
   "outputs": [
    {
     "data": {
      "text/html": [
       "<div>\n",
       "<table border=\"1\" class=\"dataframe\">\n",
       "  <thead>\n",
       "    <tr style=\"text-align: right;\">\n",
       "      <th></th>\n",
       "      <th>room</th>\n",
       "      <th>occupancy</th>\n",
       "      <th>building</th>\n",
       "      <th>event_hour</th>\n",
       "      <th>event_day</th>\n",
       "    </tr>\n",
       "    <tr>\n",
       "      <th>event_time</th>\n",
       "      <th></th>\n",
       "      <th></th>\n",
       "      <th></th>\n",
       "      <th></th>\n",
       "      <th></th>\n",
       "    </tr>\n",
       "  </thead>\n",
       "  <tbody>\n",
       "    <tr>\n",
       "      <th>2015-11-02 09:00:00</th>\n",
       "      <td>4</td>\n",
       "      <td>0.25</td>\n",
       "      <td>school of computer science</td>\n",
       "      <td>9</td>\n",
       "      <td>2</td>\n",
       "    </tr>\n",
       "    <tr>\n",
       "      <th>2015-11-02 09:00:00</th>\n",
       "      <td>2</td>\n",
       "      <td>0.25</td>\n",
       "      <td>school of computer science</td>\n",
       "      <td>9</td>\n",
       "      <td>2</td>\n",
       "    </tr>\n",
       "    <tr>\n",
       "      <th>2015-11-02 09:00:00</th>\n",
       "      <td>3</td>\n",
       "      <td>0.25</td>\n",
       "      <td>school of computer science</td>\n",
       "      <td>9</td>\n",
       "      <td>2</td>\n",
       "    </tr>\n",
       "    <tr>\n",
       "      <th>2015-11-02 10:00:00</th>\n",
       "      <td>4</td>\n",
       "      <td>0.50</td>\n",
       "      <td>school of computer science</td>\n",
       "      <td>10</td>\n",
       "      <td>2</td>\n",
       "    </tr>\n",
       "    <tr>\n",
       "      <th>2015-11-02 10:00:00</th>\n",
       "      <td>2</td>\n",
       "      <td>0.50</td>\n",
       "      <td>school of computer science</td>\n",
       "      <td>10</td>\n",
       "      <td>2</td>\n",
       "    </tr>\n",
       "  </tbody>\n",
       "</table>\n",
       "</div>"
      ],
      "text/plain": [
       "                     room  occupancy                    building  event_hour  \\\n",
       "event_time                                                                     \n",
       "2015-11-02 09:00:00     4       0.25  school of computer science           9   \n",
       "2015-11-02 09:00:00     2       0.25  school of computer science           9   \n",
       "2015-11-02 09:00:00     3       0.25  school of computer science           9   \n",
       "2015-11-02 10:00:00     4       0.50  school of computer science          10   \n",
       "2015-11-02 10:00:00     2       0.50  school of computer science          10   \n",
       "\n",
       "                     event_day  \n",
       "event_time                      \n",
       "2015-11-02 09:00:00          2  \n",
       "2015-11-02 09:00:00          2  \n",
       "2015-11-02 09:00:00          2  \n",
       "2015-11-02 10:00:00          2  \n",
       "2015-11-02 10:00:00          2  "
      ]
     },
     "execution_count": 130,
     "metadata": {},
     "output_type": "execute_result"
    }
   ],
   "source": [
    "occupancy_df.head()"
   ]
  },
  {
   "cell_type": "markdown",
   "metadata": {},
   "source": [
    "# Get timetable data"
   ]
  },
  {
   "cell_type": "code",
   "execution_count": 131,
   "metadata": {
    "collapsed": false
   },
   "outputs": [
    {
     "name": "stdout",
     "output_type": "stream",
     "text": [
      "../cleaned_data/timetable.csv\n"
     ]
    }
   ],
   "source": [
    "# read data from csv file into a data frame\n",
    "# code is now OS agnostic\n",
    "\n",
    "import os\n",
    "\n",
    "a = '..' # removed slash\n",
    "b = 'cleaned_data' # removed slash\n",
    "c = 'timetable.csv'\n",
    "\n",
    "print(os.path.join(a, b, c))\n",
    "\n",
    "timetable_df = pd.read_csv(os.path.join(a, b, c))"
   ]
  },
  {
   "cell_type": "code",
   "execution_count": 132,
   "metadata": {
    "collapsed": false
   },
   "outputs": [
    {
     "data": {
      "text/html": [
       "<div>\n",
       "<table border=\"1\" class=\"dataframe\">\n",
       "  <thead>\n",
       "    <tr style=\"text-align: right;\">\n",
       "      <th></th>\n",
       "      <th>room</th>\n",
       "      <th>module</th>\n",
       "      <th>nb_reg_stud</th>\n",
       "      <th>building</th>\n",
       "      <th>event_hour</th>\n",
       "      <th>event_day</th>\n",
       "    </tr>\n",
       "    <tr>\n",
       "      <th>event_time</th>\n",
       "      <th></th>\n",
       "      <th></th>\n",
       "      <th></th>\n",
       "      <th></th>\n",
       "      <th></th>\n",
       "      <th></th>\n",
       "    </tr>\n",
       "  </thead>\n",
       "  <tbody>\n",
       "    <tr>\n",
       "      <th>2015-11-02 09:00:00</th>\n",
       "      <td>2</td>\n",
       "      <td>COMP30190</td>\n",
       "      <td>29.0</td>\n",
       "      <td>school of computer science</td>\n",
       "      <td>9</td>\n",
       "      <td>2</td>\n",
       "    </tr>\n",
       "    <tr>\n",
       "      <th>2015-11-03 09:00:00</th>\n",
       "      <td>2</td>\n",
       "      <td>NaN</td>\n",
       "      <td>NaN</td>\n",
       "      <td>school of computer science</td>\n",
       "      <td>9</td>\n",
       "      <td>3</td>\n",
       "    </tr>\n",
       "    <tr>\n",
       "      <th>2015-11-04 09:00:00</th>\n",
       "      <td>2</td>\n",
       "      <td>COMP30190</td>\n",
       "      <td>29.0</td>\n",
       "      <td>school of computer science</td>\n",
       "      <td>9</td>\n",
       "      <td>4</td>\n",
       "    </tr>\n",
       "    <tr>\n",
       "      <th>2015-11-05 09:00:00</th>\n",
       "      <td>2</td>\n",
       "      <td>NaN</td>\n",
       "      <td>NaN</td>\n",
       "      <td>school of computer science</td>\n",
       "      <td>9</td>\n",
       "      <td>5</td>\n",
       "    </tr>\n",
       "    <tr>\n",
       "      <th>2015-11-06 09:00:00</th>\n",
       "      <td>2</td>\n",
       "      <td>COMP30220</td>\n",
       "      <td>38.0</td>\n",
       "      <td>school of computer science</td>\n",
       "      <td>9</td>\n",
       "      <td>6</td>\n",
       "    </tr>\n",
       "  </tbody>\n",
       "</table>\n",
       "</div>"
      ],
      "text/plain": [
       "                     room     module  nb_reg_stud                    building  \\\n",
       "event_time                                                                      \n",
       "2015-11-02 09:00:00     2  COMP30190         29.0  school of computer science   \n",
       "2015-11-03 09:00:00     2        NaN          NaN  school of computer science   \n",
       "2015-11-04 09:00:00     2  COMP30190         29.0  school of computer science   \n",
       "2015-11-05 09:00:00     2        NaN          NaN  school of computer science   \n",
       "2015-11-06 09:00:00     2  COMP30220         38.0  school of computer science   \n",
       "\n",
       "                     event_hour  event_day  \n",
       "event_time                                  \n",
       "2015-11-02 09:00:00           9          2  \n",
       "2015-11-03 09:00:00           9          3  \n",
       "2015-11-04 09:00:00           9          4  \n",
       "2015-11-05 09:00:00           9          5  \n",
       "2015-11-06 09:00:00           9          6  "
      ]
     },
     "execution_count": 132,
     "metadata": {},
     "output_type": "execute_result"
    }
   ],
   "source": [
    "del timetable_df['Unnamed: 0']\n",
    "\n",
    "# convert 'event_time' values from EPOCH to DATETIME\n",
    "timetable_df['event_time'] = pd.to_datetime(timetable_df.event_time, unit='s')\n",
    "# use event_time as dataframe index \n",
    "timetable_df.set_index('event_time', inplace=True)\n",
    "\n",
    "# create two new columns, event_hour and event_day\n",
    "timetable_df['event_hour'] = timetable_df.index.hour\n",
    "timetable_df['event_day'] = timetable_df.index.day\n",
    "\n",
    "timetable_df.head()"
   ]
  },
  {
   "cell_type": "markdown",
   "metadata": {},
   "source": [
    "# Merge data"
   ]
  },
  {
   "cell_type": "markdown",
   "metadata": {
    "collapsed": true
   },
   "source": [
    "Survey data contains one recorded value per room, per day, per hour. Here, we take the max reading per hour, per day, per room."
   ]
  },
  {
   "cell_type": "code",
   "execution_count": 133,
   "metadata": {
    "collapsed": false
   },
   "outputs": [],
   "source": [
    "df_max_conn = wifi_df.groupby(['room', 'event_day', 'event_hour'], as_index=False).median()"
   ]
  },
  {
   "cell_type": "code",
   "execution_count": 134,
   "metadata": {
    "collapsed": false
   },
   "outputs": [
    {
     "data": {
      "text/html": [
       "<div>\n",
       "<table border=\"1\" class=\"dataframe\">\n",
       "  <thead>\n",
       "    <tr style=\"text-align: right;\">\n",
       "      <th></th>\n",
       "      <th>room</th>\n",
       "      <th>event_day</th>\n",
       "      <th>event_hour</th>\n",
       "      <th>ass</th>\n",
       "      <th>auth</th>\n",
       "    </tr>\n",
       "  </thead>\n",
       "  <tbody>\n",
       "    <tr>\n",
       "      <th>1051</th>\n",
       "      <td>4</td>\n",
       "      <td>17</td>\n",
       "      <td>7</td>\n",
       "      <td>0.0</td>\n",
       "      <td>0.0</td>\n",
       "    </tr>\n",
       "    <tr>\n",
       "      <th>1052</th>\n",
       "      <td>4</td>\n",
       "      <td>17</td>\n",
       "      <td>8</td>\n",
       "      <td>0.0</td>\n",
       "      <td>0.0</td>\n",
       "    </tr>\n",
       "    <tr>\n",
       "      <th>1053</th>\n",
       "      <td>4</td>\n",
       "      <td>17</td>\n",
       "      <td>9</td>\n",
       "      <td>72.0</td>\n",
       "      <td>72.0</td>\n",
       "    </tr>\n",
       "    <tr>\n",
       "      <th>1054</th>\n",
       "      <td>4</td>\n",
       "      <td>17</td>\n",
       "      <td>10</td>\n",
       "      <td>85.0</td>\n",
       "      <td>85.0</td>\n",
       "    </tr>\n",
       "    <tr>\n",
       "      <th>1055</th>\n",
       "      <td>4</td>\n",
       "      <td>17</td>\n",
       "      <td>11</td>\n",
       "      <td>39.0</td>\n",
       "      <td>39.0</td>\n",
       "    </tr>\n",
       "  </tbody>\n",
       "</table>\n",
       "</div>"
      ],
      "text/plain": [
       "     room  event_day  event_hour   ass  auth\n",
       "1051    4         17           7   0.0   0.0\n",
       "1052    4         17           8   0.0   0.0\n",
       "1053    4         17           9  72.0  72.0\n",
       "1054    4         17          10  85.0  85.0\n",
       "1055    4         17          11  39.0  39.0"
      ]
     },
     "execution_count": 134,
     "metadata": {},
     "output_type": "execute_result"
    }
   ],
   "source": [
    "df_max_conn.tail()"
   ]
  },
  {
   "cell_type": "code",
   "execution_count": 135,
   "metadata": {
    "collapsed": false
   },
   "outputs": [
    {
     "data": {
      "text/html": [
       "<div>\n",
       "<table border=\"1\" class=\"dataframe\">\n",
       "  <thead>\n",
       "    <tr style=\"text-align: right;\">\n",
       "      <th></th>\n",
       "      <th>room</th>\n",
       "      <th>event_day</th>\n",
       "      <th>event_hour</th>\n",
       "      <th>ass</th>\n",
       "      <th>auth</th>\n",
       "      <th>occupancy</th>\n",
       "      <th>building_x</th>\n",
       "      <th>module</th>\n",
       "      <th>nb_reg_stud</th>\n",
       "      <th>building_y</th>\n",
       "    </tr>\n",
       "  </thead>\n",
       "  <tbody>\n",
       "    <tr>\n",
       "      <th>0</th>\n",
       "      <td>2</td>\n",
       "      <td>3</td>\n",
       "      <td>9</td>\n",
       "      <td>2.0</td>\n",
       "      <td>2.0</td>\n",
       "      <td>0.00</td>\n",
       "      <td>school of computer science</td>\n",
       "      <td>NaN</td>\n",
       "      <td>NaN</td>\n",
       "      <td>school of computer science</td>\n",
       "    </tr>\n",
       "    <tr>\n",
       "      <th>1</th>\n",
       "      <td>2</td>\n",
       "      <td>3</td>\n",
       "      <td>10</td>\n",
       "      <td>29.0</td>\n",
       "      <td>29.0</td>\n",
       "      <td>0.50</td>\n",
       "      <td>school of computer science</td>\n",
       "      <td>COMP30110</td>\n",
       "      <td>45.0</td>\n",
       "      <td>school of computer science</td>\n",
       "    </tr>\n",
       "    <tr>\n",
       "      <th>2</th>\n",
       "      <td>2</td>\n",
       "      <td>3</td>\n",
       "      <td>11</td>\n",
       "      <td>27.0</td>\n",
       "      <td>27.0</td>\n",
       "      <td>0.50</td>\n",
       "      <td>school of computer science</td>\n",
       "      <td>COMP30260</td>\n",
       "      <td>18.0</td>\n",
       "      <td>school of computer science</td>\n",
       "    </tr>\n",
       "    <tr>\n",
       "      <th>3</th>\n",
       "      <td>2</td>\n",
       "      <td>3</td>\n",
       "      <td>12</td>\n",
       "      <td>16.0</td>\n",
       "      <td>16.0</td>\n",
       "      <td>0.50</td>\n",
       "      <td>school of computer science</td>\n",
       "      <td>COMP40370</td>\n",
       "      <td>27.0</td>\n",
       "      <td>school of computer science</td>\n",
       "    </tr>\n",
       "    <tr>\n",
       "      <th>4</th>\n",
       "      <td>2</td>\n",
       "      <td>3</td>\n",
       "      <td>13</td>\n",
       "      <td>13.0</td>\n",
       "      <td>13.0</td>\n",
       "      <td>0.00</td>\n",
       "      <td>school of computer science</td>\n",
       "      <td>NaN</td>\n",
       "      <td>NaN</td>\n",
       "      <td>school of computer science</td>\n",
       "    </tr>\n",
       "    <tr>\n",
       "      <th>5</th>\n",
       "      <td>2</td>\n",
       "      <td>3</td>\n",
       "      <td>14</td>\n",
       "      <td>47.0</td>\n",
       "      <td>47.0</td>\n",
       "      <td>0.75</td>\n",
       "      <td>school of computer science</td>\n",
       "      <td>COMP30240</td>\n",
       "      <td>42.0</td>\n",
       "      <td>school of computer science</td>\n",
       "    </tr>\n",
       "    <tr>\n",
       "      <th>6</th>\n",
       "      <td>2</td>\n",
       "      <td>3</td>\n",
       "      <td>15</td>\n",
       "      <td>35.0</td>\n",
       "      <td>35.0</td>\n",
       "      <td>0.25</td>\n",
       "      <td>school of computer science</td>\n",
       "      <td>COMP30240</td>\n",
       "      <td>42.0</td>\n",
       "      <td>school of computer science</td>\n",
       "    </tr>\n",
       "    <tr>\n",
       "      <th>7</th>\n",
       "      <td>2</td>\n",
       "      <td>3</td>\n",
       "      <td>16</td>\n",
       "      <td>36.5</td>\n",
       "      <td>36.5</td>\n",
       "      <td>0.25</td>\n",
       "      <td>school of computer science</td>\n",
       "      <td>COMP40370</td>\n",
       "      <td>27.0</td>\n",
       "      <td>school of computer science</td>\n",
       "    </tr>\n",
       "    <tr>\n",
       "      <th>8</th>\n",
       "      <td>2</td>\n",
       "      <td>4</td>\n",
       "      <td>9</td>\n",
       "      <td>14.0</td>\n",
       "      <td>14.0</td>\n",
       "      <td>0.25</td>\n",
       "      <td>school of computer science</td>\n",
       "      <td>COMP30190</td>\n",
       "      <td>29.0</td>\n",
       "      <td>school of computer science</td>\n",
       "    </tr>\n",
       "    <tr>\n",
       "      <th>9</th>\n",
       "      <td>2</td>\n",
       "      <td>4</td>\n",
       "      <td>10</td>\n",
       "      <td>15.0</td>\n",
       "      <td>15.0</td>\n",
       "      <td>0.25</td>\n",
       "      <td>school of computer science</td>\n",
       "      <td>COMP40660</td>\n",
       "      <td>53.0</td>\n",
       "      <td>school of computer science</td>\n",
       "    </tr>\n",
       "    <tr>\n",
       "      <th>10</th>\n",
       "      <td>2</td>\n",
       "      <td>4</td>\n",
       "      <td>11</td>\n",
       "      <td>8.0</td>\n",
       "      <td>8.0</td>\n",
       "      <td>0.25</td>\n",
       "      <td>school of computer science</td>\n",
       "      <td>COMP30250</td>\n",
       "      <td>22.0</td>\n",
       "      <td>school of computer science</td>\n",
       "    </tr>\n",
       "    <tr>\n",
       "      <th>11</th>\n",
       "      <td>2</td>\n",
       "      <td>4</td>\n",
       "      <td>12</td>\n",
       "      <td>35.0</td>\n",
       "      <td>35.0</td>\n",
       "      <td>0.50</td>\n",
       "      <td>school of computer science</td>\n",
       "      <td>COMP41690 (Practical)</td>\n",
       "      <td>60.0</td>\n",
       "      <td>school of computer science</td>\n",
       "    </tr>\n",
       "    <tr>\n",
       "      <th>12</th>\n",
       "      <td>2</td>\n",
       "      <td>4</td>\n",
       "      <td>13</td>\n",
       "      <td>24.0</td>\n",
       "      <td>24.0</td>\n",
       "      <td>0.00</td>\n",
       "      <td>school of computer science</td>\n",
       "      <td>COMP41690 (Lecture)</td>\n",
       "      <td>60.0</td>\n",
       "      <td>school of computer science</td>\n",
       "    </tr>\n",
       "    <tr>\n",
       "      <th>13</th>\n",
       "      <td>2</td>\n",
       "      <td>4</td>\n",
       "      <td>14</td>\n",
       "      <td>23.0</td>\n",
       "      <td>23.0</td>\n",
       "      <td>0.25</td>\n",
       "      <td>school of computer science</td>\n",
       "      <td>COMP30220</td>\n",
       "      <td>38.0</td>\n",
       "      <td>school of computer science</td>\n",
       "    </tr>\n",
       "    <tr>\n",
       "      <th>14</th>\n",
       "      <td>2</td>\n",
       "      <td>4</td>\n",
       "      <td>15</td>\n",
       "      <td>5.0</td>\n",
       "      <td>5.0</td>\n",
       "      <td>0.00</td>\n",
       "      <td>school of computer science</td>\n",
       "      <td>COMP30520 &amp; COMP41110</td>\n",
       "      <td>79.0</td>\n",
       "      <td>school of computer science</td>\n",
       "    </tr>\n",
       "  </tbody>\n",
       "</table>\n",
       "</div>"
      ],
      "text/plain": [
       "    room  event_day  event_hour   ass  auth  occupancy  \\\n",
       "0      2          3           9   2.0   2.0       0.00   \n",
       "1      2          3          10  29.0  29.0       0.50   \n",
       "2      2          3          11  27.0  27.0       0.50   \n",
       "3      2          3          12  16.0  16.0       0.50   \n",
       "4      2          3          13  13.0  13.0       0.00   \n",
       "5      2          3          14  47.0  47.0       0.75   \n",
       "6      2          3          15  35.0  35.0       0.25   \n",
       "7      2          3          16  36.5  36.5       0.25   \n",
       "8      2          4           9  14.0  14.0       0.25   \n",
       "9      2          4          10  15.0  15.0       0.25   \n",
       "10     2          4          11   8.0   8.0       0.25   \n",
       "11     2          4          12  35.0  35.0       0.50   \n",
       "12     2          4          13  24.0  24.0       0.00   \n",
       "13     2          4          14  23.0  23.0       0.25   \n",
       "14     2          4          15   5.0   5.0       0.00   \n",
       "\n",
       "                    building_x                 module  nb_reg_stud  \\\n",
       "0   school of computer science                    NaN          NaN   \n",
       "1   school of computer science              COMP30110         45.0   \n",
       "2   school of computer science              COMP30260         18.0   \n",
       "3   school of computer science              COMP40370         27.0   \n",
       "4   school of computer science                    NaN          NaN   \n",
       "5   school of computer science              COMP30240         42.0   \n",
       "6   school of computer science              COMP30240         42.0   \n",
       "7   school of computer science              COMP40370         27.0   \n",
       "8   school of computer science              COMP30190         29.0   \n",
       "9   school of computer science              COMP40660         53.0   \n",
       "10  school of computer science              COMP30250         22.0   \n",
       "11  school of computer science  COMP41690 (Practical)         60.0   \n",
       "12  school of computer science    COMP41690 (Lecture)         60.0   \n",
       "13  school of computer science              COMP30220         38.0   \n",
       "14  school of computer science  COMP30520 & COMP41110         79.0   \n",
       "\n",
       "                    building_y  \n",
       "0   school of computer science  \n",
       "1   school of computer science  \n",
       "2   school of computer science  \n",
       "3   school of computer science  \n",
       "4   school of computer science  \n",
       "5   school of computer science  \n",
       "6   school of computer science  \n",
       "7   school of computer science  \n",
       "8   school of computer science  \n",
       "9   school of computer science  \n",
       "10  school of computer science  \n",
       "11  school of computer science  \n",
       "12  school of computer science  \n",
       "13  school of computer science  \n",
       "14  school of computer science  "
      ]
     },
     "execution_count": 135,
     "metadata": {},
     "output_type": "execute_result"
    }
   ],
   "source": [
    "# merge data into single dataframe\n",
    "df_max_conn['room'] = df_max_conn['room'].astype(int)\n",
    "df = pd.merge(df_max_conn, occupancy_df, on=['room', 'event_day', 'event_hour'], how='inner')\n",
    "df = pd.merge(df, timetable_df, on=['room', 'event_day', 'event_hour'], how='inner')\n",
    "\n",
    "df.head(15)"
   ]
  },
  {
   "cell_type": "code",
   "execution_count": 136,
   "metadata": {
    "collapsed": true
   },
   "outputs": [],
   "source": [
    "# add column for number of estimated occupants based on room capacity * occupancy rate\n",
    "\n",
    "def estimate_occ(df,room, occupancy_rate):\n",
    "    '''function that caluclates the estimated number of room occupants\n",
    "    \n",
    "    parameters\n",
    "    ----------\n",
    "    df is a dataframe with columns room and occupancy_rate\n",
    "    room is a string denoting a column in df that contains INT values representing room IDs\n",
    "    occupancy_rate is a string denoting a column in df that contains DECIMAL values that represent the estimated room occupancy rate\n",
    "    \n",
    "    '''\n",
    "    #for loop that iterates through each row of the df\n",
    "    for i in range(df.shape[0]):\n",
    "        \n",
    "        #room two and three have capacity of 90\n",
    "        if df[room][i] == 2 or df[room][i] == 3:\n",
    "            # calculate estimated occupants for row, assign to variable 'est'\n",
    "            est = df[occupancy_rate][i] * 90\n",
    "            #set value in new column\n",
    "            df.set_value(i, 'est_occupants', est)\n",
    "        \n",
    "        #room four has a capcity of 220\n",
    "        elif df[room][i] == 4:\n",
    "            est = df[occupancy_rate][i] * 220\n",
    "            df.set_value(i, 'est_occupants', est)\n",
    "        \n",
    "        else:\n",
    "            raise ValueError('Incorrect room number:', df[room][i])\n",
    "            "
   ]
  },
  {
   "cell_type": "code",
   "execution_count": 137,
   "metadata": {
    "collapsed": false
   },
   "outputs": [
    {
     "data": {
      "text/html": [
       "<div>\n",
       "<table border=\"1\" class=\"dataframe\">\n",
       "  <thead>\n",
       "    <tr style=\"text-align: right;\">\n",
       "      <th></th>\n",
       "      <th>room</th>\n",
       "      <th>event_day</th>\n",
       "      <th>event_hour</th>\n",
       "      <th>ass</th>\n",
       "      <th>auth</th>\n",
       "      <th>occupancy</th>\n",
       "      <th>building_x</th>\n",
       "      <th>module</th>\n",
       "      <th>nb_reg_stud</th>\n",
       "      <th>building_y</th>\n",
       "      <th>est_occupants</th>\n",
       "    </tr>\n",
       "  </thead>\n",
       "  <tbody>\n",
       "    <tr>\n",
       "      <th>0</th>\n",
       "      <td>2</td>\n",
       "      <td>3</td>\n",
       "      <td>9</td>\n",
       "      <td>2.0</td>\n",
       "      <td>2.0</td>\n",
       "      <td>0.0</td>\n",
       "      <td>school of computer science</td>\n",
       "      <td>NaN</td>\n",
       "      <td>NaN</td>\n",
       "      <td>school of computer science</td>\n",
       "      <td>0.0</td>\n",
       "    </tr>\n",
       "    <tr>\n",
       "      <th>1</th>\n",
       "      <td>2</td>\n",
       "      <td>3</td>\n",
       "      <td>10</td>\n",
       "      <td>29.0</td>\n",
       "      <td>29.0</td>\n",
       "      <td>0.5</td>\n",
       "      <td>school of computer science</td>\n",
       "      <td>COMP30110</td>\n",
       "      <td>45.0</td>\n",
       "      <td>school of computer science</td>\n",
       "      <td>45.0</td>\n",
       "    </tr>\n",
       "    <tr>\n",
       "      <th>2</th>\n",
       "      <td>2</td>\n",
       "      <td>3</td>\n",
       "      <td>11</td>\n",
       "      <td>27.0</td>\n",
       "      <td>27.0</td>\n",
       "      <td>0.5</td>\n",
       "      <td>school of computer science</td>\n",
       "      <td>COMP30260</td>\n",
       "      <td>18.0</td>\n",
       "      <td>school of computer science</td>\n",
       "      <td>45.0</td>\n",
       "    </tr>\n",
       "    <tr>\n",
       "      <th>3</th>\n",
       "      <td>2</td>\n",
       "      <td>3</td>\n",
       "      <td>12</td>\n",
       "      <td>16.0</td>\n",
       "      <td>16.0</td>\n",
       "      <td>0.5</td>\n",
       "      <td>school of computer science</td>\n",
       "      <td>COMP40370</td>\n",
       "      <td>27.0</td>\n",
       "      <td>school of computer science</td>\n",
       "      <td>45.0</td>\n",
       "    </tr>\n",
       "    <tr>\n",
       "      <th>4</th>\n",
       "      <td>2</td>\n",
       "      <td>3</td>\n",
       "      <td>13</td>\n",
       "      <td>13.0</td>\n",
       "      <td>13.0</td>\n",
       "      <td>0.0</td>\n",
       "      <td>school of computer science</td>\n",
       "      <td>NaN</td>\n",
       "      <td>NaN</td>\n",
       "      <td>school of computer science</td>\n",
       "      <td>0.0</td>\n",
       "    </tr>\n",
       "  </tbody>\n",
       "</table>\n",
       "</div>"
      ],
      "text/plain": [
       "   room  event_day  event_hour   ass  auth  occupancy  \\\n",
       "0     2          3           9   2.0   2.0        0.0   \n",
       "1     2          3          10  29.0  29.0        0.5   \n",
       "2     2          3          11  27.0  27.0        0.5   \n",
       "3     2          3          12  16.0  16.0        0.5   \n",
       "4     2          3          13  13.0  13.0        0.0   \n",
       "\n",
       "                   building_x     module  nb_reg_stud  \\\n",
       "0  school of computer science        NaN          NaN   \n",
       "1  school of computer science  COMP30110         45.0   \n",
       "2  school of computer science  COMP30260         18.0   \n",
       "3  school of computer science  COMP40370         27.0   \n",
       "4  school of computer science        NaN          NaN   \n",
       "\n",
       "                   building_y  est_occupants  \n",
       "0  school of computer science            0.0  \n",
       "1  school of computer science           45.0  \n",
       "2  school of computer science           45.0  \n",
       "3  school of computer science           45.0  \n",
       "4  school of computer science            0.0  "
      ]
     },
     "execution_count": 137,
     "metadata": {},
     "output_type": "execute_result"
    }
   ],
   "source": [
    "estimate_occ(df, 'room', 'occupancy')\n",
    "\n",
    "df.head()"
   ]
  },
  {
   "cell_type": "markdown",
   "metadata": {},
   "source": [
    "# Linear Regression Model"
   ]
  },
  {
   "cell_type": "code",
   "execution_count": 33,
   "metadata": {
    "collapsed": true
   },
   "outputs": [],
   "source": [
    "import statsmodels.formula.api as sm"
   ]
  },
  {
   "cell_type": "code",
   "execution_count": 34,
   "metadata": {
    "collapsed": false
   },
   "outputs": [],
   "source": [
    "# can also use associated but higher correlation with authenticated \n",
    "lm = sm.ols(formula='est_occupants ~ auth', data=full_df).fit()"
   ]
  },
  {
   "cell_type": "code",
   "execution_count": 35,
   "metadata": {
    "collapsed": false
   },
   "outputs": [
    {
     "name": "stdout",
     "output_type": "stream",
     "text": [
      "Intercept    5.190533\n",
      "auth         0.884521\n",
      "dtype: float64\n"
     ]
    }
   ],
   "source": [
    "print(lm.params)"
   ]
  },
  {
   "cell_type": "code",
   "execution_count": 36,
   "metadata": {
    "collapsed": false
   },
   "outputs": [
    {
     "name": "stdout",
     "output_type": "stream",
     "text": [
      "                            OLS Regression Results                            \n",
      "==============================================================================\n",
      "Dep. Variable:          est_occupants   R-squared:                       0.584\n",
      "Model:                            OLS   Adj. R-squared:                  0.582\n",
      "Method:                 Least Squares   F-statistic:                     300.9\n",
      "Date:                Fri, 15 Jul 2016   Prob (F-statistic):           1.13e-42\n",
      "Time:                        10:50:02   Log-Likelihood:                -976.97\n",
      "No. Observations:                 216   AIC:                             1958.\n",
      "Df Residuals:                     214   BIC:                             1965.\n",
      "Df Model:                           1                                         \n",
      "Covariance Type:            nonrobust                                         \n",
      "==============================================================================\n",
      "                 coef    std err          t      P>|t|      [95.0% Conf. Int.]\n",
      "------------------------------------------------------------------------------\n",
      "Intercept      5.1905      2.201      2.359      0.019         0.853     9.528\n",
      "auth           0.8845      0.051     17.346      0.000         0.784     0.985\n",
      "==============================================================================\n",
      "Omnibus:                       44.154   Durbin-Watson:                   1.698\n",
      "Prob(Omnibus):                  0.000   Jarque-Bera (JB):              103.088\n",
      "Skew:                           0.930   Prob(JB):                     4.12e-23\n",
      "Kurtosis:                       5.827   Cond. No.                         62.3\n",
      "==============================================================================\n",
      "\n",
      "Warnings:\n",
      "[1] Standard Errors assume that the covariance matrix of the errors is correctly specified.\n"
     ]
    }
   ],
   "source": [
    "print(lm.summary())"
   ]
  },
  {
   "cell_type": "code",
   "execution_count": 37,
   "metadata": {
    "collapsed": false
   },
   "outputs": [],
   "source": [
    "full_df['prediction_max'] = None\n",
    "\n",
    "for i in range(full_df.shape[0]):\n",
    "    full_df.set_value(i, 'prediction_max', full_df['auth'][i] * lm.params['auth'])"
   ]
  },
  {
   "cell_type": "code",
   "execution_count": 38,
   "metadata": {
    "collapsed": true
   },
   "outputs": [],
   "source": [
    "# add column to dataframe for prediction category\n",
    "full_df['cat_predict'] = None"
   ]
  },
  {
   "cell_type": "code",
   "execution_count": 39,
   "metadata": {
    "collapsed": true
   },
   "outputs": [],
   "source": [
    "def set_occupancy_category(df, room, linear_predict, cat_predict):\n",
    "    '''function that converts linear predictions to a defined category and updates the dataframe passed through\n",
    "    \n",
    "    Parameters\n",
    "    ----------\n",
    "    df: a dataframe\n",
    "    room: a string that is the column in df containing room id values of type INT\n",
    "    linear_predict: a string that is the column in df containing linear predictions\n",
    "    cat_predict: a string that is the column in df that will containing category predictions\n",
    "    \n",
    "    '''\n",
    "    \n",
    "    for i in range(df.shape[0]):\n",
    "        \n",
    "        # assign room capacity\n",
    "        if df[room][i] == 2 or df[room][i] == 3:\n",
    "            cap = 90\n",
    "        elif df[room][i] == 4:\n",
    "            cap = 200\n",
    "            \n",
    "        # calculate the occupancy rate and assign to variable 'ratio'\n",
    "        ratio = df[linear_predict][i]/ cap\n",
    "        \n",
    "        # assign category based on ratio\n",
    "        if ratio < 0.13:\n",
    "            cat = 0.0\n",
    "        elif ratio < 0.38:\n",
    "            cat =  0.25\n",
    "        elif ratio < 0.5:\n",
    "            cat =  0.5\n",
    "        elif ratio < 0.88:\n",
    "            cat =  0.75\n",
    "        else:\n",
    "            cat =  1.0\n",
    "        \n",
    "        # set category value in df\n",
    "        df.set_value(i, cat_predict, cat)"
   ]
  },
  {
   "cell_type": "code",
   "execution_count": 40,
   "metadata": {
    "collapsed": true
   },
   "outputs": [],
   "source": [
    "set_occupancy_category(full_df, 'room', 'prediction_max', 'cat_predict')"
   ]
  },
  {
   "cell_type": "code",
   "execution_count": 41,
   "metadata": {
    "collapsed": false
   },
   "outputs": [
    {
     "data": {
      "text/html": [
       "<div>\n",
       "<table border=\"1\" class=\"dataframe\">\n",
       "  <thead>\n",
       "    <tr style=\"text-align: right;\">\n",
       "      <th></th>\n",
       "      <th>room</th>\n",
       "      <th>event_day</th>\n",
       "      <th>event_hour</th>\n",
       "      <th>ass</th>\n",
       "      <th>auth</th>\n",
       "      <th>occupancy</th>\n",
       "      <th>building</th>\n",
       "      <th>est_occupants</th>\n",
       "      <th>prediction_max</th>\n",
       "      <th>cat_predict</th>\n",
       "    </tr>\n",
       "  </thead>\n",
       "  <tbody>\n",
       "    <tr>\n",
       "      <th>0</th>\n",
       "      <td>2</td>\n",
       "      <td>3</td>\n",
       "      <td>9</td>\n",
       "      <td>2.0</td>\n",
       "      <td>2.0</td>\n",
       "      <td>0.0</td>\n",
       "      <td>school of computer science</td>\n",
       "      <td>0.0</td>\n",
       "      <td>1.76904</td>\n",
       "      <td>0</td>\n",
       "    </tr>\n",
       "    <tr>\n",
       "      <th>1</th>\n",
       "      <td>2</td>\n",
       "      <td>3</td>\n",
       "      <td>10</td>\n",
       "      <td>29.0</td>\n",
       "      <td>29.0</td>\n",
       "      <td>0.5</td>\n",
       "      <td>school of computer science</td>\n",
       "      <td>45.0</td>\n",
       "      <td>25.6511</td>\n",
       "      <td>0.25</td>\n",
       "    </tr>\n",
       "    <tr>\n",
       "      <th>2</th>\n",
       "      <td>2</td>\n",
       "      <td>3</td>\n",
       "      <td>11</td>\n",
       "      <td>27.0</td>\n",
       "      <td>27.0</td>\n",
       "      <td>0.5</td>\n",
       "      <td>school of computer science</td>\n",
       "      <td>45.0</td>\n",
       "      <td>23.8821</td>\n",
       "      <td>0.25</td>\n",
       "    </tr>\n",
       "    <tr>\n",
       "      <th>3</th>\n",
       "      <td>2</td>\n",
       "      <td>3</td>\n",
       "      <td>12</td>\n",
       "      <td>16.0</td>\n",
       "      <td>16.0</td>\n",
       "      <td>0.5</td>\n",
       "      <td>school of computer science</td>\n",
       "      <td>45.0</td>\n",
       "      <td>14.1523</td>\n",
       "      <td>0.25</td>\n",
       "    </tr>\n",
       "    <tr>\n",
       "      <th>4</th>\n",
       "      <td>2</td>\n",
       "      <td>3</td>\n",
       "      <td>13</td>\n",
       "      <td>13.0</td>\n",
       "      <td>13.0</td>\n",
       "      <td>0.0</td>\n",
       "      <td>school of computer science</td>\n",
       "      <td>0.0</td>\n",
       "      <td>11.4988</td>\n",
       "      <td>0</td>\n",
       "    </tr>\n",
       "  </tbody>\n",
       "</table>\n",
       "</div>"
      ],
      "text/plain": [
       "   room  event_day  event_hour   ass  auth  occupancy  \\\n",
       "0     2          3           9   2.0   2.0        0.0   \n",
       "1     2          3          10  29.0  29.0        0.5   \n",
       "2     2          3          11  27.0  27.0        0.5   \n",
       "3     2          3          12  16.0  16.0        0.5   \n",
       "4     2          3          13  13.0  13.0        0.0   \n",
       "\n",
       "                     building  est_occupants prediction_max cat_predict  \n",
       "0  school of computer science            0.0        1.76904           0  \n",
       "1  school of computer science           45.0        25.6511        0.25  \n",
       "2  school of computer science           45.0        23.8821        0.25  \n",
       "3  school of computer science           45.0        14.1523        0.25  \n",
       "4  school of computer science            0.0        11.4988           0  "
      ]
     },
     "execution_count": 41,
     "metadata": {},
     "output_type": "execute_result"
    }
   ],
   "source": [
    "full_df.head()"
   ]
  },
  {
   "cell_type": "markdown",
   "metadata": {},
   "source": [
    "Check accuracy of model according to survey data"
   ]
  },
  {
   "cell_type": "code",
   "execution_count": 42,
   "metadata": {
    "collapsed": true
   },
   "outputs": [],
   "source": [
    "full_df['accurate'] = None\n",
    "\n",
    "for i in range(full_df.shape[0]):\n",
    "    full_df.set_value(i, 'accurate', 1 if full_df['occupancy'][i] == full_df['cat_predict'][i] else 0)"
   ]
  },
  {
   "cell_type": "code",
   "execution_count": 43,
   "metadata": {
    "collapsed": false
   },
   "outputs": [
    {
     "data": {
      "text/html": [
       "<div>\n",
       "<table border=\"1\" class=\"dataframe\">\n",
       "  <thead>\n",
       "    <tr style=\"text-align: right;\">\n",
       "      <th></th>\n",
       "      <th>room</th>\n",
       "      <th>event_day</th>\n",
       "      <th>event_hour</th>\n",
       "      <th>ass</th>\n",
       "      <th>auth</th>\n",
       "      <th>occupancy</th>\n",
       "      <th>building</th>\n",
       "      <th>est_occupants</th>\n",
       "      <th>prediction_max</th>\n",
       "      <th>cat_predict</th>\n",
       "      <th>accurate</th>\n",
       "    </tr>\n",
       "  </thead>\n",
       "  <tbody>\n",
       "    <tr>\n",
       "      <th>0</th>\n",
       "      <td>2</td>\n",
       "      <td>3</td>\n",
       "      <td>9</td>\n",
       "      <td>2.0</td>\n",
       "      <td>2.0</td>\n",
       "      <td>0.0</td>\n",
       "      <td>school of computer science</td>\n",
       "      <td>0.0</td>\n",
       "      <td>1.76904</td>\n",
       "      <td>0</td>\n",
       "      <td>1</td>\n",
       "    </tr>\n",
       "    <tr>\n",
       "      <th>1</th>\n",
       "      <td>2</td>\n",
       "      <td>3</td>\n",
       "      <td>10</td>\n",
       "      <td>29.0</td>\n",
       "      <td>29.0</td>\n",
       "      <td>0.5</td>\n",
       "      <td>school of computer science</td>\n",
       "      <td>45.0</td>\n",
       "      <td>25.6511</td>\n",
       "      <td>0.25</td>\n",
       "      <td>0</td>\n",
       "    </tr>\n",
       "    <tr>\n",
       "      <th>2</th>\n",
       "      <td>2</td>\n",
       "      <td>3</td>\n",
       "      <td>11</td>\n",
       "      <td>27.0</td>\n",
       "      <td>27.0</td>\n",
       "      <td>0.5</td>\n",
       "      <td>school of computer science</td>\n",
       "      <td>45.0</td>\n",
       "      <td>23.8821</td>\n",
       "      <td>0.25</td>\n",
       "      <td>0</td>\n",
       "    </tr>\n",
       "    <tr>\n",
       "      <th>3</th>\n",
       "      <td>2</td>\n",
       "      <td>3</td>\n",
       "      <td>12</td>\n",
       "      <td>16.0</td>\n",
       "      <td>16.0</td>\n",
       "      <td>0.5</td>\n",
       "      <td>school of computer science</td>\n",
       "      <td>45.0</td>\n",
       "      <td>14.1523</td>\n",
       "      <td>0.25</td>\n",
       "      <td>0</td>\n",
       "    </tr>\n",
       "    <tr>\n",
       "      <th>4</th>\n",
       "      <td>2</td>\n",
       "      <td>3</td>\n",
       "      <td>13</td>\n",
       "      <td>13.0</td>\n",
       "      <td>13.0</td>\n",
       "      <td>0.0</td>\n",
       "      <td>school of computer science</td>\n",
       "      <td>0.0</td>\n",
       "      <td>11.4988</td>\n",
       "      <td>0</td>\n",
       "      <td>1</td>\n",
       "    </tr>\n",
       "  </tbody>\n",
       "</table>\n",
       "</div>"
      ],
      "text/plain": [
       "   room  event_day  event_hour   ass  auth  occupancy  \\\n",
       "0     2          3           9   2.0   2.0        0.0   \n",
       "1     2          3          10  29.0  29.0        0.5   \n",
       "2     2          3          11  27.0  27.0        0.5   \n",
       "3     2          3          12  16.0  16.0        0.5   \n",
       "4     2          3          13  13.0  13.0        0.0   \n",
       "\n",
       "                     building  est_occupants prediction_max cat_predict  \\\n",
       "0  school of computer science            0.0        1.76904           0   \n",
       "1  school of computer science           45.0        25.6511        0.25   \n",
       "2  school of computer science           45.0        23.8821        0.25   \n",
       "3  school of computer science           45.0        14.1523        0.25   \n",
       "4  school of computer science            0.0        11.4988           0   \n",
       "\n",
       "  accurate  \n",
       "0        1  \n",
       "1        0  \n",
       "2        0  \n",
       "3        0  \n",
       "4        1  "
      ]
     },
     "execution_count": 43,
     "metadata": {},
     "output_type": "execute_result"
    }
   ],
   "source": [
    "full_df.head()"
   ]
  },
  {
   "cell_type": "code",
   "execution_count": 44,
   "metadata": {
    "collapsed": false
   },
   "outputs": [
    {
     "data": {
      "text/plain": [
       "0.6435185185185185"
      ]
     },
     "execution_count": 44,
     "metadata": {},
     "output_type": "execute_result"
    }
   ],
   "source": [
    "accuracy = full_df['accurate'].sum()/full_df.shape[0]\n",
    "accuracy"
   ]
  },
  {
   "cell_type": "code",
   "execution_count": null,
   "metadata": {
    "collapsed": true
   },
   "outputs": [],
   "source": []
  },
  {
   "cell_type": "code",
   "execution_count": null,
   "metadata": {
    "collapsed": true
   },
   "outputs": [],
   "source": []
  }
 ],
 "metadata": {
  "kernelspec": {
   "display_name": "Python 3",
   "language": "python",
   "name": "python3"
  },
  "language_info": {
   "codemirror_mode": {
    "name": "ipython",
    "version": 3
   },
   "file_extension": ".py",
   "mimetype": "text/x-python",
   "name": "python",
   "nbconvert_exporter": "python",
   "pygments_lexer": "ipython3",
   "version": "3.5.1+"
  }
 },
 "nbformat": 4,
 "nbformat_minor": 0
}
